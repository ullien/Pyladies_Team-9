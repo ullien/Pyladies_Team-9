{
 "cells": [
  {
   "cell_type": "markdown",
   "metadata": {},
   "source": [
    "# Capstone project collaboration Team-9\n",
    "# Bootcamp in Data Analysis/ Pyladies Amsterdam 2020\n",
    "# COVID-19: Myths and facts "
   ]
  },
  {
   "cell_type": "markdown",
   "metadata": {},
   "source": [
    "## Motivation:\n",
    "**Covid-19 is a new virus, but it has already been a subject of a few conspiracy theories. We have decided to take a role of MythBusters by using data analysis. We had a lot of ideas, but unfortunately in regards with some rumours, we were lacking the data.**\n",
    "\n",
    "These are the questions: \n",
    " *  What is the most Covid-19 affected continent in terms of infected cases and deaths?\n",
    " *  Do countries where BCG vaccine was widely implemented have higher life expectancy and lower infant mortality? \n",
    " *  Do countries where BCG vaccine was widely implemented have fewer infection rates per million?\n",
    " *  Do countries with higher life expectancy suffer more from Covid-19 in terms of deaths recorded?\n",
    " *  What country has the highest ratio of recovered cases?"
   ]
  },
  {
   "cell_type": "markdown",
   "metadata": {},
   "source": [
    "## Data\n",
    "\n",
    "* [Heath indicators from Kaggle](https://www.kaggle.com/nxpnsv/country-health-indicators)\n",
    "\n",
    "* [Covid-19 data as of 31.05.20 from Worldometers ](https://www.worldometers.info/coronavirus/)\n",
    "\n",
    "**Variables we use from these datasets**\n",
    " * Country/Region and Continent\n",
    " * BCG immunization coverage among 1-year-olds (%)\n",
    " * Life expectancy at birth\n",
    " * Infant mortality rate (IMR) is the number of deaths per 1,000 live births of children under one year of age. \n",
    " * Total cases of Covid-19 by country as of 31/05/20\n",
    " * Total cases of Covid-19 per 1 million of population by country as of 31/05/20\n",
    " * Total deaths of Covid-19 by country as of 31/05/20 \n",
    " * Total reported recovered cases of Covid-19 as of 31/05/20 "
   ]
  },
  {
   "cell_type": "markdown",
   "metadata": {},
   "source": [
    "## Data cleaning"
   ]
  },
  {
   "cell_type": "code",
   "execution_count": 581,
   "metadata": {},
   "outputs": [],
   "source": [
    "# Importing the necessery libraries\n",
    "import pandas as pd\n",
    "import numpy as np\n",
    "import statsmodels.api as sm\n",
    "import matplotlib.pyplot as plt #visualisation\n",
    "%matplotlib inline "
   ]
  },
  {
   "cell_type": "code",
   "execution_count": 582,
   "metadata": {},
   "outputs": [],
   "source": [
    "# Read the data and store it in chosen variable\n",
    "health_indicators = 'data_team-9/health_indicators.csv'\n",
    "health_df = pd.read_csv(health_indicators)\n",
    "covid19_file = 'data_team-9/worldometers_coronavirus.csv'\n",
    "covid19_df = pd.read_csv(covid19_file)"
   ]
  },
  {
   "cell_type": "code",
   "execution_count": 583,
   "metadata": {},
   "outputs": [
    {
     "data": {
      "text/html": [
       "<div>\n",
       "<style scoped>\n",
       "    .dataframe tbody tr th:only-of-type {\n",
       "        vertical-align: middle;\n",
       "    }\n",
       "\n",
       "    .dataframe tbody tr th {\n",
       "        vertical-align: top;\n",
       "    }\n",
       "\n",
       "    .dataframe thead th {\n",
       "        text-align: right;\n",
       "    }\n",
       "</style>\n",
       "<table border=\"1\" class=\"dataframe\">\n",
       "  <thead>\n",
       "    <tr style=\"text-align: right;\">\n",
       "      <th></th>\n",
       "      <th>Country_Region</th>\n",
       "      <th>first_1ConfirmedCases</th>\n",
       "      <th>first_1Fatalities</th>\n",
       "      <th>first_10ConfirmedCases</th>\n",
       "      <th>first_50ConfirmedCases</th>\n",
       "      <th>first_100ConfirmedCases</th>\n",
       "      <th>cases_growth</th>\n",
       "      <th>death_growth</th>\n",
       "      <th>Cardiovascular diseases (%)</th>\n",
       "      <th>Cancers (%)</th>\n",
       "      <th>...</th>\n",
       "      <th>total fertility rate</th>\n",
       "      <th>obesity - adult prevalence rate</th>\n",
       "      <th>school_shutdown_1case</th>\n",
       "      <th>school_shutdown_10case</th>\n",
       "      <th>school_shutdown_50case</th>\n",
       "      <th>school_shutdown_1death</th>\n",
       "      <th>FF_DayOfYear</th>\n",
       "      <th>case1_DayOfYear</th>\n",
       "      <th>case10_DayOfYear</th>\n",
       "      <th>case50_DayOfYear</th>\n",
       "    </tr>\n",
       "  </thead>\n",
       "  <tbody>\n",
       "    <tr>\n",
       "      <td>0</td>\n",
       "      <td>Afghanistan</td>\n",
       "      <td>2020-02-24</td>\n",
       "      <td>2020-03-22</td>\n",
       "      <td>2020-03-14</td>\n",
       "      <td>2020-03-24</td>\n",
       "      <td>2020-03-27</td>\n",
       "      <td>0.174179</td>\n",
       "      <td>0.083333</td>\n",
       "      <td>8.953006</td>\n",
       "      <td>3.372082</td>\n",
       "      <td>...</td>\n",
       "      <td>4.82</td>\n",
       "      <td>5.5</td>\n",
       "      <td>19.0</td>\n",
       "      <td>-0.0</td>\n",
       "      <td>-10.0</td>\n",
       "      <td>-8.0</td>\n",
       "      <td>82.0</td>\n",
       "      <td>55</td>\n",
       "      <td>74.0</td>\n",
       "      <td>84.0</td>\n",
       "    </tr>\n",
       "    <tr>\n",
       "      <td>1</td>\n",
       "      <td>Albania</td>\n",
       "      <td>2020-03-09</td>\n",
       "      <td>2020-03-11</td>\n",
       "      <td>2020-03-10</td>\n",
       "      <td>2020-03-16</td>\n",
       "      <td>2020-03-23</td>\n",
       "      <td>0.068699</td>\n",
       "      <td>0.130051</td>\n",
       "      <td>27.016784</td>\n",
       "      <td>13.225390</td>\n",
       "      <td>...</td>\n",
       "      <td>1.53</td>\n",
       "      <td>21.7</td>\n",
       "      <td>2.0</td>\n",
       "      <td>1.0</td>\n",
       "      <td>-5.0</td>\n",
       "      <td>-0.0</td>\n",
       "      <td>71.0</td>\n",
       "      <td>69</td>\n",
       "      <td>70.0</td>\n",
       "      <td>76.0</td>\n",
       "    </tr>\n",
       "    <tr>\n",
       "      <td>2</td>\n",
       "      <td>Algeria</td>\n",
       "      <td>2020-02-25</td>\n",
       "      <td>2020-03-12</td>\n",
       "      <td>2020-03-04</td>\n",
       "      <td>2020-03-16</td>\n",
       "      <td>2020-03-21</td>\n",
       "      <td>0.158588</td>\n",
       "      <td>0.228578</td>\n",
       "      <td>17.005476</td>\n",
       "      <td>6.481729</td>\n",
       "      <td>...</td>\n",
       "      <td>2.59</td>\n",
       "      <td>27.4</td>\n",
       "      <td>16.0</td>\n",
       "      <td>8.0</td>\n",
       "      <td>-4.0</td>\n",
       "      <td>-0.0</td>\n",
       "      <td>72.0</td>\n",
       "      <td>56</td>\n",
       "      <td>64.0</td>\n",
       "      <td>76.0</td>\n",
       "    </tr>\n",
       "    <tr>\n",
       "      <td>3</td>\n",
       "      <td>Andorra</td>\n",
       "      <td>2020-03-02</td>\n",
       "      <td>2020-03-22</td>\n",
       "      <td>2020-03-17</td>\n",
       "      <td>2020-03-19</td>\n",
       "      <td>2020-03-22</td>\n",
       "      <td>0.082774</td>\n",
       "      <td>0.345238</td>\n",
       "      <td>13.784688</td>\n",
       "      <td>17.879279</td>\n",
       "      <td>...</td>\n",
       "      <td>1.43</td>\n",
       "      <td>25.6</td>\n",
       "      <td>14.0</td>\n",
       "      <td>-1.0</td>\n",
       "      <td>-3.0</td>\n",
       "      <td>-6.0</td>\n",
       "      <td>82.0</td>\n",
       "      <td>62</td>\n",
       "      <td>77.0</td>\n",
       "      <td>79.0</td>\n",
       "    </tr>\n",
       "    <tr>\n",
       "      <td>4</td>\n",
       "      <td>Angola</td>\n",
       "      <td>2020-03-20</td>\n",
       "      <td>2020-03-29</td>\n",
       "      <td>NaN</td>\n",
       "      <td>NaN</td>\n",
       "      <td>NaN</td>\n",
       "      <td>0.132143</td>\n",
       "      <td>0.000000</td>\n",
       "      <td>4.480300</td>\n",
       "      <td>3.011632</td>\n",
       "      <td>...</td>\n",
       "      <td>5.96</td>\n",
       "      <td>8.2</td>\n",
       "      <td>4.0</td>\n",
       "      <td>NaN</td>\n",
       "      <td>NaN</td>\n",
       "      <td>-5.0</td>\n",
       "      <td>89.0</td>\n",
       "      <td>80</td>\n",
       "      <td>NaN</td>\n",
       "      <td>NaN</td>\n",
       "    </tr>\n",
       "  </tbody>\n",
       "</table>\n",
       "<p>5 rows × 70 columns</p>\n",
       "</div>"
      ],
      "text/plain": [
       "  Country_Region first_1ConfirmedCases first_1Fatalities  \\\n",
       "0    Afghanistan            2020-02-24        2020-03-22   \n",
       "1        Albania            2020-03-09        2020-03-11   \n",
       "2        Algeria            2020-02-25        2020-03-12   \n",
       "3        Andorra            2020-03-02        2020-03-22   \n",
       "4         Angola            2020-03-20        2020-03-29   \n",
       "\n",
       "  first_10ConfirmedCases first_50ConfirmedCases first_100ConfirmedCases  \\\n",
       "0             2020-03-14             2020-03-24              2020-03-27   \n",
       "1             2020-03-10             2020-03-16              2020-03-23   \n",
       "2             2020-03-04             2020-03-16              2020-03-21   \n",
       "3             2020-03-17             2020-03-19              2020-03-22   \n",
       "4                    NaN                    NaN                     NaN   \n",
       "\n",
       "   cases_growth  death_growth  Cardiovascular diseases (%)  Cancers (%)  ...  \\\n",
       "0      0.174179      0.083333                     8.953006     3.372082  ...   \n",
       "1      0.068699      0.130051                    27.016784    13.225390  ...   \n",
       "2      0.158588      0.228578                    17.005476     6.481729  ...   \n",
       "3      0.082774      0.345238                    13.784688    17.879279  ...   \n",
       "4      0.132143      0.000000                     4.480300     3.011632  ...   \n",
       "\n",
       "   total fertility rate  obesity - adult prevalence rate  \\\n",
       "0                  4.82                              5.5   \n",
       "1                  1.53                             21.7   \n",
       "2                  2.59                             27.4   \n",
       "3                  1.43                             25.6   \n",
       "4                  5.96                              8.2   \n",
       "\n",
       "   school_shutdown_1case  school_shutdown_10case  school_shutdown_50case  \\\n",
       "0                   19.0                    -0.0                   -10.0   \n",
       "1                    2.0                     1.0                    -5.0   \n",
       "2                   16.0                     8.0                    -4.0   \n",
       "3                   14.0                    -1.0                    -3.0   \n",
       "4                    4.0                     NaN                     NaN   \n",
       "\n",
       "   school_shutdown_1death  FF_DayOfYear  case1_DayOfYear  case10_DayOfYear  \\\n",
       "0                    -8.0          82.0               55              74.0   \n",
       "1                    -0.0          71.0               69              70.0   \n",
       "2                    -0.0          72.0               56              64.0   \n",
       "3                    -6.0          82.0               62              77.0   \n",
       "4                    -5.0          89.0               80               NaN   \n",
       "\n",
       "   case50_DayOfYear  \n",
       "0              84.0  \n",
       "1              76.0  \n",
       "2              76.0  \n",
       "3              79.0  \n",
       "4               NaN  \n",
       "\n",
       "[5 rows x 70 columns]"
      ]
     },
     "execution_count": 583,
     "metadata": {},
     "output_type": "execute_result"
    }
   ],
   "source": [
    "# Displaying the top 5 rows of Health dataset\n",
    "health_df.head()"
   ]
  },
  {
   "cell_type": "code",
   "execution_count": 584,
   "metadata": {},
   "outputs": [
    {
     "data": {
      "text/plain": [
       "Index(['Country_Region', 'first_1ConfirmedCases', 'first_1Fatalities',\n",
       "       'first_10ConfirmedCases', 'first_50ConfirmedCases',\n",
       "       'first_100ConfirmedCases', 'cases_growth', 'death_growth',\n",
       "       'Cardiovascular diseases (%)', 'Cancers (%)',\n",
       "       'Diabetes, blood, & endocrine diseases (%)', 'Respiratory diseases (%)',\n",
       "       'Liver disease (%)', 'Diarrhea & common infectious diseases (%)',\n",
       "       'Musculoskeletal disorders (%)', 'HIV/AIDS and tuberculosis (%)',\n",
       "       'Malaria & neglected tropical diseases (%)',\n",
       "       'Nutritional deficiencies (%)', 'pneumonia-death-rates',\n",
       "       'Share of deaths from smoking (%)', 'alcoholic_beverages',\n",
       "       'animal_fats', 'animal_products', 'aquatic_products,_other',\n",
       "       'cereals_-_excluding_beer', 'eggs', 'fish,_seafood',\n",
       "       'fruits_-_excluding_wine', 'meat', 'milk_-_excluding_butter',\n",
       "       'miscellaneous', 'offals', 'oilcrops', 'pulses', 'spices',\n",
       "       'starchy_roots', 'stimulants', 'sugar_&_sweeteners', 'treenuts',\n",
       "       'vegetable_oils', 'vegetables', 'vegetal_products',\n",
       "       'hospital_beds_per10k', 'hospital_density', 'nbr_surgeons',\n",
       "       'nbr_obstetricians', 'nbr_anaesthesiologists', 'medical_doctors_per10k',\n",
       "       'school_closure', 'bcg_coverage', 'bcg_year_delta', 'population',\n",
       "       'median age', 'population growth rate', 'birth rate', 'death rate',\n",
       "       'net migration rate', 'maternal mortality rate',\n",
       "       'infant mortality rate', 'life expectancy at birth',\n",
       "       'total fertility rate', 'obesity - adult prevalence rate',\n",
       "       'school_shutdown_1case', 'school_shutdown_10case',\n",
       "       'school_shutdown_50case', 'school_shutdown_1death', 'FF_DayOfYear',\n",
       "       'case1_DayOfYear', 'case10_DayOfYear', 'case50_DayOfYear'],\n",
       "      dtype='object')"
      ]
     },
     "execution_count": 584,
     "metadata": {},
     "output_type": "execute_result"
    }
   ],
   "source": [
    "# Displaying all the columns in Health dataset\n",
    "health_df.columns"
   ]
  },
  {
   "cell_type": "code",
   "execution_count": 585,
   "metadata": {},
   "outputs": [],
   "source": [
    "# Creating a copy of our dataset before manipulating\n",
    "health_dfqs = health_df.copy()"
   ]
  },
  {
   "cell_type": "code",
   "execution_count": 586,
   "metadata": {},
   "outputs": [
    {
     "data": {
      "text/html": [
       "<div>\n",
       "<style scoped>\n",
       "    .dataframe tbody tr th:only-of-type {\n",
       "        vertical-align: middle;\n",
       "    }\n",
       "\n",
       "    .dataframe tbody tr th {\n",
       "        vertical-align: top;\n",
       "    }\n",
       "\n",
       "    .dataframe thead th {\n",
       "        text-align: right;\n",
       "    }\n",
       "</style>\n",
       "<table border=\"1\" class=\"dataframe\">\n",
       "  <thead>\n",
       "    <tr style=\"text-align: right;\">\n",
       "      <th></th>\n",
       "      <th>Country_Region</th>\n",
       "      <th>bcg_coverage</th>\n",
       "      <th>life expectancy at birth</th>\n",
       "      <th>infant mortality rate</th>\n",
       "    </tr>\n",
       "  </thead>\n",
       "  <tbody>\n",
       "    <tr>\n",
       "      <td>175</td>\n",
       "      <td>Venezuela</td>\n",
       "      <td>82.0</td>\n",
       "      <td>71.0</td>\n",
       "      <td>27.9</td>\n",
       "    </tr>\n",
       "    <tr>\n",
       "      <td>176</td>\n",
       "      <td>Vietnam</td>\n",
       "      <td>97.0</td>\n",
       "      <td>74.4</td>\n",
       "      <td>15.7</td>\n",
       "    </tr>\n",
       "    <tr>\n",
       "      <td>177</td>\n",
       "      <td>West Bank and Gaza</td>\n",
       "      <td>NaN</td>\n",
       "      <td>NaN</td>\n",
       "      <td>NaN</td>\n",
       "    </tr>\n",
       "    <tr>\n",
       "      <td>178</td>\n",
       "      <td>Zambia</td>\n",
       "      <td>99.0</td>\n",
       "      <td>53.6</td>\n",
       "      <td>56.0</td>\n",
       "    </tr>\n",
       "    <tr>\n",
       "      <td>179</td>\n",
       "      <td>Zimbabwe</td>\n",
       "      <td>90.0</td>\n",
       "      <td>62.3</td>\n",
       "      <td>30.3</td>\n",
       "    </tr>\n",
       "  </tbody>\n",
       "</table>\n",
       "</div>"
      ],
      "text/plain": [
       "         Country_Region  bcg_coverage  life expectancy at birth  \\\n",
       "175           Venezuela          82.0                      71.0   \n",
       "176             Vietnam          97.0                      74.4   \n",
       "177  West Bank and Gaza           NaN                       NaN   \n",
       "178              Zambia          99.0                      53.6   \n",
       "179            Zimbabwe          90.0                      62.3   \n",
       "\n",
       "     infant mortality rate  \n",
       "175                   27.9  \n",
       "176                   15.7  \n",
       "177                    NaN  \n",
       "178                   56.0  \n",
       "179                   30.3  "
      ]
     },
     "execution_count": 586,
     "metadata": {},
     "output_type": "execute_result"
    }
   ],
   "source": [
    "# Selecting the only columns we need in Health dataset\n",
    "health_dfqs = health_dfqs[[\"Country_Region\",\"bcg_coverage\",\"life expectancy at birth\",\"infant mortality rate\"]]\n",
    "health_dfqs.tail()"
   ]
  },
  {
   "cell_type": "code",
   "execution_count": 587,
   "metadata": {},
   "outputs": [
    {
     "data": {
      "text/html": [
       "<div>\n",
       "<style scoped>\n",
       "    .dataframe tbody tr th:only-of-type {\n",
       "        vertical-align: middle;\n",
       "    }\n",
       "\n",
       "    .dataframe tbody tr th {\n",
       "        vertical-align: top;\n",
       "    }\n",
       "\n",
       "    .dataframe thead th {\n",
       "        text-align: right;\n",
       "    }\n",
       "</style>\n",
       "<table border=\"1\" class=\"dataframe\">\n",
       "  <thead>\n",
       "    <tr style=\"text-align: right;\">\n",
       "      <th></th>\n",
       "      <th>country_region</th>\n",
       "      <th>bcg</th>\n",
       "      <th>life_expectancy</th>\n",
       "      <th>infant_mortality</th>\n",
       "    </tr>\n",
       "  </thead>\n",
       "  <tbody>\n",
       "    <tr>\n",
       "      <td>0</td>\n",
       "      <td>Afghanistan</td>\n",
       "      <td>86.0</td>\n",
       "      <td>52.8</td>\n",
       "      <td>104.3</td>\n",
       "    </tr>\n",
       "    <tr>\n",
       "      <td>1</td>\n",
       "      <td>Albania</td>\n",
       "      <td>99.0</td>\n",
       "      <td>79.0</td>\n",
       "      <td>10.8</td>\n",
       "    </tr>\n",
       "    <tr>\n",
       "      <td>2</td>\n",
       "      <td>Algeria</td>\n",
       "      <td>99.0</td>\n",
       "      <td>77.5</td>\n",
       "      <td>17.6</td>\n",
       "    </tr>\n",
       "    <tr>\n",
       "      <td>3</td>\n",
       "      <td>Andorra</td>\n",
       "      <td>NaN</td>\n",
       "      <td>83.0</td>\n",
       "      <td>3.5</td>\n",
       "    </tr>\n",
       "    <tr>\n",
       "      <td>4</td>\n",
       "      <td>Angola</td>\n",
       "      <td>79.0</td>\n",
       "      <td>61.3</td>\n",
       "      <td>62.3</td>\n",
       "    </tr>\n",
       "  </tbody>\n",
       "</table>\n",
       "</div>"
      ],
      "text/plain": [
       "  country_region   bcg  life_expectancy  infant_mortality\n",
       "0    Afghanistan  86.0             52.8             104.3\n",
       "1        Albania  99.0             79.0              10.8\n",
       "2        Algeria  99.0             77.5              17.6\n",
       "3        Andorra   NaN             83.0               3.5\n",
       "4         Angola  79.0             61.3              62.3"
      ]
     },
     "execution_count": 587,
     "metadata": {},
     "output_type": "execute_result"
    }
   ],
   "source": [
    "# Renaming the column names in Health dataset for convinience \n",
    "health_dfqs = health_dfqs.rename(columns={\"Country_Region\":\"country_region\", \"bcg_coverage\":\"bcg\",\n",
    "                                      \"life expectancy at birth\":\"life_expectancy\",\"infant mortality rate\":\"infant_mortality\"})\n",
    "health_dfqs.head()"
   ]
  },
  {
   "cell_type": "code",
   "execution_count": 588,
   "metadata": {},
   "outputs": [
    {
     "data": {
      "text/plain": [
       "(180, 4)"
      ]
     },
     "execution_count": 588,
     "metadata": {},
     "output_type": "execute_result"
    }
   ],
   "source": [
    "# Checking how many rows and columns we have in our dataset\n",
    "health_dfqs.shape"
   ]
  },
  {
   "cell_type": "code",
   "execution_count": 589,
   "metadata": {},
   "outputs": [
    {
     "data": {
      "text/html": [
       "<div>\n",
       "<style scoped>\n",
       "    .dataframe tbody tr th:only-of-type {\n",
       "        vertical-align: middle;\n",
       "    }\n",
       "\n",
       "    .dataframe tbody tr th {\n",
       "        vertical-align: top;\n",
       "    }\n",
       "\n",
       "    .dataframe thead th {\n",
       "        text-align: right;\n",
       "    }\n",
       "</style>\n",
       "<table border=\"1\" class=\"dataframe\">\n",
       "  <thead>\n",
       "    <tr style=\"text-align: right;\">\n",
       "      <th></th>\n",
       "      <th>continent</th>\n",
       "      <th>country_region</th>\n",
       "      <th>total_cases</th>\n",
       "      <th>total_deaths</th>\n",
       "      <th>total_recovered</th>\n",
       "      <th>active_cases</th>\n",
       "      <th>critical</th>\n",
       "      <th>total cases/\\n1M pop</th>\n",
       "      <th>deaths/\\n1M pop</th>\n",
       "      <th>total_tests</th>\n",
       "      <th>tests/\\n1M pop</th>\n",
       "      <th>population</th>\n",
       "    </tr>\n",
       "  </thead>\n",
       "  <tbody>\n",
       "    <tr>\n",
       "      <td>0</td>\n",
       "      <td>Europe</td>\n",
       "      <td>Russia</td>\n",
       "      <td>405,843</td>\n",
       "      <td>4,693</td>\n",
       "      <td>171,883</td>\n",
       "      <td>229,267</td>\n",
       "      <td>2,300</td>\n",
       "      <td>2,781</td>\n",
       "      <td>32</td>\n",
       "      <td>10,643,124</td>\n",
       "      <td>72,933</td>\n",
       "      <td>145,929,507</td>\n",
       "    </tr>\n",
       "    <tr>\n",
       "      <td>1</td>\n",
       "      <td>Europe</td>\n",
       "      <td>Spain</td>\n",
       "      <td>286,509</td>\n",
       "      <td>27,127</td>\n",
       "      <td>196,958</td>\n",
       "      <td>62,424</td>\n",
       "      <td>617</td>\n",
       "      <td>6,128</td>\n",
       "      <td>580</td>\n",
       "      <td>4,063,843</td>\n",
       "      <td>86,921</td>\n",
       "      <td>46,753,345</td>\n",
       "    </tr>\n",
       "    <tr>\n",
       "      <td>2</td>\n",
       "      <td>Europe</td>\n",
       "      <td>UK</td>\n",
       "      <td>274,762</td>\n",
       "      <td>38,489</td>\n",
       "      <td>NaN</td>\n",
       "      <td>NaN</td>\n",
       "      <td>1,559</td>\n",
       "      <td>4,049</td>\n",
       "      <td>567</td>\n",
       "      <td>4,285,738</td>\n",
       "      <td>63,158</td>\n",
       "      <td>67,856,881</td>\n",
       "    </tr>\n",
       "    <tr>\n",
       "      <td>3</td>\n",
       "      <td>Europe</td>\n",
       "      <td>Italy</td>\n",
       "      <td>232,997</td>\n",
       "      <td>33,415</td>\n",
       "      <td>157,507</td>\n",
       "      <td>42,075</td>\n",
       "      <td>435</td>\n",
       "      <td>3,853</td>\n",
       "      <td>553</td>\n",
       "      <td>3,878,739</td>\n",
       "      <td>64,144</td>\n",
       "      <td>60,468,778</td>\n",
       "    </tr>\n",
       "    <tr>\n",
       "      <td>4</td>\n",
       "      <td>Europe</td>\n",
       "      <td>France</td>\n",
       "      <td>188,882</td>\n",
       "      <td>28,802</td>\n",
       "      <td>68,355</td>\n",
       "      <td>91,725</td>\n",
       "      <td>1,319</td>\n",
       "      <td>2,894</td>\n",
       "      <td>441</td>\n",
       "      <td>1,384,633</td>\n",
       "      <td>21,217</td>\n",
       "      <td>65,261,942</td>\n",
       "    </tr>\n",
       "  </tbody>\n",
       "</table>\n",
       "</div>"
      ],
      "text/plain": [
       "  continent country_region total_cases total_deaths total_recovered  \\\n",
       "0    Europe         Russia     405,843        4,693         171,883   \n",
       "1    Europe          Spain     286,509       27,127         196,958   \n",
       "2    Europe             UK     274,762       38,489             NaN   \n",
       "3    Europe          Italy     232,997       33,415         157,507   \n",
       "4    Europe         France     188,882       28,802          68,355   \n",
       "\n",
       "  active_cases critical total cases/\\n1M pop deaths/\\n1M pop total_tests  \\\n",
       "0      229,267    2,300                2,781              32  10,643,124   \n",
       "1       62,424      617                6,128             580   4,063,843   \n",
       "2          NaN    1,559                4,049             567   4,285,738   \n",
       "3       42,075      435                3,853             553   3,878,739   \n",
       "4       91,725    1,319                2,894             441   1,384,633   \n",
       "\n",
       "  tests/\\n1M pop   population  \n",
       "0         72,933  145,929,507  \n",
       "1         86,921   46,753,345  \n",
       "2         63,158   67,856,881  \n",
       "3         64,144   60,468,778  \n",
       "4         21,217   65,261,942  "
      ]
     },
     "execution_count": 589,
     "metadata": {},
     "output_type": "execute_result"
    }
   ],
   "source": [
    "# Displaying the top 5 rows of Сovid19 dataset\n",
    "covid19_df.head()"
   ]
  },
  {
   "cell_type": "code",
   "execution_count": 590,
   "metadata": {},
   "outputs": [
    {
     "data": {
      "text/plain": [
       "Index(['continent', 'country_region', 'total_cases', 'total_deaths',\n",
       "       'total_recovered', 'active_cases', 'critical', 'total cases/\\n1M pop',\n",
       "       'deaths/\\n1M pop', 'total_tests', 'tests/\\n1M pop', 'population'],\n",
       "      dtype='object')"
      ]
     },
     "execution_count": 590,
     "metadata": {},
     "output_type": "execute_result"
    }
   ],
   "source": [
    "# Displaying all the columns in Covid19 dataset\n",
    "covid19_df.columns"
   ]
  },
  {
   "cell_type": "code",
   "execution_count": 591,
   "metadata": {},
   "outputs": [],
   "source": [
    "covid19_dfqs = covid19_df.copy()"
   ]
  },
  {
   "cell_type": "code",
   "execution_count": 592,
   "metadata": {},
   "outputs": [],
   "source": [
    "# Selecting the only columns we need in Covid19 dataset\n",
    "covid19_dfqs = covid19_dfqs[['continent','country_region', 'total_cases', 'total_deaths','total cases/\\n1M pop','total_recovered']]"
   ]
  },
  {
   "cell_type": "code",
   "execution_count": 593,
   "metadata": {},
   "outputs": [],
   "source": [
    "covid19_dfqs = covid19_dfqs.rename(columns={\"total cases/\\n1M pop\":\"total_cases_1M_pop\"})"
   ]
  },
  {
   "cell_type": "markdown",
   "metadata": {},
   "source": [
    "**Countries are named differently in two datasets, so we rename them in order not to lose values**"
   ]
  },
  {
   "cell_type": "code",
   "execution_count": 594,
   "metadata": {},
   "outputs": [],
   "source": [
    "# Saving countries in the first variable\n",
    "country_health = health_dfqs.country_region.unique()"
   ]
  },
  {
   "cell_type": "code",
   "execution_count": 595,
   "metadata": {},
   "outputs": [],
   "source": [
    "# Saving countries in the second variable\n",
    "country_covid = covid19_dfqs.country_region.unique()"
   ]
  },
  {
   "cell_type": "code",
   "execution_count": 596,
   "metadata": {},
   "outputs": [
    {
     "data": {
      "text/plain": [
       "49"
      ]
     },
     "execution_count": 596,
     "metadata": {},
     "output_type": "execute_result"
    }
   ],
   "source": [
    "# Checking for the difference between the Covid19 and Health datasets\n",
    "# Displaying countries as they presented in Covid19 dataset\n",
    "country_dif = set(country_covid) - set(country_health)\n",
    "len(country_dif)"
   ]
  },
  {
   "cell_type": "code",
   "execution_count": 597,
   "metadata": {},
   "outputs": [
    {
     "name": "stdout",
     "output_type": "stream",
     "text": [
      "{'Kosovo', 'Saint Vincent and the Grenadines', 'Congo (Kinshasa)', \"Cote d'Ivoire\", 'Congo (Brazzaville)', 'Burma', 'Central African Republic', 'Korea, South', 'US', 'West Bank and Gaza', 'United Arab Emirates', 'Taiwan*', 'Holy See', 'MS Zaandam', 'United Kingdom', 'Diamond Princess'}\n"
     ]
    }
   ],
   "source": [
    "# Checking for the difference between the Health and Covid19 datasets\n",
    "# Displaying countries as they presented in Health dataset\n",
    "country_dif2 = set(country_health) - set(country_covid)\n",
    "print(country_dif2)"
   ]
  },
  {
   "cell_type": "code",
   "execution_count": 598,
   "metadata": {},
   "outputs": [],
   "source": [
    "# Replacing the names \n",
    "health_dfqs[\"country_region\"] = health_dfqs[\"country_region\"].replace({\"Taiwan*\":\"Taiwan\",\"Korea, South\":\"S.Korea\", \n",
    "                              \"United Kingdom\":\"UK\",\"US\":\"USA\",\"Central African Republic\":\"CAR\",\"Burma\":\"Myanmar\",\n",
    "                              \"United Arab Emirates\":\"UAE\",\"West Bank and Gaza\":\"Palestine\"})"
   ]
  },
  {
   "cell_type": "code",
   "execution_count": 599,
   "metadata": {},
   "outputs": [
    {
     "data": {
      "text/html": [
       "<div>\n",
       "<style scoped>\n",
       "    .dataframe tbody tr th:only-of-type {\n",
       "        vertical-align: middle;\n",
       "    }\n",
       "\n",
       "    .dataframe tbody tr th {\n",
       "        vertical-align: top;\n",
       "    }\n",
       "\n",
       "    .dataframe thead th {\n",
       "        text-align: right;\n",
       "    }\n",
       "</style>\n",
       "<table border=\"1\" class=\"dataframe\">\n",
       "  <thead>\n",
       "    <tr style=\"text-align: right;\">\n",
       "      <th></th>\n",
       "      <th>country_region</th>\n",
       "      <th>bcg</th>\n",
       "      <th>life_expectancy</th>\n",
       "      <th>infant_mortality</th>\n",
       "    </tr>\n",
       "  </thead>\n",
       "  <tbody>\n",
       "    <tr>\n",
       "      <td>175</td>\n",
       "      <td>Venezuela</td>\n",
       "      <td>82.0</td>\n",
       "      <td>71.0</td>\n",
       "      <td>27.9</td>\n",
       "    </tr>\n",
       "    <tr>\n",
       "      <td>176</td>\n",
       "      <td>Vietnam</td>\n",
       "      <td>97.0</td>\n",
       "      <td>74.4</td>\n",
       "      <td>15.7</td>\n",
       "    </tr>\n",
       "    <tr>\n",
       "      <td>177</td>\n",
       "      <td>Palestine</td>\n",
       "      <td>NaN</td>\n",
       "      <td>NaN</td>\n",
       "      <td>NaN</td>\n",
       "    </tr>\n",
       "    <tr>\n",
       "      <td>178</td>\n",
       "      <td>Zambia</td>\n",
       "      <td>99.0</td>\n",
       "      <td>53.6</td>\n",
       "      <td>56.0</td>\n",
       "    </tr>\n",
       "    <tr>\n",
       "      <td>179</td>\n",
       "      <td>Zimbabwe</td>\n",
       "      <td>90.0</td>\n",
       "      <td>62.3</td>\n",
       "      <td>30.3</td>\n",
       "    </tr>\n",
       "  </tbody>\n",
       "</table>\n",
       "</div>"
      ],
      "text/plain": [
       "    country_region   bcg  life_expectancy  infant_mortality\n",
       "175      Venezuela  82.0             71.0              27.9\n",
       "176        Vietnam  97.0             74.4              15.7\n",
       "177      Palestine   NaN              NaN               NaN\n",
       "178         Zambia  99.0             53.6              56.0\n",
       "179       Zimbabwe  90.0             62.3              30.3"
      ]
     },
     "execution_count": 599,
     "metadata": {},
     "output_type": "execute_result"
    }
   ],
   "source": [
    "# Checking if code above worked, e.g. \"West Bank and Gaza\" has been changed to \"Palestine\"\n",
    "health_dfqs.tail()"
   ]
  },
  {
   "cell_type": "code",
   "execution_count": 600,
   "metadata": {},
   "outputs": [
    {
     "data": {
      "text/plain": [
       "213"
      ]
     },
     "execution_count": 600,
     "metadata": {},
     "output_type": "execute_result"
    }
   ],
   "source": [
    "len(covid19_dfqs.country_region.unique())"
   ]
  },
  {
   "cell_type": "code",
   "execution_count": 601,
   "metadata": {},
   "outputs": [
    {
     "data": {
      "text/plain": [
       "180"
      ]
     },
     "execution_count": 601,
     "metadata": {},
     "output_type": "execute_result"
    }
   ],
   "source": [
    "len(health_dfqs.country_region.unique())"
   ]
  },
  {
   "cell_type": "markdown",
   "metadata": {},
   "source": [
    "## Question1: *What is the most Covid-19 affected continent in terms of infected cases and deaths?*\n",
    "\n",
    "**The virus, which causes a respiratory illness called COVID-19 has spread across the six continents. We want to see what continent has been affected the most.**\n"
   ]
  },
  {
   "cell_type": "code",
   "execution_count": 602,
   "metadata": {},
   "outputs": [
    {
     "data": {
      "text/plain": [
       "Africa           57\n",
       "Asia             49\n",
       "Europe           48\n",
       "North America    39\n",
       "South America    14\n",
       "Oceania           6\n",
       "Name: continent, dtype: int64"
      ]
     },
     "execution_count": 602,
     "metadata": {},
     "output_type": "execute_result"
    }
   ],
   "source": [
    "# Display how many countries do we have for each continent  \n",
    "covid19_dfqs.continent.value_counts()"
   ]
  },
  {
   "cell_type": "code",
   "execution_count": 603,
   "metadata": {},
   "outputs": [],
   "source": [
    "# create dataframe with total infected cases and deaths per continent: Europe\n",
    "europe_df = covid19_dfqs.loc[covid19_dfqs['continent'] == 'Europe', ['total_cases','total_deaths']]\n",
    "# europe_df.head(10)\n",
    "# europe_df.count()\n",
    "# europe_df.info()\n",
    "europe_df_int = europe_df.apply(lambda x: x.str.replace(',',''))\n",
    "europe_df_int_na = europe_df_int.dropna()\n",
    "# europe_df['total_cases'] = pd.to_numeric(europe_df['total_cases'])\n",
    "total_cases_europe = europe_df_int_na.total_cases.astype(int).sum()\n",
    "total_deaths_europe = europe_df_int_na.total_deaths.astype(int).sum()"
   ]
  },
  {
   "cell_type": "code",
   "execution_count": 604,
   "metadata": {},
   "outputs": [],
   "source": [
    "# create dataframe with total infected cases and deaths per continent: North America\n",
    "north_america_df = covid19_dfqs.loc[covid19_dfqs['continent'] == 'North America', ['total_cases','total_deaths']]\n",
    "# north_america_df.head(10)\n",
    "# north_america_df.count()\n",
    "north_america_df_int = north_america_df.apply(lambda x: x.str.replace(',',''))\n",
    "north_america_df_int_na = north_america_df_int.dropna()\n",
    "total_cases_NA = north_america_df_int_na.total_cases.astype(int).sum()\n",
    "total_deaths_NA = north_america_df_int_na.total_deaths.astype(int).sum()"
   ]
  },
  {
   "cell_type": "code",
   "execution_count": 605,
   "metadata": {},
   "outputs": [],
   "source": [
    "# create dataframe with total infected cases and deaths per continent: Asia\n",
    "asia_df = covid19_dfqs.loc[covid19_dfqs['continent'] == 'Asia', ['total_cases','total_deaths']]\n",
    "# asia_df.head(10)\n",
    "# asia_df.count()\n",
    "asia_df_int = asia_df.apply(lambda x: x.str.replace(',',''))\n",
    "asia_df_int_na = asia_df_int.dropna()\n",
    "total_cases_asia = asia_df_int_na.total_cases.astype(int).sum()\n",
    "total_deaths_asia = asia_df_int_na.total_deaths.astype(int).sum()"
   ]
  },
  {
   "cell_type": "code",
   "execution_count": 606,
   "metadata": {},
   "outputs": [],
   "source": [
    "# create dataframe with total infected cases and deaths per continent: South America\n",
    "south_america_df = covid19_dfqs.loc[covid19_dfqs['continent'] == 'South America', ['total_cases','total_deaths']]\n",
    "# south_america_df.head(10)\n",
    "# south_america_df.count()\n",
    "south_america_df_int = south_america_df.apply(lambda x: x.str.replace(',',''))\n",
    "south_america_df_int_na = south_america_df_int.dropna()\n",
    "total_cases_SA = south_america_df_int_na.total_cases.astype(int).sum()\n",
    "total_deaths_SA = south_america_df_int_na.total_deaths.astype(int).sum()"
   ]
  },
  {
   "cell_type": "code",
   "execution_count": 607,
   "metadata": {},
   "outputs": [],
   "source": [
    "# create dataframe with total infected cases and deaths per continent: Africa\n",
    "africa_df = covid19_dfqs.loc[covid19_dfqs['continent'] == 'Africa', ['total_cases','total_deaths']]\n",
    "# africa_df.head(10)\n",
    "# africa_df.count()\n",
    "africa_df_int = africa_df.apply(lambda x: x.str.replace(',',''))\n",
    "africa_df_int_na = africa_df_int.dropna()\n",
    "total_cases_africa = africa_df_int_na.total_cases.astype(int).sum()\n",
    "total_deaths_africa = africa_df_int_na.total_deaths.astype(int).sum()"
   ]
  },
  {
   "cell_type": "code",
   "execution_count": 608,
   "metadata": {},
   "outputs": [],
   "source": [
    "# create dataframe with total infected cases and deaths per continent: Oceania\n",
    "oceania_df = covid19_dfqs.loc[covid19_dfqs['continent'] == 'Oceania', ['total_cases','total_deaths']]\n",
    "# oceania_df.head(10)\n",
    "# oceania_df.count()\n",
    "oceania_df_int = oceania_df.apply(lambda x: x.str.replace(',',''))\n",
    "oceania_df_int_na = oceania_df_int.dropna()\n",
    "total_cases_oceania = oceania_df_int_na.total_cases.astype(int).sum()\n",
    "total_deaths_oceania = oceania_df_int_na.total_deaths.astype(int).sum()"
   ]
  },
  {
   "cell_type": "code",
   "execution_count": 609,
   "metadata": {},
   "outputs": [
    {
     "data": {
      "image/png": "[encoded data removed]",
      "text/plain": [
       "<Figure size 432x288 with 1 Axes>"
      ]
     },
     "metadata": {},
     "output_type": "display_data"
    }
   ],
   "source": [
    "# visualizing question: What is the most Covid-19 affected continent in terms of infected cases?\n",
    "labels = 'Europe', 'North America', 'Asia', 'South America', 'Others'\n",
    "sizes = [total_cases_europe, total_cases_NA, total_cases_asia, total_cases_SA, (total_cases_afrika + total_cases_oceania)]\n",
    "explode = (0, 0.1, 0, 0, 0)\n",
    "fig, ax = plt.subplots ()\n",
    "ax.pie(sizes, explode=explode, labels=labels, autopct='%1.1f%%',\n",
    "        shadow=True, startangle=90)\n",
    "ax.axis('equal')\n",
    "plt.title('Percentage of infected cases per continent')\n",
    "plt.show()"
   ]
  },
  {
   "cell_type": "code",
   "execution_count": 610,
   "metadata": {},
   "outputs": [
    {
     "data": {
      "image/png": "[encoded data removed]",
      "text/plain": [
       "<Figure size 432x288 with 1 Axes>"
      ]
     },
     "metadata": {},
     "output_type": "display_data"
    }
   ],
   "source": [
    "# visualizing question: What is the most Covid-19 affected continent in terms of infected cases?\n",
    "labels = 'Europe', 'North America', 'Asia', 'South America', 'Others'\n",
    "sizes = [total_deaths_europe, total_deaths_NA, total_deaths_asia, total_deaths_SA, (total_deaths_afrika + total_deaths_oceania)]\n",
    "explode = (0.1, 0, 0, 0, 0)\n",
    "fig, ax = plt.subplots ()\n",
    "ax.pie(sizes, explode=explode, labels=labels, autopct='%1.1f%%',\n",
    "        shadow=True, startangle=90)\n",
    "ax.axis('equal')\n",
    "plt.title('Percentage of death cases per continent')\n",
    "plt.show()"
   ]
  },
  {
   "cell_type": "markdown",
   "metadata": {},
   "source": [
    "### Conclusion: \n",
    "**As of the data available on the 31st of May 2020 - Europe is the most affected continent in terms of Covid-19 related deaths and North America is the most affected continenr in terms of Covid-19 infection cases.**"
   ]
  },
  {
   "cell_type": "markdown",
   "metadata": {},
   "source": [
    "## Question2: *Do countries where BCG vaccine was widely implemented have higher life expectancy or lower infant mortality rate?*\n",
    "\n",
    "**Vaccines play a central role in increasing life expectancy. We want to see whether Bacille Calmette–Guerin (BCG) vaccine alone has any correlation with life expectancy. The BCG vaccine is the most commonly used vaccine against tuberculosis (TB) worldwide. The vaccine is commonly given to infants under 1 years old.**"
   ]
  },
  {
   "cell_type": "code",
   "execution_count": 611,
   "metadata": {},
   "outputs": [
    {
     "data": {
      "text/html": [
       "<div>\n",
       "<style scoped>\n",
       "    .dataframe tbody tr th:only-of-type {\n",
       "        vertical-align: middle;\n",
       "    }\n",
       "\n",
       "    .dataframe tbody tr th {\n",
       "        vertical-align: top;\n",
       "    }\n",
       "\n",
       "    .dataframe thead th {\n",
       "        text-align: right;\n",
       "    }\n",
       "</style>\n",
       "<table border=\"1\" class=\"dataframe\">\n",
       "  <thead>\n",
       "    <tr style=\"text-align: right;\">\n",
       "      <th></th>\n",
       "      <th>country_region</th>\n",
       "      <th>bcg</th>\n",
       "      <th>life_expectancy</th>\n",
       "      <th>infant_mortality</th>\n",
       "    </tr>\n",
       "  </thead>\n",
       "  <tbody>\n",
       "    <tr>\n",
       "      <td>175</td>\n",
       "      <td>Venezuela</td>\n",
       "      <td>82.0</td>\n",
       "      <td>71.0</td>\n",
       "      <td>27.9</td>\n",
       "    </tr>\n",
       "    <tr>\n",
       "      <td>176</td>\n",
       "      <td>Vietnam</td>\n",
       "      <td>97.0</td>\n",
       "      <td>74.4</td>\n",
       "      <td>15.7</td>\n",
       "    </tr>\n",
       "    <tr>\n",
       "      <td>177</td>\n",
       "      <td>Palestine</td>\n",
       "      <td>NaN</td>\n",
       "      <td>NaN</td>\n",
       "      <td>NaN</td>\n",
       "    </tr>\n",
       "    <tr>\n",
       "      <td>178</td>\n",
       "      <td>Zambia</td>\n",
       "      <td>99.0</td>\n",
       "      <td>53.6</td>\n",
       "      <td>56.0</td>\n",
       "    </tr>\n",
       "    <tr>\n",
       "      <td>179</td>\n",
       "      <td>Zimbabwe</td>\n",
       "      <td>90.0</td>\n",
       "      <td>62.3</td>\n",
       "      <td>30.3</td>\n",
       "    </tr>\n",
       "  </tbody>\n",
       "</table>\n",
       "</div>"
      ],
      "text/plain": [
       "    country_region   bcg  life_expectancy  infant_mortality\n",
       "175      Venezuela  82.0             71.0              27.9\n",
       "176        Vietnam  97.0             74.4              15.7\n",
       "177      Palestine   NaN              NaN               NaN\n",
       "178         Zambia  99.0             53.6              56.0\n",
       "179       Zimbabwe  90.0             62.3              30.3"
      ]
     },
     "execution_count": 611,
     "metadata": {},
     "output_type": "execute_result"
    }
   ],
   "source": [
    "health_df_q2 = health_dfqs.copy()\n",
    "health_df_q2.tail()"
   ]
  },
  {
   "cell_type": "code",
   "execution_count": 612,
   "metadata": {},
   "outputs": [
    {
     "data": {
      "text/plain": [
       "count    139.000000\n",
       "mean      89.618705\n",
       "std       14.147974\n",
       "min       24.000000\n",
       "25%       86.500000\n",
       "50%       96.000000\n",
       "75%       98.500000\n",
       "max       99.000000\n",
       "Name: bcg, dtype: float64"
      ]
     },
     "execution_count": 612,
     "metadata": {},
     "output_type": "execute_result"
    }
   ],
   "source": [
    "# Viewing basic descriptive stats of BCG coverage\n",
    "health_df_q2[\"bcg\"].describe()"
   ]
  },
  {
   "cell_type": "code",
   "execution_count": 613,
   "metadata": {},
   "outputs": [
    {
     "data": {
      "text/plain": [
       "count    164.000000\n",
       "mean      20.842683\n",
       "std       20.288738\n",
       "min        1.700000\n",
       "25%        5.300000\n",
       "50%       11.650000\n",
       "75%       30.325000\n",
       "max      104.300000\n",
       "Name: infant_mortality, dtype: float64"
      ]
     },
     "execution_count": 613,
     "metadata": {},
     "output_type": "execute_result"
    }
   ],
   "source": [
    "# Viewing basic descriptive stats of infant mortality\n",
    "# Infant mortality rate is the number of deaths per 1,000 live births of children under one year of age. \n",
    "health_df_q2[\"infant_mortality\"].describe()"
   ]
  },
  {
   "cell_type": "code",
   "execution_count": 614,
   "metadata": {},
   "outputs": [
    {
     "data": {
      "text/plain": [
       "count    164.000000\n",
       "mean      73.467683\n",
       "std        7.248634\n",
       "min       52.800000\n",
       "25%       68.800000\n",
       "50%       75.250000\n",
       "75%       78.525000\n",
       "max       86.000000\n",
       "Name: life_expectancy, dtype: float64"
      ]
     },
     "execution_count": 614,
     "metadata": {},
     "output_type": "execute_result"
    }
   ],
   "source": [
    "# Viewing basic descriptive stats of infant mortality\n",
    "health_df_q2[\"life_expectancy\"].describe()"
   ]
  },
  {
   "cell_type": "code",
   "execution_count": 615,
   "metadata": {},
   "outputs": [],
   "source": [
    "health_df_q2=health_df_q2.dropna()"
   ]
  },
  {
   "cell_type": "code",
   "execution_count": 616,
   "metadata": {},
   "outputs": [
    {
     "data": {
      "text/plain": [
       "138"
      ]
     },
     "execution_count": 616,
     "metadata": {},
     "output_type": "execute_result"
    }
   ],
   "source": [
    "# Checking how many countries we have in Health dataset\n",
    "len(health_df_q2[\"country_region\"].unique())"
   ]
  },
  {
   "cell_type": "code",
   "execution_count": 617,
   "metadata": {},
   "outputs": [
    {
     "data": {
      "image/png": "[encoded data removed]",
      "text/plain": [
       "<Figure size 432x288 with 1 Axes>"
      ]
     },
     "metadata": {
      "needs_background": "light"
     },
     "output_type": "display_data"
    }
   ],
   "source": [
    "# show distribution of the results\n",
    "plt.scatter(health_df_q2['bcg'], health_df_q2['infant_mortality'], color = 'blue')\n",
    "plt.title(\"BCG vaccine vs Infant Mortality\")\n",
    "plt.xlabel(\"BCG coverage\")\n",
    "plt.ylabel(\"Infant mortality\")\n",
    "plt.show()"
   ]
  },
  {
   "cell_type": "code",
   "execution_count": 618,
   "metadata": {},
   "outputs": [
    {
     "data": {
      "image/png": "[encoded data removed]",
      "text/plain": [
       "<Figure size 432x288 with 1 Axes>"
      ]
     },
     "metadata": {
      "needs_background": "light"
     },
     "output_type": "display_data"
    }
   ],
   "source": [
    "# show distribution of the results\n",
    "plt.scatter(health_df_q2['bcg'], health_df_q2['life_expectancy'], color = 'blue')\n",
    "plt.title(\"BCG vaccine vs life expectancy\")\n",
    "plt.xlabel(\"BCG coverage\")\n",
    "plt.ylabel(\"Life expectancy at birth\")\n",
    "plt.show()"
   ]
  },
  {
   "cell_type": "code",
   "execution_count": 619,
   "metadata": {},
   "outputs": [
    {
     "data": {
      "text/html": [
       "<div>\n",
       "<style scoped>\n",
       "    .dataframe tbody tr th:only-of-type {\n",
       "        vertical-align: middle;\n",
       "    }\n",
       "\n",
       "    .dataframe tbody tr th {\n",
       "        vertical-align: top;\n",
       "    }\n",
       "\n",
       "    .dataframe thead th {\n",
       "        text-align: right;\n",
       "    }\n",
       "</style>\n",
       "<table border=\"1\" class=\"dataframe\">\n",
       "  <thead>\n",
       "    <tr style=\"text-align: right;\">\n",
       "      <th></th>\n",
       "      <th>bcg</th>\n",
       "      <th>life_expectancy</th>\n",
       "      <th>infant_mortality</th>\n",
       "    </tr>\n",
       "  </thead>\n",
       "  <tbody>\n",
       "    <tr>\n",
       "      <td>bcg</td>\n",
       "      <td>1.000000</td>\n",
       "      <td>0.203503</td>\n",
       "      <td>-0.282999</td>\n",
       "    </tr>\n",
       "    <tr>\n",
       "      <td>life_expectancy</td>\n",
       "      <td>0.203503</td>\n",
       "      <td>1.000000</td>\n",
       "      <td>-0.932175</td>\n",
       "    </tr>\n",
       "    <tr>\n",
       "      <td>infant_mortality</td>\n",
       "      <td>-0.282999</td>\n",
       "      <td>-0.932175</td>\n",
       "      <td>1.000000</td>\n",
       "    </tr>\n",
       "  </tbody>\n",
       "</table>\n",
       "</div>"
      ],
      "text/plain": [
       "                       bcg  life_expectancy  infant_mortality\n",
       "bcg               1.000000         0.203503         -0.282999\n",
       "life_expectancy   0.203503         1.000000         -0.932175\n",
       "infant_mortality -0.282999        -0.932175          1.000000"
      ]
     },
     "execution_count": 619,
     "metadata": {},
     "output_type": "execute_result"
    }
   ],
   "source": [
    "# Printing out the correlation among columns\n",
    "# Unsurpisingly, we have high negative correlation between life expectancy and infant mortality. \n",
    "# Only weak positive correlation between BCG coverage and life expectancy\n",
    "health_df_q2.corr(method = \"pearson\")"
   ]
  },
  {
   "cell_type": "code",
   "execution_count": 620,
   "metadata": {},
   "outputs": [
    {
     "data": {
      "text/html": [
       "<div>\n",
       "<style scoped>\n",
       "    .dataframe tbody tr th:only-of-type {\n",
       "        vertical-align: middle;\n",
       "    }\n",
       "\n",
       "    .dataframe tbody tr th {\n",
       "        vertical-align: top;\n",
       "    }\n",
       "\n",
       "    .dataframe thead th {\n",
       "        text-align: right;\n",
       "    }\n",
       "</style>\n",
       "<table border=\"1\" class=\"dataframe\">\n",
       "  <thead>\n",
       "    <tr style=\"text-align: right;\">\n",
       "      <th></th>\n",
       "      <th>country_region</th>\n",
       "      <th>bcg</th>\n",
       "    </tr>\n",
       "  </thead>\n",
       "  <tbody>\n",
       "    <tr>\n",
       "      <td>6</td>\n",
       "      <td>Argentina</td>\n",
       "      <td>99.0</td>\n",
       "    </tr>\n",
       "    <tr>\n",
       "      <td>9</td>\n",
       "      <td>Austria</td>\n",
       "      <td>90.0</td>\n",
       "    </tr>\n",
       "    <tr>\n",
       "      <td>15</td>\n",
       "      <td>Belarus</td>\n",
       "      <td>97.0</td>\n",
       "    </tr>\n",
       "    <tr>\n",
       "      <td>21</td>\n",
       "      <td>Bosnia and Herzegovina</td>\n",
       "      <td>95.0</td>\n",
       "    </tr>\n",
       "    <tr>\n",
       "      <td>24</td>\n",
       "      <td>Brunei</td>\n",
       "      <td>99.0</td>\n",
       "    </tr>\n",
       "    <tr>\n",
       "      <td>25</td>\n",
       "      <td>Bulgaria</td>\n",
       "      <td>96.0</td>\n",
       "    </tr>\n",
       "    <tr>\n",
       "      <td>35</td>\n",
       "      <td>Chile</td>\n",
       "      <td>93.0</td>\n",
       "    </tr>\n",
       "    <tr>\n",
       "      <td>40</td>\n",
       "      <td>Costa Rica</td>\n",
       "      <td>83.0</td>\n",
       "    </tr>\n",
       "    <tr>\n",
       "      <td>42</td>\n",
       "      <td>Croatia</td>\n",
       "      <td>98.0</td>\n",
       "    </tr>\n",
       "    <tr>\n",
       "      <td>43</td>\n",
       "      <td>Cuba</td>\n",
       "      <td>99.0</td>\n",
       "    </tr>\n",
       "    <tr>\n",
       "      <td>45</td>\n",
       "      <td>Czechia</td>\n",
       "      <td>98.0</td>\n",
       "    </tr>\n",
       "    <tr>\n",
       "      <td>49</td>\n",
       "      <td>Dominica</td>\n",
       "      <td>98.0</td>\n",
       "    </tr>\n",
       "    <tr>\n",
       "      <td>56</td>\n",
       "      <td>Estonia</td>\n",
       "      <td>95.0</td>\n",
       "    </tr>\n",
       "    <tr>\n",
       "      <td>59</td>\n",
       "      <td>Fiji</td>\n",
       "      <td>99.0</td>\n",
       "    </tr>\n",
       "    <tr>\n",
       "      <td>60</td>\n",
       "      <td>Finland</td>\n",
       "      <td>98.0</td>\n",
       "    </tr>\n",
       "    <tr>\n",
       "      <td>61</td>\n",
       "      <td>France</td>\n",
       "      <td>78.0</td>\n",
       "    </tr>\n",
       "    <tr>\n",
       "      <td>67</td>\n",
       "      <td>Greece</td>\n",
       "      <td>50.0</td>\n",
       "    </tr>\n",
       "    <tr>\n",
       "      <td>76</td>\n",
       "      <td>Hungary</td>\n",
       "      <td>99.0</td>\n",
       "    </tr>\n",
       "    <tr>\n",
       "      <td>82</td>\n",
       "      <td>Ireland</td>\n",
       "      <td>77.0</td>\n",
       "    </tr>\n",
       "    <tr>\n",
       "      <td>83</td>\n",
       "      <td>Israel</td>\n",
       "      <td>68.0</td>\n",
       "    </tr>\n",
       "    <tr>\n",
       "      <td>86</td>\n",
       "      <td>Japan</td>\n",
       "      <td>84.0</td>\n",
       "    </tr>\n",
       "    <tr>\n",
       "      <td>90</td>\n",
       "      <td>S.Korea</td>\n",
       "      <td>98.0</td>\n",
       "    </tr>\n",
       "    <tr>\n",
       "      <td>92</td>\n",
       "      <td>Kuwait</td>\n",
       "      <td>99.0</td>\n",
       "    </tr>\n",
       "    <tr>\n",
       "      <td>95</td>\n",
       "      <td>Latvia</td>\n",
       "      <td>94.0</td>\n",
       "    </tr>\n",
       "    <tr>\n",
       "      <td>100</td>\n",
       "      <td>Lithuania</td>\n",
       "      <td>97.0</td>\n",
       "    </tr>\n",
       "    <tr>\n",
       "      <td>107</td>\n",
       "      <td>Malta</td>\n",
       "      <td>96.0</td>\n",
       "    </tr>\n",
       "    <tr>\n",
       "      <td>109</td>\n",
       "      <td>Mauritius</td>\n",
       "      <td>98.0</td>\n",
       "    </tr>\n",
       "    <tr>\n",
       "      <td>114</td>\n",
       "      <td>Montenegro</td>\n",
       "      <td>88.0</td>\n",
       "    </tr>\n",
       "    <tr>\n",
       "      <td>128</td>\n",
       "      <td>Panama</td>\n",
       "      <td>99.0</td>\n",
       "    </tr>\n",
       "    <tr>\n",
       "      <td>133</td>\n",
       "      <td>Poland</td>\n",
       "      <td>94.0</td>\n",
       "    </tr>\n",
       "    <tr>\n",
       "      <td>134</td>\n",
       "      <td>Portugal</td>\n",
       "      <td>32.0</td>\n",
       "    </tr>\n",
       "    <tr>\n",
       "      <td>135</td>\n",
       "      <td>Qatar</td>\n",
       "      <td>97.0</td>\n",
       "    </tr>\n",
       "    <tr>\n",
       "      <td>136</td>\n",
       "      <td>Romania</td>\n",
       "      <td>98.0</td>\n",
       "    </tr>\n",
       "    <tr>\n",
       "      <td>137</td>\n",
       "      <td>Russia</td>\n",
       "      <td>96.0</td>\n",
       "    </tr>\n",
       "    <tr>\n",
       "      <td>145</td>\n",
       "      <td>Serbia</td>\n",
       "      <td>98.0</td>\n",
       "    </tr>\n",
       "    <tr>\n",
       "      <td>146</td>\n",
       "      <td>Seychelles</td>\n",
       "      <td>99.0</td>\n",
       "    </tr>\n",
       "    <tr>\n",
       "      <td>148</td>\n",
       "      <td>Singapore</td>\n",
       "      <td>99.0</td>\n",
       "    </tr>\n",
       "    <tr>\n",
       "      <td>149</td>\n",
       "      <td>Slovakia</td>\n",
       "      <td>90.0</td>\n",
       "    </tr>\n",
       "    <tr>\n",
       "      <td>150</td>\n",
       "      <td>Slovenia</td>\n",
       "      <td>96.0</td>\n",
       "    </tr>\n",
       "    <tr>\n",
       "      <td>154</td>\n",
       "      <td>Sri Lanka</td>\n",
       "      <td>99.0</td>\n",
       "    </tr>\n",
       "    <tr>\n",
       "      <td>157</td>\n",
       "      <td>Sweden</td>\n",
       "      <td>24.0</td>\n",
       "    </tr>\n",
       "    <tr>\n",
       "      <td>162</td>\n",
       "      <td>Thailand</td>\n",
       "      <td>99.0</td>\n",
       "    </tr>\n",
       "    <tr>\n",
       "      <td>170</td>\n",
       "      <td>Ukraine</td>\n",
       "      <td>39.0</td>\n",
       "    </tr>\n",
       "    <tr>\n",
       "      <td>171</td>\n",
       "      <td>UAE</td>\n",
       "      <td>96.0</td>\n",
       "    </tr>\n",
       "    <tr>\n",
       "      <td>173</td>\n",
       "      <td>Uruguay</td>\n",
       "      <td>98.0</td>\n",
       "    </tr>\n",
       "  </tbody>\n",
       "</table>\n",
       "</div>"
      ],
      "text/plain": [
       "             country_region   bcg\n",
       "6                 Argentina  99.0\n",
       "9                   Austria  90.0\n",
       "15                  Belarus  97.0\n",
       "21   Bosnia and Herzegovina  95.0\n",
       "24                   Brunei  99.0\n",
       "25                 Bulgaria  96.0\n",
       "35                    Chile  93.0\n",
       "40               Costa Rica  83.0\n",
       "42                  Croatia  98.0\n",
       "43                     Cuba  99.0\n",
       "45                  Czechia  98.0\n",
       "49                 Dominica  98.0\n",
       "56                  Estonia  95.0\n",
       "59                     Fiji  99.0\n",
       "60                  Finland  98.0\n",
       "61                   France  78.0\n",
       "67                   Greece  50.0\n",
       "76                  Hungary  99.0\n",
       "82                  Ireland  77.0\n",
       "83                   Israel  68.0\n",
       "86                    Japan  84.0\n",
       "90                  S.Korea  98.0\n",
       "92                   Kuwait  99.0\n",
       "95                   Latvia  94.0\n",
       "100               Lithuania  97.0\n",
       "107                   Malta  96.0\n",
       "109               Mauritius  98.0\n",
       "114              Montenegro  88.0\n",
       "128                  Panama  99.0\n",
       "133                  Poland  94.0\n",
       "134                Portugal  32.0\n",
       "135                   Qatar  97.0\n",
       "136                 Romania  98.0\n",
       "137                  Russia  96.0\n",
       "145                  Serbia  98.0\n",
       "146              Seychelles  99.0\n",
       "148               Singapore  99.0\n",
       "149                Slovakia  90.0\n",
       "150                Slovenia  96.0\n",
       "154               Sri Lanka  99.0\n",
       "157                  Sweden  24.0\n",
       "162                Thailand  99.0\n",
       "170                 Ukraine  39.0\n",
       "171                     UAE  96.0\n",
       "173                 Uruguay  98.0"
      ]
     },
     "execution_count": 620,
     "metadata": {},
     "output_type": "execute_result"
    }
   ],
   "source": [
    "# show that countries with higher bcg coverage have lower infant mortality rates\n",
    "health_df_q2.loc[(health_df_q2['infant_mortality'] <= 10), ['country_region', 'bcg']]"
   ]
  },
  {
   "cell_type": "code",
   "execution_count": 621,
   "metadata": {},
   "outputs": [
    {
     "data": {
      "text/html": [
       "<div>\n",
       "<style scoped>\n",
       "    .dataframe tbody tr th:only-of-type {\n",
       "        vertical-align: middle;\n",
       "    }\n",
       "\n",
       "    .dataframe tbody tr th {\n",
       "        vertical-align: top;\n",
       "    }\n",
       "\n",
       "    .dataframe thead th {\n",
       "        text-align: right;\n",
       "    }\n",
       "</style>\n",
       "<table border=\"1\" class=\"dataframe\">\n",
       "  <thead>\n",
       "    <tr style=\"text-align: right;\">\n",
       "      <th></th>\n",
       "      <th>country_region</th>\n",
       "      <th>bcg</th>\n",
       "    </tr>\n",
       "  </thead>\n",
       "  <tbody>\n",
       "    <tr>\n",
       "      <td>0</td>\n",
       "      <td>Afghanistan</td>\n",
       "      <td>86.0</td>\n",
       "    </tr>\n",
       "    <tr>\n",
       "      <td>33</td>\n",
       "      <td>CAR</td>\n",
       "      <td>74.0</td>\n",
       "    </tr>\n",
       "    <tr>\n",
       "      <td>34</td>\n",
       "      <td>Chad</td>\n",
       "      <td>70.0</td>\n",
       "    </tr>\n",
       "    <tr>\n",
       "      <td>116</td>\n",
       "      <td>Mozambique</td>\n",
       "      <td>95.0</td>\n",
       "    </tr>\n",
       "    <tr>\n",
       "      <td>122</td>\n",
       "      <td>Niger</td>\n",
       "      <td>77.0</td>\n",
       "    </tr>\n",
       "    <tr>\n",
       "      <td>147</td>\n",
       "      <td>Sierra Leone</td>\n",
       "      <td>90.0</td>\n",
       "    </tr>\n",
       "    <tr>\n",
       "      <td>151</td>\n",
       "      <td>Somalia</td>\n",
       "      <td>39.0</td>\n",
       "    </tr>\n",
       "    <tr>\n",
       "      <td>178</td>\n",
       "      <td>Zambia</td>\n",
       "      <td>99.0</td>\n",
       "    </tr>\n",
       "  </tbody>\n",
       "</table>\n",
       "</div>"
      ],
      "text/plain": [
       "    country_region   bcg\n",
       "0      Afghanistan  86.0\n",
       "33             CAR  74.0\n",
       "34            Chad  70.0\n",
       "116     Mozambique  95.0\n",
       "122          Niger  77.0\n",
       "147   Sierra Leone  90.0\n",
       "151        Somalia  39.0\n",
       "178         Zambia  99.0"
      ]
     },
     "execution_count": 621,
     "metadata": {},
     "output_type": "execute_result"
    }
   ],
   "source": [
    "# show that even countries with higher bcg coverage often have lower life expectancy\n",
    "health_df_q2.loc[(health_df_q2['life_expectancy'] <= 60), ['country_region', 'bcg']]"
   ]
  },
  {
   "cell_type": "markdown",
   "metadata": {},
   "source": [
    "### **Conclusion:** \n",
    "**We see that BCG is really important to reduce infant mortality. However, the correlation between life expectancy and BCG is not strong. One possible explanation behind the inconclusive results is that BCG vaccine is not mandatory in more developed countries with lower risks of TB.**"
   ]
  },
  {
   "cell_type": "markdown",
   "metadata": {},
   "source": [
    "## Question3: *Do countries where BCG vaccine was widely implemented have fewer infection rates per million?*\n",
    "\n",
    "**The spread of COVID-19 and its impact varies across countries in the world. There were rumours that lower frequency of cases and mortalities can be attributed to Bacille Calmette–Guerin (BCG) vaccination. The BCG vaccine is the most commonly used vaccine against tuberculosis (TB) worldwide**"
   ]
  },
  {
   "cell_type": "markdown",
   "metadata": {},
   "source": [
    "**Merging the two datasets**:"
   ]
  },
  {
   "cell_type": "code",
   "execution_count": 622,
   "metadata": {},
   "outputs": [
    {
     "data": {
      "text/html": [
       "<div>\n",
       "<style scoped>\n",
       "    .dataframe tbody tr th:only-of-type {\n",
       "        vertical-align: middle;\n",
       "    }\n",
       "\n",
       "    .dataframe tbody tr th {\n",
       "        vertical-align: top;\n",
       "    }\n",
       "\n",
       "    .dataframe thead th {\n",
       "        text-align: right;\n",
       "    }\n",
       "</style>\n",
       "<table border=\"1\" class=\"dataframe\">\n",
       "  <thead>\n",
       "    <tr style=\"text-align: right;\">\n",
       "      <th></th>\n",
       "      <th>continent</th>\n",
       "      <th>country_region</th>\n",
       "      <th>total_cases</th>\n",
       "      <th>total_deaths</th>\n",
       "      <th>total_cases_1M_pop</th>\n",
       "      <th>total_recovered</th>\n",
       "      <th>bcg</th>\n",
       "      <th>life_expectancy</th>\n",
       "      <th>infant_mortality</th>\n",
       "    </tr>\n",
       "  </thead>\n",
       "  <tbody>\n",
       "    <tr>\n",
       "      <td>0</td>\n",
       "      <td>Europe</td>\n",
       "      <td>Russia</td>\n",
       "      <td>405,843</td>\n",
       "      <td>4,693</td>\n",
       "      <td>2,781</td>\n",
       "      <td>171,883</td>\n",
       "      <td>96.0</td>\n",
       "      <td>71.9</td>\n",
       "      <td>6.5</td>\n",
       "    </tr>\n",
       "    <tr>\n",
       "      <td>1</td>\n",
       "      <td>Europe</td>\n",
       "      <td>Spain</td>\n",
       "      <td>286,509</td>\n",
       "      <td>27,127</td>\n",
       "      <td>6,128</td>\n",
       "      <td>196,958</td>\n",
       "      <td>NaN</td>\n",
       "      <td>82.0</td>\n",
       "      <td>3.2</td>\n",
       "    </tr>\n",
       "    <tr>\n",
       "      <td>2</td>\n",
       "      <td>Europe</td>\n",
       "      <td>UK</td>\n",
       "      <td>274,762</td>\n",
       "      <td>38,489</td>\n",
       "      <td>4,049</td>\n",
       "      <td>NaN</td>\n",
       "      <td>NaN</td>\n",
       "      <td>81.1</td>\n",
       "      <td>4.1</td>\n",
       "    </tr>\n",
       "    <tr>\n",
       "      <td>3</td>\n",
       "      <td>Europe</td>\n",
       "      <td>Italy</td>\n",
       "      <td>232,997</td>\n",
       "      <td>33,415</td>\n",
       "      <td>3,853</td>\n",
       "      <td>157,507</td>\n",
       "      <td>NaN</td>\n",
       "      <td>82.5</td>\n",
       "      <td>3.2</td>\n",
       "    </tr>\n",
       "    <tr>\n",
       "      <td>4</td>\n",
       "      <td>Europe</td>\n",
       "      <td>France</td>\n",
       "      <td>188,882</td>\n",
       "      <td>28,802</td>\n",
       "      <td>2,894</td>\n",
       "      <td>68,355</td>\n",
       "      <td>78.0</td>\n",
       "      <td>82.2</td>\n",
       "      <td>3.2</td>\n",
       "    </tr>\n",
       "  </tbody>\n",
       "</table>\n",
       "</div>"
      ],
      "text/plain": [
       "  continent country_region total_cases total_deaths total_cases_1M_pop  \\\n",
       "0    Europe         Russia     405,843        4,693              2,781   \n",
       "1    Europe          Spain     286,509       27,127              6,128   \n",
       "2    Europe             UK     274,762       38,489              4,049   \n",
       "3    Europe          Italy     232,997       33,415              3,853   \n",
       "4    Europe         France     188,882       28,802              2,894   \n",
       "\n",
       "  total_recovered   bcg  life_expectancy  infant_mortality  \n",
       "0         171,883  96.0             71.9               6.5  \n",
       "1         196,958   NaN             82.0               3.2  \n",
       "2             NaN   NaN             81.1               4.1  \n",
       "3         157,507   NaN             82.5               3.2  \n",
       "4          68,355  78.0             82.2               3.2  "
      ]
     },
     "execution_count": 622,
     "metadata": {},
     "output_type": "execute_result"
    }
   ],
   "source": [
    "merged_df_q3 = covid19_dfqs.merge(health_dfqs, on = ['country_region']) \n",
    "merged_df_q3.head()"
   ]
  },
  {
   "cell_type": "code",
   "execution_count": 623,
   "metadata": {},
   "outputs": [
    {
     "name": "stdout",
     "output_type": "stream",
     "text": [
      "<class 'pandas.core.frame.DataFrame'>\n",
      "Int64Index: 171 entries, 0 to 170\n",
      "Data columns (total 9 columns):\n",
      "continent             171 non-null object\n",
      "country_region        171 non-null object\n",
      "total_cases           171 non-null object\n",
      "total_deaths          155 non-null object\n",
      "total_cases_1M_pop    171 non-null object\n",
      "total_recovered       169 non-null object\n",
      "bcg                   136 non-null float64\n",
      "life_expectancy       161 non-null float64\n",
      "infant_mortality      161 non-null float64\n",
      "dtypes: float64(3), object(6)\n",
      "memory usage: 13.4+ KB\n"
     ]
    }
   ],
   "source": [
    "merged_df_q3.info()"
   ]
  },
  {
   "cell_type": "code",
   "execution_count": 624,
   "metadata": {},
   "outputs": [
    {
     "data": {
      "text/plain": [
       "(122, 9)"
      ]
     },
     "execution_count": 624,
     "metadata": {},
     "output_type": "execute_result"
    }
   ],
   "source": [
    "# drop NaN values\n",
    "merged_df_q3 = merged_df_q3.dropna()\n",
    "merged_df_q3.shape"
   ]
  },
  {
   "cell_type": "code",
   "execution_count": 625,
   "metadata": {},
   "outputs": [
    {
     "name": "stdout",
     "output_type": "stream",
     "text": [
      "<class 'pandas.core.frame.DataFrame'>\n",
      "Int64Index: 122 entries, 0 to 164\n",
      "Data columns (total 9 columns):\n",
      "continent             122 non-null object\n",
      "country_region        122 non-null object\n",
      "total_cases           122 non-null object\n",
      "total_deaths          122 non-null object\n",
      "total_cases_1M_pop    122 non-null float64\n",
      "total_recovered       122 non-null object\n",
      "bcg                   122 non-null float64\n",
      "life_expectancy       122 non-null float64\n",
      "infant_mortality      122 non-null float64\n",
      "dtypes: float64(4), object(5)\n",
      "memory usage: 9.5+ KB\n"
     ]
    }
   ],
   "source": [
    "# change dtype of only 1 column to float\n",
    "merged_df_q3[\"total_cases_1M_pop\"] = merged_df_q3[\"total_cases_1M_pop\"].apply(lambda x: float(x.replace(',','')))\n",
    "merged_df_q3.info()"
   ]
  },
  {
   "cell_type": "code",
   "execution_count": 626,
   "metadata": {},
   "outputs": [
    {
     "data": {
      "text/html": [
       "<div>\n",
       "<style scoped>\n",
       "    .dataframe tbody tr th:only-of-type {\n",
       "        vertical-align: middle;\n",
       "    }\n",
       "\n",
       "    .dataframe tbody tr th {\n",
       "        vertical-align: top;\n",
       "    }\n",
       "\n",
       "    .dataframe thead th {\n",
       "        text-align: right;\n",
       "    }\n",
       "</style>\n",
       "<table border=\"1\" class=\"dataframe\">\n",
       "  <thead>\n",
       "    <tr style=\"text-align: right;\">\n",
       "      <th></th>\n",
       "      <th>continent</th>\n",
       "      <th>country_region</th>\n",
       "      <th>total_cases</th>\n",
       "      <th>total_deaths</th>\n",
       "      <th>total_cases_1M_pop</th>\n",
       "      <th>total_recovered</th>\n",
       "      <th>bcg</th>\n",
       "      <th>life_expectancy</th>\n",
       "      <th>infant_mortality</th>\n",
       "    </tr>\n",
       "  </thead>\n",
       "  <tbody>\n",
       "    <tr>\n",
       "      <td>160</td>\n",
       "      <td>Africa</td>\n",
       "      <td>Angola</td>\n",
       "      <td>86</td>\n",
       "      <td>4</td>\n",
       "      <td>3.0</td>\n",
       "      <td>18</td>\n",
       "      <td>79.0</td>\n",
       "      <td>61.3</td>\n",
       "      <td>62.3</td>\n",
       "    </tr>\n",
       "    <tr>\n",
       "      <td>161</td>\n",
       "      <td>Africa</td>\n",
       "      <td>Burundi</td>\n",
       "      <td>63</td>\n",
       "      <td>1</td>\n",
       "      <td>5.0</td>\n",
       "      <td>33</td>\n",
       "      <td>93.0</td>\n",
       "      <td>66.7</td>\n",
       "      <td>40.1</td>\n",
       "    </tr>\n",
       "    <tr>\n",
       "      <td>105</td>\n",
       "      <td>Asia</td>\n",
       "      <td>Syria</td>\n",
       "      <td>122</td>\n",
       "      <td>5</td>\n",
       "      <td>7.0</td>\n",
       "      <td>46</td>\n",
       "      <td>66.0</td>\n",
       "      <td>73.7</td>\n",
       "      <td>16.5</td>\n",
       "    </tr>\n",
       "    <tr>\n",
       "      <td>156</td>\n",
       "      <td>Africa</td>\n",
       "      <td>Mozambique</td>\n",
       "      <td>254</td>\n",
       "      <td>2</td>\n",
       "      <td>8.0</td>\n",
       "      <td>91</td>\n",
       "      <td>95.0</td>\n",
       "      <td>55.9</td>\n",
       "      <td>64.7</td>\n",
       "    </tr>\n",
       "    <tr>\n",
       "      <td>148</td>\n",
       "      <td>Africa</td>\n",
       "      <td>Tanzania</td>\n",
       "      <td>509</td>\n",
       "      <td>21</td>\n",
       "      <td>9.0</td>\n",
       "      <td>183</td>\n",
       "      <td>99.0</td>\n",
       "      <td>63.9</td>\n",
       "      <td>36.4</td>\n",
       "    </tr>\n",
       "  </tbody>\n",
       "</table>\n",
       "</div>"
      ],
      "text/plain": [
       "    continent country_region total_cases total_deaths  total_cases_1M_pop  \\\n",
       "160    Africa         Angola          86            4                 3.0   \n",
       "161    Africa        Burundi          63            1                 5.0   \n",
       "105      Asia          Syria         122            5                 7.0   \n",
       "156    Africa     Mozambique         254            2                 8.0   \n",
       "148    Africa       Tanzania         509           21                 9.0   \n",
       "\n",
       "    total_recovered   bcg  life_expectancy  infant_mortality  \n",
       "160              18  79.0             61.3              62.3  \n",
       "161              33  93.0             66.7              40.1  \n",
       "105              46  66.0             73.7              16.5  \n",
       "156              91  95.0             55.9              64.7  \n",
       "148             183  99.0             63.9              36.4  "
      ]
     },
     "execution_count": 626,
     "metadata": {},
     "output_type": "execute_result"
    }
   ],
   "source": [
    "merged_df_q3= merged_df_q3.sort_values(by=['total_cases_1M_pop'])\n",
    "merged_df_q3.head()"
   ]
  },
  {
   "cell_type": "code",
   "execution_count": 627,
   "metadata": {},
   "outputs": [
    {
     "data": {
      "image/png": "[encoded data removed]",
      "text/plain": [
       "<Figure size 432x288 with 1 Axes>"
      ]
     },
     "metadata": {
      "needs_background": "light"
     },
     "output_type": "display_data"
    }
   ],
   "source": [
    "# show distribution of the results\n",
    "plt.scatter(merged_df_q3['bcg'], merged_df_q3['total_cases_1M_pop'], color = 'green')\n",
    "\n",
    "plt.title(\"BCG vaccine vs total cases\")\n",
    "plt.xlabel(\"BCG coverage\")\n",
    "plt.ylabel(\"Total cases per mln\")\n",
    "plt.show()"
   ]
  },
  {
   "cell_type": "code",
   "execution_count": 628,
   "metadata": {},
   "outputs": [
    {
     "data": {
      "text/html": [
       "<div>\n",
       "<style scoped>\n",
       "    .dataframe tbody tr th:only-of-type {\n",
       "        vertical-align: middle;\n",
       "    }\n",
       "\n",
       "    .dataframe tbody tr th {\n",
       "        vertical-align: top;\n",
       "    }\n",
       "\n",
       "    .dataframe thead th {\n",
       "        text-align: right;\n",
       "    }\n",
       "</style>\n",
       "<table border=\"1\" class=\"dataframe\">\n",
       "  <thead>\n",
       "    <tr style=\"text-align: right;\">\n",
       "      <th></th>\n",
       "      <th>total_cases_1M_pop</th>\n",
       "      <th>bcg</th>\n",
       "      <th>life_expectancy</th>\n",
       "      <th>infant_mortality</th>\n",
       "    </tr>\n",
       "  </thead>\n",
       "  <tbody>\n",
       "    <tr>\n",
       "      <td>total_cases_1M_pop</td>\n",
       "      <td>1.000000</td>\n",
       "      <td>0.028947</td>\n",
       "      <td>0.323699</td>\n",
       "      <td>-0.283116</td>\n",
       "    </tr>\n",
       "    <tr>\n",
       "      <td>bcg</td>\n",
       "      <td>0.028947</td>\n",
       "      <td>1.000000</td>\n",
       "      <td>0.183783</td>\n",
       "      <td>-0.265631</td>\n",
       "    </tr>\n",
       "    <tr>\n",
       "      <td>life_expectancy</td>\n",
       "      <td>0.323699</td>\n",
       "      <td>0.183783</td>\n",
       "      <td>1.000000</td>\n",
       "      <td>-0.931667</td>\n",
       "    </tr>\n",
       "    <tr>\n",
       "      <td>infant_mortality</td>\n",
       "      <td>-0.283116</td>\n",
       "      <td>-0.265631</td>\n",
       "      <td>-0.931667</td>\n",
       "      <td>1.000000</td>\n",
       "    </tr>\n",
       "  </tbody>\n",
       "</table>\n",
       "</div>"
      ],
      "text/plain": [
       "                    total_cases_1M_pop       bcg  life_expectancy  \\\n",
       "total_cases_1M_pop            1.000000  0.028947         0.323699   \n",
       "bcg                           0.028947  1.000000         0.183783   \n",
       "life_expectancy               0.323699  0.183783         1.000000   \n",
       "infant_mortality             -0.283116 -0.265631        -0.931667   \n",
       "\n",
       "                    infant_mortality  \n",
       "total_cases_1M_pop         -0.283116  \n",
       "bcg                        -0.265631  \n",
       "life_expectancy            -0.931667  \n",
       "infant_mortality            1.000000  "
      ]
     },
     "execution_count": 628,
     "metadata": {},
     "output_type": "execute_result"
    }
   ],
   "source": [
    "# Display the correlation table\n",
    "merged_df_q3.corr(method = \"pearson\")"
   ]
  },
  {
   "cell_type": "markdown",
   "metadata": {},
   "source": [
    "### Conclusion: \n",
    "**We find no correlation between the BCG vaccination coverage and total number of Covid-19 cases per 1 million of population**"
   ]
  },
  {
   "cell_type": "markdown",
   "metadata": {},
   "source": [
    "## Question4: *Do countries with higher life expectancy suffer more from Covid-19 in terms of deaths recorded?*\n"
   ]
  },
  {
   "cell_type": "code",
   "execution_count": 629,
   "metadata": {},
   "outputs": [
    {
     "data": {
      "text/html": [
       "<div>\n",
       "<style scoped>\n",
       "    .dataframe tbody tr th:only-of-type {\n",
       "        vertical-align: middle;\n",
       "    }\n",
       "\n",
       "    .dataframe tbody tr th {\n",
       "        vertical-align: top;\n",
       "    }\n",
       "\n",
       "    .dataframe thead th {\n",
       "        text-align: right;\n",
       "    }\n",
       "</style>\n",
       "<table border=\"1\" class=\"dataframe\">\n",
       "  <thead>\n",
       "    <tr style=\"text-align: right;\">\n",
       "      <th></th>\n",
       "      <th>continent</th>\n",
       "      <th>country_region</th>\n",
       "      <th>total_cases</th>\n",
       "      <th>total_deaths</th>\n",
       "      <th>total_cases_1M_pop</th>\n",
       "      <th>total_recovered</th>\n",
       "      <th>bcg</th>\n",
       "      <th>life_expectancy</th>\n",
       "      <th>infant_mortality</th>\n",
       "    </tr>\n",
       "  </thead>\n",
       "  <tbody>\n",
       "    <tr>\n",
       "      <td>0</td>\n",
       "      <td>Europe</td>\n",
       "      <td>Russia</td>\n",
       "      <td>405,843</td>\n",
       "      <td>4,693</td>\n",
       "      <td>2,781</td>\n",
       "      <td>171,883</td>\n",
       "      <td>96.0</td>\n",
       "      <td>71.9</td>\n",
       "      <td>6.5</td>\n",
       "    </tr>\n",
       "    <tr>\n",
       "      <td>1</td>\n",
       "      <td>Europe</td>\n",
       "      <td>Spain</td>\n",
       "      <td>286,509</td>\n",
       "      <td>27,127</td>\n",
       "      <td>6,128</td>\n",
       "      <td>196,958</td>\n",
       "      <td>NaN</td>\n",
       "      <td>82.0</td>\n",
       "      <td>3.2</td>\n",
       "    </tr>\n",
       "    <tr>\n",
       "      <td>2</td>\n",
       "      <td>Europe</td>\n",
       "      <td>UK</td>\n",
       "      <td>274,762</td>\n",
       "      <td>38,489</td>\n",
       "      <td>4,049</td>\n",
       "      <td>NaN</td>\n",
       "      <td>NaN</td>\n",
       "      <td>81.1</td>\n",
       "      <td>4.1</td>\n",
       "    </tr>\n",
       "    <tr>\n",
       "      <td>3</td>\n",
       "      <td>Europe</td>\n",
       "      <td>Italy</td>\n",
       "      <td>232,997</td>\n",
       "      <td>33,415</td>\n",
       "      <td>3,853</td>\n",
       "      <td>157,507</td>\n",
       "      <td>NaN</td>\n",
       "      <td>82.5</td>\n",
       "      <td>3.2</td>\n",
       "    </tr>\n",
       "    <tr>\n",
       "      <td>4</td>\n",
       "      <td>Europe</td>\n",
       "      <td>France</td>\n",
       "      <td>188,882</td>\n",
       "      <td>28,802</td>\n",
       "      <td>2,894</td>\n",
       "      <td>68,355</td>\n",
       "      <td>78.0</td>\n",
       "      <td>82.2</td>\n",
       "      <td>3.2</td>\n",
       "    </tr>\n",
       "  </tbody>\n",
       "</table>\n",
       "</div>"
      ],
      "text/plain": [
       "  continent country_region total_cases total_deaths total_cases_1M_pop  \\\n",
       "0    Europe         Russia     405,843        4,693              2,781   \n",
       "1    Europe          Spain     286,509       27,127              6,128   \n",
       "2    Europe             UK     274,762       38,489              4,049   \n",
       "3    Europe          Italy     232,997       33,415              3,853   \n",
       "4    Europe         France     188,882       28,802              2,894   \n",
       "\n",
       "  total_recovered   bcg  life_expectancy  infant_mortality  \n",
       "0         171,883  96.0             71.9               6.5  \n",
       "1         196,958   NaN             82.0               3.2  \n",
       "2             NaN   NaN             81.1               4.1  \n",
       "3         157,507   NaN             82.5               3.2  \n",
       "4          68,355  78.0             82.2               3.2  "
      ]
     },
     "execution_count": 629,
     "metadata": {},
     "output_type": "execute_result"
    }
   ],
   "source": [
    "# Merging the datasets\n",
    "merged_df_q4 = covid19_dfqs.merge(health_dfqs, on = ['country_region']) \n",
    "merged_df_q4.head()"
   ]
  },
  {
   "cell_type": "code",
   "execution_count": 630,
   "metadata": {},
   "outputs": [
    {
     "data": {
      "text/html": [
       "<div>\n",
       "<style scoped>\n",
       "    .dataframe tbody tr th:only-of-type {\n",
       "        vertical-align: middle;\n",
       "    }\n",
       "\n",
       "    .dataframe tbody tr th {\n",
       "        vertical-align: top;\n",
       "    }\n",
       "\n",
       "    .dataframe thead th {\n",
       "        text-align: right;\n",
       "    }\n",
       "</style>\n",
       "<table border=\"1\" class=\"dataframe\">\n",
       "  <thead>\n",
       "    <tr style=\"text-align: right;\">\n",
       "      <th></th>\n",
       "      <th>country_region</th>\n",
       "      <th>total_deaths</th>\n",
       "      <th>life_expectancy</th>\n",
       "    </tr>\n",
       "  </thead>\n",
       "  <tbody>\n",
       "    <tr>\n",
       "      <td>0</td>\n",
       "      <td>Russia</td>\n",
       "      <td>4,693</td>\n",
       "      <td>71.9</td>\n",
       "    </tr>\n",
       "    <tr>\n",
       "      <td>1</td>\n",
       "      <td>Spain</td>\n",
       "      <td>27,127</td>\n",
       "      <td>82.0</td>\n",
       "    </tr>\n",
       "    <tr>\n",
       "      <td>2</td>\n",
       "      <td>UK</td>\n",
       "      <td>38,489</td>\n",
       "      <td>81.1</td>\n",
       "    </tr>\n",
       "    <tr>\n",
       "      <td>3</td>\n",
       "      <td>Italy</td>\n",
       "      <td>33,415</td>\n",
       "      <td>82.5</td>\n",
       "    </tr>\n",
       "    <tr>\n",
       "      <td>4</td>\n",
       "      <td>France</td>\n",
       "      <td>28,802</td>\n",
       "      <td>82.2</td>\n",
       "    </tr>\n",
       "  </tbody>\n",
       "</table>\n",
       "</div>"
      ],
      "text/plain": [
       "  country_region total_deaths  life_expectancy\n",
       "0         Russia        4,693             71.9\n",
       "1          Spain       27,127             82.0\n",
       "2             UK       38,489             81.1\n",
       "3          Italy       33,415             82.5\n",
       "4         France       28,802             82.2"
      ]
     },
     "execution_count": 630,
     "metadata": {},
     "output_type": "execute_result"
    }
   ],
   "source": [
    "#Selecting the columns we need\n",
    "merged_df_q4 = merged_df_q4[[\"country_region\",\"total_deaths\",\"life_expectancy\"]]\n",
    "merged_df_q4.head()"
   ]
  },
  {
   "cell_type": "code",
   "execution_count": 631,
   "metadata": {},
   "outputs": [
    {
     "name": "stdout",
     "output_type": "stream",
     "text": [
      "<class 'pandas.core.frame.DataFrame'>\n",
      "Int64Index: 171 entries, 0 to 170\n",
      "Data columns (total 3 columns):\n",
      "country_region     171 non-null object\n",
      "total_deaths       155 non-null object\n",
      "life_expectancy    161 non-null float64\n",
      "dtypes: float64(1), object(2)\n",
      "memory usage: 5.3+ KB\n"
     ]
    }
   ],
   "source": [
    "merged_df_q4.info()"
   ]
  },
  {
   "cell_type": "code",
   "execution_count": 632,
   "metadata": {},
   "outputs": [],
   "source": [
    "merged_df_q4= merged_df_q4.dropna()"
   ]
  },
  {
   "cell_type": "code",
   "execution_count": 633,
   "metadata": {},
   "outputs": [
    {
     "name": "stdout",
     "output_type": "stream",
     "text": [
      "<class 'pandas.core.frame.DataFrame'>\n",
      "Int64Index: 147 entries, 0 to 168\n",
      "Data columns (total 3 columns):\n",
      "country_region     147 non-null object\n",
      "total_deaths       147 non-null int32\n",
      "life_expectancy    147 non-null float64\n",
      "dtypes: float64(1), int32(1), object(1)\n",
      "memory usage: 4.0+ KB\n"
     ]
    }
   ],
   "source": [
    "merged_df_q4['total_deaths'] = merged_df_q4['total_deaths'].str.replace(',', '').astype(int)\n",
    "merged_df_q4.info()"
   ]
  },
  {
   "cell_type": "code",
   "execution_count": 634,
   "metadata": {
    "scrolled": true
   },
   "outputs": [
    {
     "data": {
      "text/html": [
       "<div>\n",
       "<style scoped>\n",
       "    .dataframe tbody tr th:only-of-type {\n",
       "        vertical-align: middle;\n",
       "    }\n",
       "\n",
       "    .dataframe tbody tr th {\n",
       "        vertical-align: top;\n",
       "    }\n",
       "\n",
       "    .dataframe thead th {\n",
       "        text-align: right;\n",
       "    }\n",
       "</style>\n",
       "<table border=\"1\" class=\"dataframe\">\n",
       "  <thead>\n",
       "    <tr style=\"text-align: right;\">\n",
       "      <th></th>\n",
       "      <th>country_region</th>\n",
       "      <th>total_deaths</th>\n",
       "      <th>life_expectancy</th>\n",
       "    </tr>\n",
       "  </thead>\n",
       "  <tbody>\n",
       "    <tr>\n",
       "      <td>43</td>\n",
       "      <td>USA</td>\n",
       "      <td>106195</td>\n",
       "      <td>80.3</td>\n",
       "    </tr>\n",
       "    <tr>\n",
       "      <td>2</td>\n",
       "      <td>UK</td>\n",
       "      <td>38489</td>\n",
       "      <td>81.1</td>\n",
       "    </tr>\n",
       "    <tr>\n",
       "      <td>3</td>\n",
       "      <td>Italy</td>\n",
       "      <td>33415</td>\n",
       "      <td>82.5</td>\n",
       "    </tr>\n",
       "    <tr>\n",
       "      <td>109</td>\n",
       "      <td>Brazil</td>\n",
       "      <td>29314</td>\n",
       "      <td>74.7</td>\n",
       "    </tr>\n",
       "    <tr>\n",
       "      <td>4</td>\n",
       "      <td>France</td>\n",
       "      <td>28802</td>\n",
       "      <td>82.2</td>\n",
       "    </tr>\n",
       "  </tbody>\n",
       "</table>\n",
       "</div>"
      ],
      "text/plain": [
       "    country_region  total_deaths  life_expectancy\n",
       "43             USA        106195             80.3\n",
       "2               UK         38489             81.1\n",
       "3            Italy         33415             82.5\n",
       "109         Brazil         29314             74.7\n",
       "4           France         28802             82.2"
      ]
     },
     "execution_count": 634,
     "metadata": {},
     "output_type": "execute_result"
    }
   ],
   "source": [
    "merged_df_q4= merged_df_q4.sort_values(\"total_deaths\",ascending=False)\n",
    "merged_df_q4.head()"
   ]
  },
  {
   "cell_type": "code",
   "execution_count": 635,
   "metadata": {},
   "outputs": [],
   "source": [
    "#Removing the outliers #method 1\n",
    "#merged_df_q4[\"total_deaths\"] = merged_df_q4[\"total_deaths\"][merged_df_q4[\"total_deaths\"].between(merged_df_q4[\"total_deaths\"].quantile(.05), merged_df_q4[\"total_deaths\"].quantile(.95))] "
   ]
  },
  {
   "cell_type": "code",
   "execution_count": 636,
   "metadata": {},
   "outputs": [
    {
     "data": {
      "text/html": [
       "<div>\n",
       "<style scoped>\n",
       "    .dataframe tbody tr th:only-of-type {\n",
       "        vertical-align: middle;\n",
       "    }\n",
       "\n",
       "    .dataframe tbody tr th {\n",
       "        vertical-align: top;\n",
       "    }\n",
       "\n",
       "    .dataframe thead th {\n",
       "        text-align: right;\n",
       "    }\n",
       "</style>\n",
       "<table border=\"1\" class=\"dataframe\">\n",
       "  <thead>\n",
       "    <tr style=\"text-align: right;\">\n",
       "      <th></th>\n",
       "      <th>country_region</th>\n",
       "      <th>total_deaths</th>\n",
       "      <th>life_expectancy</th>\n",
       "    </tr>\n",
       "  </thead>\n",
       "  <tbody>\n",
       "    <tr>\n",
       "      <td>44</td>\n",
       "      <td>Canada</td>\n",
       "      <td>7295.0</td>\n",
       "      <td>83.4</td>\n",
       "    </tr>\n",
       "    <tr>\n",
       "      <td>7</td>\n",
       "      <td>Netherlands</td>\n",
       "      <td>5956.0</td>\n",
       "      <td>81.7</td>\n",
       "    </tr>\n",
       "    <tr>\n",
       "      <td>65</td>\n",
       "      <td>India</td>\n",
       "      <td>5408.0</td>\n",
       "      <td>69.7</td>\n",
       "    </tr>\n",
       "    <tr>\n",
       "      <td>0</td>\n",
       "      <td>Russia</td>\n",
       "      <td>4693.0</td>\n",
       "      <td>71.9</td>\n",
       "    </tr>\n",
       "    <tr>\n",
       "      <td>69</td>\n",
       "      <td>China</td>\n",
       "      <td>4634.0</td>\n",
       "      <td>76.1</td>\n",
       "    </tr>\n",
       "  </tbody>\n",
       "</table>\n",
       "</div>"
      ],
      "text/plain": [
       "   country_region  total_deaths  life_expectancy\n",
       "44         Canada        7295.0             83.4\n",
       "7     Netherlands        5956.0             81.7\n",
       "65          India        5408.0             69.7\n",
       "0          Russia        4693.0             71.9\n",
       "69          China        4634.0             76.1"
      ]
     },
     "execution_count": 636,
     "metadata": {},
     "output_type": "execute_result"
    }
   ],
   "source": [
    "# Removing the outliers #method 2\n",
    "merged_df_q4[\"total_deaths\"] = merged_df_q4[\"total_deaths\"][merged_df_q4[\"total_deaths\"].between(merged_df_q4[\"total_deaths\"].quantile(.05), merged_df_q4[\"total_deaths\"].quantile(.95))] \n",
    "q_low = merged_df_q4['total_deaths'].quantile(0.01)\n",
    "q_hi  = merged_df_q4['total_deaths'].quantile(0.99)\n",
    "\n",
    "merged_df_q4 = merged_df_q4[(merged_df_q4['total_deaths'] < q_hi) & (merged_df_q4['total_deaths'] > q_low)]\n",
    "merged_df_q4.head()"
   ]
  },
  {
   "cell_type": "code",
   "execution_count": 637,
   "metadata": {},
   "outputs": [
    {
     "data": {
      "image/png": "[encoded data removed]",
      "text/plain": [
       "<Figure size 432x288 with 1 Axes>"
      ]
     },
     "metadata": {
      "needs_background": "light"
     },
     "output_type": "display_data"
    }
   ],
   "source": [
    "# show distribution of the results\n",
    "plt.scatter(merged_df_q4[\"total_deaths\"], merged_df_q4[\"life_expectancy\"], color = 'purple')\n",
    "\n",
    "plt.title(\"Life expectancy vs total deaths\")\n",
    "plt.xlabel(\"Total Covid-19 deaths\")\n",
    "plt.ylabel(\"Life expectancy at birth\")\n",
    "plt.show()"
   ]
  },
  {
   "cell_type": "code",
   "execution_count": 638,
   "metadata": {},
   "outputs": [
    {
     "data": {
      "text/html": [
       "<div>\n",
       "<style scoped>\n",
       "    .dataframe tbody tr th:only-of-type {\n",
       "        vertical-align: middle;\n",
       "    }\n",
       "\n",
       "    .dataframe tbody tr th {\n",
       "        vertical-align: top;\n",
       "    }\n",
       "\n",
       "    .dataframe thead th {\n",
       "        text-align: right;\n",
       "    }\n",
       "</style>\n",
       "<table border=\"1\" class=\"dataframe\">\n",
       "  <thead>\n",
       "    <tr style=\"text-align: right;\">\n",
       "      <th></th>\n",
       "      <th>total_deaths</th>\n",
       "      <th>life_expectancy</th>\n",
       "    </tr>\n",
       "  </thead>\n",
       "  <tbody>\n",
       "    <tr>\n",
       "      <td>total_deaths</td>\n",
       "      <td>1.000000</td>\n",
       "      <td>0.192885</td>\n",
       "    </tr>\n",
       "    <tr>\n",
       "      <td>life_expectancy</td>\n",
       "      <td>0.192885</td>\n",
       "      <td>1.000000</td>\n",
       "    </tr>\n",
       "  </tbody>\n",
       "</table>\n",
       "</div>"
      ],
      "text/plain": [
       "                 total_deaths  life_expectancy\n",
       "total_deaths         1.000000         0.192885\n",
       "life_expectancy      0.192885         1.000000"
      ]
     },
     "execution_count": 638,
     "metadata": {},
     "output_type": "execute_result"
    }
   ],
   "source": [
    "# Display the correlation table\n",
    "merged_df_q4.corr(method=\"pearson\")"
   ]
  },
  {
   "cell_type": "code",
   "execution_count": 639,
   "metadata": {},
   "outputs": [
    {
     "data": {
      "text/html": [
       "<table class=\"simpletable\">\n",
       "<caption>OLS Regression Results</caption>\n",
       "<tr>\n",
       "  <th>Dep. Variable:</th>      <td>total_deaths</td>   <th>  R-squared (uncentered):</th>      <td>   0.177</td>\n",
       "</tr>\n",
       "<tr>\n",
       "  <th>Model:</th>                   <td>OLS</td>       <th>  Adj. R-squared (uncentered):</th> <td>   0.170</td>\n",
       "</tr>\n",
       "<tr>\n",
       "  <th>Method:</th>             <td>Least Squares</td>  <th>  F-statistic:       </th>          <td>   27.29</td>\n",
       "</tr>\n",
       "<tr>\n",
       "  <th>Date:</th>             <td>Fri, 19 Jun 2020</td> <th>  Prob (F-statistic):</th>          <td>6.97e-07</td>\n",
       "</tr>\n",
       "<tr>\n",
       "  <th>Time:</th>                 <td>00:04:41</td>     <th>  Log-Likelihood:    </th>          <td> -1098.4</td>\n",
       "</tr>\n",
       "<tr>\n",
       "  <th>No. Observations:</th>      <td>   128</td>      <th>  AIC:               </th>          <td>   2199.</td>\n",
       "</tr>\n",
       "<tr>\n",
       "  <th>Df Residuals:</th>          <td>   127</td>      <th>  BIC:               </th>          <td>   2202.</td>\n",
       "</tr>\n",
       "<tr>\n",
       "  <th>Df Model:</th>              <td>     1</td>      <th>                     </th>              <td> </td>   \n",
       "</tr>\n",
       "<tr>\n",
       "  <th>Covariance Type:</th>      <td>nonrobust</td>    <th>                     </th>              <td> </td>   \n",
       "</tr>\n",
       "</table>\n",
       "<table class=\"simpletable\">\n",
       "<tr>\n",
       "         <td></td>            <th>coef</th>     <th>std err</th>      <th>t</th>      <th>P>|t|</th>  <th>[0.025</th>    <th>0.975]</th>  \n",
       "</tr>\n",
       "<tr>\n",
       "  <th>life_expectancy</th> <td>    8.0718</td> <td>    1.545</td> <td>    5.224</td> <td> 0.000</td> <td>    5.014</td> <td>   11.130</td>\n",
       "</tr>\n",
       "</table>\n",
       "<table class=\"simpletable\">\n",
       "<tr>\n",
       "  <th>Omnibus:</th>       <td>109.193</td> <th>  Durbin-Watson:     </th> <td>   0.031</td> \n",
       "</tr>\n",
       "<tr>\n",
       "  <th>Prob(Omnibus):</th> <td> 0.000</td>  <th>  Jarque-Bera (JB):  </th> <td> 755.523</td> \n",
       "</tr>\n",
       "<tr>\n",
       "  <th>Skew:</th>          <td> 3.217</td>  <th>  Prob(JB):          </th> <td>8.71e-165</td>\n",
       "</tr>\n",
       "<tr>\n",
       "  <th>Kurtosis:</th>      <td>13.013</td>  <th>  Cond. No.          </th> <td>    1.00</td> \n",
       "</tr>\n",
       "</table><br/><br/>Warnings:<br/>[1] Standard Errors assume that the covariance matrix of the errors is correctly specified."
      ],
      "text/plain": [
       "<class 'statsmodels.iolib.summary.Summary'>\n",
       "\"\"\"\n",
       "                                 OLS Regression Results                                \n",
       "=======================================================================================\n",
       "Dep. Variable:           total_deaths   R-squared (uncentered):                   0.177\n",
       "Model:                            OLS   Adj. R-squared (uncentered):              0.170\n",
       "Method:                 Least Squares   F-statistic:                              27.29\n",
       "Date:                Fri, 19 Jun 2020   Prob (F-statistic):                    6.97e-07\n",
       "Time:                        00:04:41   Log-Likelihood:                         -1098.4\n",
       "No. Observations:                 128   AIC:                                      2199.\n",
       "Df Residuals:                     127   BIC:                                      2202.\n",
       "Df Model:                           1                                                  \n",
       "Covariance Type:            nonrobust                                                  \n",
       "===================================================================================\n",
       "                      coef    std err          t      P>|t|      [0.025      0.975]\n",
       "-----------------------------------------------------------------------------------\n",
       "life_expectancy     8.0718      1.545      5.224      0.000       5.014      11.130\n",
       "==============================================================================\n",
       "Omnibus:                      109.193   Durbin-Watson:                   0.031\n",
       "Prob(Omnibus):                  0.000   Jarque-Bera (JB):              755.523\n",
       "Skew:                           3.217   Prob(JB):                    8.71e-165\n",
       "Kurtosis:                      13.013   Cond. No.                         1.00\n",
       "==============================================================================\n",
       "\n",
       "Warnings:\n",
       "[1] Standard Errors assume that the covariance matrix of the errors is correctly specified.\n",
       "\"\"\""
      ]
     },
     "execution_count": 639,
     "metadata": {},
     "output_type": "execute_result"
    }
   ],
   "source": [
    "# Displaying the regression table\n",
    "X = merged_df_q4[\"life_expectancy\"]\n",
    "y = merged_df_q4[\"total_deaths\"]\n",
    "\n",
    "# Note the difference in argument order\n",
    "model = sm.OLS(y, X).fit()\n",
    "predictions = model.predict(X) # make the predictions by the model\n",
    "\n",
    "# Print out the statistics\n",
    "model.summary()"
   ]
  },
  {
   "cell_type": "markdown",
   "metadata": {},
   "source": [
    "### Conclusion\n",
    "**We do not observe a strong correlation between the number of total deaths and the life expectancy at birth.**"
   ]
  },
  {
   "cell_type": "markdown",
   "metadata": {},
   "source": [
    "## Question5: *What country has the highest ratio of recovered cases?*\n"
   ]
  },
  {
   "cell_type": "code",
   "execution_count": 640,
   "metadata": {},
   "outputs": [],
   "source": [
    "# Creating a copy of the dataset for the question 5\n",
    "covid19_df_q5 = covid19_dfqs.copy()"
   ]
  },
  {
   "cell_type": "code",
   "execution_count": 641,
   "metadata": {},
   "outputs": [
    {
     "data": {
      "text/html": [
       "<div>\n",
       "<style scoped>\n",
       "    .dataframe tbody tr th:only-of-type {\n",
       "        vertical-align: middle;\n",
       "    }\n",
       "\n",
       "    .dataframe tbody tr th {\n",
       "        vertical-align: top;\n",
       "    }\n",
       "\n",
       "    .dataframe thead th {\n",
       "        text-align: right;\n",
       "    }\n",
       "</style>\n",
       "<table border=\"1\" class=\"dataframe\">\n",
       "  <thead>\n",
       "    <tr style=\"text-align: right;\">\n",
       "      <th></th>\n",
       "      <th>country_region</th>\n",
       "      <th>total_cases</th>\n",
       "      <th>total_recovered</th>\n",
       "    </tr>\n",
       "  </thead>\n",
       "  <tbody>\n",
       "    <tr>\n",
       "      <td>0</td>\n",
       "      <td>Russia</td>\n",
       "      <td>405,843</td>\n",
       "      <td>171,883</td>\n",
       "    </tr>\n",
       "    <tr>\n",
       "      <td>1</td>\n",
       "      <td>Spain</td>\n",
       "      <td>286,509</td>\n",
       "      <td>196,958</td>\n",
       "    </tr>\n",
       "    <tr>\n",
       "      <td>2</td>\n",
       "      <td>UK</td>\n",
       "      <td>274,762</td>\n",
       "      <td>NaN</td>\n",
       "    </tr>\n",
       "    <tr>\n",
       "      <td>3</td>\n",
       "      <td>Italy</td>\n",
       "      <td>232,997</td>\n",
       "      <td>157,507</td>\n",
       "    </tr>\n",
       "    <tr>\n",
       "      <td>4</td>\n",
       "      <td>France</td>\n",
       "      <td>188,882</td>\n",
       "      <td>68,355</td>\n",
       "    </tr>\n",
       "  </tbody>\n",
       "</table>\n",
       "</div>"
      ],
      "text/plain": [
       "  country_region total_cases total_recovered\n",
       "0         Russia     405,843         171,883\n",
       "1          Spain     286,509         196,958\n",
       "2             UK     274,762             NaN\n",
       "3          Italy     232,997         157,507\n",
       "4         France     188,882          68,355"
      ]
     },
     "execution_count": 641,
     "metadata": {},
     "output_type": "execute_result"
    }
   ],
   "source": [
    "# Selecting the data we need\n",
    "covid19_df_q5 = covid19_df_q5[['country_region','total_cases','total_recovered',]]\n",
    "covid19_df_q5.head()"
   ]
  },
  {
   "cell_type": "code",
   "execution_count": 642,
   "metadata": {},
   "outputs": [
    {
     "data": {
      "text/plain": [
       "(213, 3)"
      ]
     },
     "execution_count": 642,
     "metadata": {},
     "output_type": "execute_result"
    }
   ],
   "source": [
    "# Checking the number of rows and columns\n",
    "covid19_df_q5.shape"
   ]
  },
  {
   "cell_type": "code",
   "execution_count": 643,
   "metadata": {},
   "outputs": [
    {
     "name": "stdout",
     "output_type": "stream",
     "text": [
      "<class 'pandas.core.frame.DataFrame'>\n",
      "RangeIndex: 213 entries, 0 to 212\n",
      "Data columns (total 3 columns):\n",
      "country_region     213 non-null object\n",
      "total_cases        213 non-null object\n",
      "total_recovered    211 non-null object\n",
      "dtypes: object(3)\n",
      "memory usage: 5.1+ KB\n"
     ]
    }
   ],
   "source": [
    "# Information about the df\n",
    "covid19_df_q5.info()"
   ]
  },
  {
   "cell_type": "code",
   "execution_count": 644,
   "metadata": {},
   "outputs": [],
   "source": [
    "# Dropping missing values\n",
    "covid19_df_q5 = covid19_df_q5.dropna()"
   ]
  },
  {
   "cell_type": "code",
   "execution_count": 645,
   "metadata": {},
   "outputs": [],
   "source": [
    "# Transforming object(str) to int\n",
    "covid19_df_q5['total_cases'] = covid19_df_q5['total_cases'].str.replace(',', '').astype(int)"
   ]
  },
  {
   "cell_type": "code",
   "execution_count": 646,
   "metadata": {},
   "outputs": [],
   "source": [
    "# Transforming object(str) to int\n",
    "covid19_df_q5['total_recovered'] = covid19_df_q5['total_recovered'].str.replace(',', '').astype(int)"
   ]
  },
  {
   "cell_type": "code",
   "execution_count": 647,
   "metadata": {},
   "outputs": [
    {
     "name": "stdout",
     "output_type": "stream",
     "text": [
      "<class 'pandas.core.frame.DataFrame'>\n",
      "Int64Index: 211 entries, 0 to 212\n",
      "Data columns (total 3 columns):\n",
      "country_region     211 non-null object\n",
      "total_cases        211 non-null int32\n",
      "total_recovered    211 non-null int32\n",
      "dtypes: int32(2), object(1)\n",
      "memory usage: 4.9+ KB\n"
     ]
    }
   ],
   "source": [
    "# Double checking that objects have been transformed to int\n",
    "covid19_df_q5.info()"
   ]
  },
  {
   "cell_type": "code",
   "execution_count": 648,
   "metadata": {},
   "outputs": [
    {
     "data": {
      "text/html": [
       "<div>\n",
       "<style scoped>\n",
       "    .dataframe tbody tr th:only-of-type {\n",
       "        vertical-align: middle;\n",
       "    }\n",
       "\n",
       "    .dataframe tbody tr th {\n",
       "        vertical-align: top;\n",
       "    }\n",
       "\n",
       "    .dataframe thead th {\n",
       "        text-align: right;\n",
       "    }\n",
       "</style>\n",
       "<table border=\"1\" class=\"dataframe\">\n",
       "  <thead>\n",
       "    <tr style=\"text-align: right;\">\n",
       "      <th></th>\n",
       "      <th>country_region</th>\n",
       "      <th>total_cases</th>\n",
       "      <th>total_recovered</th>\n",
       "    </tr>\n",
       "  </thead>\n",
       "  <tbody>\n",
       "    <tr>\n",
       "      <td>208</td>\n",
       "      <td>New Zealand</td>\n",
       "      <td>1504</td>\n",
       "      <td>1481</td>\n",
       "    </tr>\n",
       "    <tr>\n",
       "      <td>209</td>\n",
       "      <td>French Polynesia</td>\n",
       "      <td>60</td>\n",
       "      <td>60</td>\n",
       "    </tr>\n",
       "    <tr>\n",
       "      <td>210</td>\n",
       "      <td>New Caledonia</td>\n",
       "      <td>19</td>\n",
       "      <td>18</td>\n",
       "    </tr>\n",
       "    <tr>\n",
       "      <td>211</td>\n",
       "      <td>Fiji</td>\n",
       "      <td>18</td>\n",
       "      <td>15</td>\n",
       "    </tr>\n",
       "    <tr>\n",
       "      <td>212</td>\n",
       "      <td>Papua New Guinea</td>\n",
       "      <td>8</td>\n",
       "      <td>8</td>\n",
       "    </tr>\n",
       "  </tbody>\n",
       "</table>\n",
       "</div>"
      ],
      "text/plain": [
       "       country_region  total_cases  total_recovered\n",
       "208       New Zealand         1504             1481\n",
       "209  French Polynesia           60               60\n",
       "210     New Caledonia           19               18\n",
       "211              Fiji           18               15\n",
       "212  Papua New Guinea            8                8"
      ]
     },
     "execution_count": 648,
     "metadata": {},
     "output_type": "execute_result"
    }
   ],
   "source": [
    "# We can see what in some countries total cases = total recovered\n",
    "covid19_df_q5.tail()"
   ]
  },
  {
   "cell_type": "code",
   "execution_count": 649,
   "metadata": {},
   "outputs": [
    {
     "name": "stdout",
     "output_type": "stream",
     "text": [
      "<class 'pandas.core.frame.DataFrame'>\n",
      "Int64Index: 211 entries, 0 to 212\n",
      "Data columns (total 4 columns):\n",
      "country_region     211 non-null object\n",
      "total_cases        211 non-null int32\n",
      "total_recovered    211 non-null int32\n",
      "Cases>5000         211 non-null bool\n",
      "dtypes: bool(1), int32(2), object(1)\n",
      "memory usage: 5.2+ KB\n"
     ]
    }
   ],
   "source": [
    "# Checking what countries have more than 5000 total cases.\n",
    "# It allows us to consider countries that had bigger outbreaks. \n",
    "covid19_df_q5[\"Cases>5000\"]= covid19_df_q5['total_cases'] > 5000\n",
    "covid19_df_q5.info()"
   ]
  },
  {
   "cell_type": "code",
   "execution_count": 650,
   "metadata": {},
   "outputs": [
    {
     "name": "stdout",
     "output_type": "stream",
     "text": [
      "<class 'pandas.core.frame.DataFrame'>\n",
      "Int64Index: 67 entries, 0 to 207\n",
      "Data columns (total 4 columns):\n",
      "country_region     67 non-null object\n",
      "total_cases        67 non-null int32\n",
      "total_recovered    67 non-null int32\n",
      "Cases>5000         67 non-null bool\n",
      "dtypes: bool(1), int32(2), object(1)\n",
      "memory usage: 1.6+ KB\n"
     ]
    }
   ],
   "source": [
    "# We are only left with 67 countries that have more than 5000 \n",
    "covid19_df_q5 = covid19_df_q5[covid19_df_q5['Cases>5000'] == True] \n",
    "covid19_df_q5.info()"
   ]
  },
  {
   "cell_type": "code",
   "execution_count": 651,
   "metadata": {},
   "outputs": [
    {
     "name": "stdout",
     "output_type": "stream",
     "text": [
      "<class 'pandas.core.frame.DataFrame'>\n",
      "Int64Index: 67 entries, 0 to 207\n",
      "Data columns (total 5 columns):\n",
      "country_region     67 non-null object\n",
      "total_cases        67 non-null int32\n",
      "total_recovered    67 non-null int32\n",
      "Cases>5000         67 non-null bool\n",
      "recovery_rate      67 non-null int32\n",
      "dtypes: bool(1), int32(3), object(1)\n",
      "memory usage: 1.9+ KB\n"
     ]
    }
   ],
   "source": [
    "# Adding a new column that corresponds to recovery rate\n",
    "# Transforming it to rounded percentage number\n",
    "# Changing it from float to int\n",
    "covid19_df_q5[\"recovery_rate\"]= covid19_df_q5[\"total_recovered\"]/covid19_df_q5[\"total_cases\"]\n",
    "covid19_df_q5[\"recovery_rate\"] = (covid19_df_q5[\"recovery_rate\"] * 100).round()\n",
    "covid19_df_q5[\"recovery_rate\"] = covid19_df_q5[\"recovery_rate\"].dropna().astype('int')\n",
    "covid19_df_q5.info()"
   ]
  },
  {
   "cell_type": "code",
   "execution_count": 652,
   "metadata": {},
   "outputs": [
    {
     "data": {
      "text/html": [
       "<div>\n",
       "<style scoped>\n",
       "    .dataframe tbody tr th:only-of-type {\n",
       "        vertical-align: middle;\n",
       "    }\n",
       "\n",
       "    .dataframe tbody tr th {\n",
       "        vertical-align: top;\n",
       "    }\n",
       "\n",
       "    .dataframe thead th {\n",
       "        text-align: right;\n",
       "    }\n",
       "</style>\n",
       "<table border=\"1\" class=\"dataframe\">\n",
       "  <thead>\n",
       "    <tr style=\"text-align: right;\">\n",
       "      <th></th>\n",
       "      <th>country_region</th>\n",
       "      <th>total_cases</th>\n",
       "      <th>total_recovered</th>\n",
       "      <th>Cases&gt;5000</th>\n",
       "      <th>recovery_rate</th>\n",
       "    </tr>\n",
       "  </thead>\n",
       "  <tbody>\n",
       "    <tr>\n",
       "      <td>0</td>\n",
       "      <td>Russia</td>\n",
       "      <td>405843</td>\n",
       "      <td>171883</td>\n",
       "      <td>True</td>\n",
       "      <td>42</td>\n",
       "    </tr>\n",
       "    <tr>\n",
       "      <td>1</td>\n",
       "      <td>Spain</td>\n",
       "      <td>286509</td>\n",
       "      <td>196958</td>\n",
       "      <td>True</td>\n",
       "      <td>69</td>\n",
       "    </tr>\n",
       "    <tr>\n",
       "      <td>3</td>\n",
       "      <td>Italy</td>\n",
       "      <td>232997</td>\n",
       "      <td>157507</td>\n",
       "      <td>True</td>\n",
       "      <td>68</td>\n",
       "    </tr>\n",
       "    <tr>\n",
       "      <td>4</td>\n",
       "      <td>France</td>\n",
       "      <td>188882</td>\n",
       "      <td>68355</td>\n",
       "      <td>True</td>\n",
       "      <td>36</td>\n",
       "    </tr>\n",
       "    <tr>\n",
       "      <td>5</td>\n",
       "      <td>Germany</td>\n",
       "      <td>183494</td>\n",
       "      <td>165200</td>\n",
       "      <td>True</td>\n",
       "      <td>90</td>\n",
       "    </tr>\n",
       "  </tbody>\n",
       "</table>\n",
       "</div>"
      ],
      "text/plain": [
       "  country_region  total_cases  total_recovered  Cases>5000  recovery_rate\n",
       "0         Russia       405843           171883        True             42\n",
       "1          Spain       286509           196958        True             69\n",
       "3          Italy       232997           157507        True             68\n",
       "4         France       188882            68355        True             36\n",
       "5        Germany       183494           165200        True             90"
      ]
     },
     "execution_count": 652,
     "metadata": {},
     "output_type": "execute_result"
    }
   ],
   "source": [
    "covid19_df_q5.head()"
   ]
  },
  {
   "cell_type": "code",
   "execution_count": 653,
   "metadata": {},
   "outputs": [
    {
     "data": {
      "text/html": [
       "<div>\n",
       "<style scoped>\n",
       "    .dataframe tbody tr th:only-of-type {\n",
       "        vertical-align: middle;\n",
       "    }\n",
       "\n",
       "    .dataframe tbody tr th {\n",
       "        vertical-align: top;\n",
       "    }\n",
       "\n",
       "    .dataframe thead th {\n",
       "        text-align: right;\n",
       "    }\n",
       "</style>\n",
       "<table border=\"1\" class=\"dataframe\">\n",
       "  <thead>\n",
       "    <tr style=\"text-align: right;\">\n",
       "      <th></th>\n",
       "      <th>country_region</th>\n",
       "      <th>total_cases</th>\n",
       "      <th>total_recovered</th>\n",
       "      <th>Cases&gt;5000</th>\n",
       "      <th>recovery_rate</th>\n",
       "    </tr>\n",
       "  </thead>\n",
       "  <tbody>\n",
       "    <tr>\n",
       "      <td>91</td>\n",
       "      <td>China</td>\n",
       "      <td>83001</td>\n",
       "      <td>78304</td>\n",
       "      <td>True</td>\n",
       "      <td>94</td>\n",
       "    </tr>\n",
       "    <tr>\n",
       "      <td>16</td>\n",
       "      <td>Austria</td>\n",
       "      <td>16731</td>\n",
       "      <td>15593</td>\n",
       "      <td>True</td>\n",
       "      <td>93</td>\n",
       "    </tr>\n",
       "    <tr>\n",
       "      <td>207</td>\n",
       "      <td>Australia</td>\n",
       "      <td>7195</td>\n",
       "      <td>6614</td>\n",
       "      <td>True</td>\n",
       "      <td>92</td>\n",
       "    </tr>\n",
       "    <tr>\n",
       "      <td>20</td>\n",
       "      <td>Norway</td>\n",
       "      <td>8440</td>\n",
       "      <td>7727</td>\n",
       "      <td>True</td>\n",
       "      <td>92</td>\n",
       "    </tr>\n",
       "    <tr>\n",
       "      <td>11</td>\n",
       "      <td>Switzerland</td>\n",
       "      <td>30862</td>\n",
       "      <td>28500</td>\n",
       "      <td>True</td>\n",
       "      <td>92</td>\n",
       "    </tr>\n",
       "  </tbody>\n",
       "</table>\n",
       "</div>"
      ],
      "text/plain": [
       "    country_region  total_cases  total_recovered  Cases>5000  recovery_rate\n",
       "91           China        83001            78304        True             94\n",
       "16         Austria        16731            15593        True             93\n",
       "207      Australia         7195             6614        True             92\n",
       "20          Norway         8440             7727        True             92\n",
       "11     Switzerland        30862            28500        True             92"
      ]
     },
     "execution_count": 653,
     "metadata": {},
     "output_type": "execute_result"
    }
   ],
   "source": [
    "# First prepare your dataframe, e.g. sort so x and y will align properly\n",
    "XY = covid19_df_q5.sort_values('recovery_rate', ascending=False)\n",
    "XY.head()"
   ]
  },
  {
   "cell_type": "code",
   "execution_count": 654,
   "metadata": {},
   "outputs": [
    {
     "data": {
      "image/png": "[encoded data removed]",
      "text/plain": [
       "<Figure size 648x468 with 1 Axes>"
      ]
     },
     "metadata": {
      "needs_background": "light"
     },
     "output_type": "display_data"
    }
   ],
   "source": [
    "# Displaying the results\n",
    "# In this specific case x and y axis should be treated together in a dataframe and not munipulated apart. \n",
    "\n",
    "x = XY['country_region']\n",
    "y = XY['recovery_rate'][:10]\n",
    "\n",
    "fig, ax = plt.subplots(figsize=(9, 6.5)) \n",
    "width = 0.5 # the width of the bars \n",
    "ind = np.arange(len(y))  # the x locations for the groups\n",
    "ax.barh(ind, y, width, color=\"0.4\")\n",
    "ax.set_yticks(ind+width/4)\n",
    "for i, v in enumerate(y): # adding numbers to every line\n",
    "        ax.text(v + 1, i + .1, str(v), color='black', fontweight='bold')\n",
    "ax.set_yticklabels(x,color = \"green\", fontsize = 12, minor=False)\n",
    "plt.xticks(range(0,125,15))\n",
    "plt.title(\"Recovery  rates\",color = \"purple\", fontsize = 16, fontweight=\"bold\")\n",
    "plt.xlabel(\"Percentage\", color = \"gray\")\n",
    "plt.gca().invert_yaxis()\n",
    "plt.show()"
   ]
  },
  {
   "cell_type": "markdown",
   "metadata": {},
   "source": [
    "### Conclusion\n",
    "\n",
    "**China has the highest percentage of recovered cases among countries with more than 5000 cases.**"
   ]
  }
 ],
 "metadata": {
  "kernelspec": {
   "display_name": "Python 3",
   "language": "python",
   "name": "python3"
  },
  "language_info": {
   "codemirror_mode": {
    "name": "ipython",
    "version": 3
   },
   "file_extension": ".py",
   "mimetype": "text/x-python",
   "name": "python",
   "nbconvert_exporter": "python",
   "pygments_lexer": "ipython3",
   "version": "3.7.4"
  }
 },
 "nbformat": 4,
 "nbformat_minor": 2
}
