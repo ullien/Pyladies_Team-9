{
 "cells": [
  {
   "cell_type": "markdown",
   "metadata": {},
   "source": [
    "# Capstone project collaboration Team-9\n",
    "# Bootcamp in Data Analysis/ Pyladies Amsterdam 2020\n",
    "# COVID-19: Myths and facts "
   ]
  },
  {
   "cell_type": "markdown",
   "metadata": {},
   "source": [
    "## Motivation:\n",
    "**Covid-19 is a new virus, but it has already been a subject of a few conspiracy theories. We have decided to take a role of MythBusters by using data analysis. We had a lot of ideas, but unfortunately with regards with some rumours, we were lacking the data.**\n",
    "\n",
    "These are the questions: \n",
    "     * What is the most Covid-19 affected continent in terms of infected cases and deaths?\n",
    "     * Do countries where BCG vaccine was widely implemented have higher life expectancy? \n",
    "     * Do countries where BCG vaccine was widely implemented have fewer infection rates per million?\n",
    "     * Do countries with higher life expectancy suffer more from Covid-19 in terms of deaths recorded?\n",
    "     * What country has the highest ratio of recovered cases?"
   ]
  },
  {
   "cell_type": "markdown",
   "metadata": {},
   "source": [
    "## Data\n",
    "\n",
    "* [Life expectancy and BCG coverage from Kaggle](https://www.kaggle.com/nxpnsv/country-health-indicators)\n",
    "\n",
    "* [Covid-19 data as of 31.05.20 from Worldometers ](https://www.worldometers.info/coronavirus/)"
   ]
  },
  {
   "cell_type": "markdown",
   "metadata": {},
   "source": [
    "## Data cleaning"
   ]
  },
  {
   "cell_type": "code",
   "execution_count": 1,
   "metadata": {},
   "outputs": [],
   "source": [
    "# Importing the necessery libraries\n",
    "import pandas as pd\n",
    "import numpy as np\n",
    "import seaborn as sns #visualisation\n",
    "import matplotlib.pyplot as plt #visualisation\n",
    "%matplotlib inline "
   ]
  },
  {
   "cell_type": "code",
   "execution_count": 48,
   "metadata": {},
   "outputs": [],
   "source": [
    "# Read the data and store it in chosen variable\n",
    "health_indicators = 'data_team-9/health_indicators.csv'\n",
    "health_df = pd.read_csv(health_indicators)\n",
    "covid19_file = 'data_team-9/worldometers_coronavirus.csv'\n",
    "covid19_df = pd.read_csv(covid19_file)"
   ]
  },
  {
   "cell_type": "code",
   "execution_count": 6,
   "metadata": {},
   "outputs": [
    {
     "data": {
      "text/html": [
       "<div>\n",
       "<style scoped>\n",
       "    .dataframe tbody tr th:only-of-type {\n",
       "        vertical-align: middle;\n",
       "    }\n",
       "\n",
       "    .dataframe tbody tr th {\n",
       "        vertical-align: top;\n",
       "    }\n",
       "\n",
       "    .dataframe thead th {\n",
       "        text-align: right;\n",
       "    }\n",
       "</style>\n",
       "<table border=\"1\" class=\"dataframe\">\n",
       "  <thead>\n",
       "    <tr style=\"text-align: right;\">\n",
       "      <th></th>\n",
       "      <th>Country_Region</th>\n",
       "      <th>first_1ConfirmedCases</th>\n",
       "      <th>first_1Fatalities</th>\n",
       "      <th>first_10ConfirmedCases</th>\n",
       "      <th>first_50ConfirmedCases</th>\n",
       "      <th>first_100ConfirmedCases</th>\n",
       "      <th>cases_growth</th>\n",
       "      <th>death_growth</th>\n",
       "      <th>Cardiovascular diseases (%)</th>\n",
       "      <th>Cancers (%)</th>\n",
       "      <th>...</th>\n",
       "      <th>total fertility rate</th>\n",
       "      <th>obesity - adult prevalence rate</th>\n",
       "      <th>school_shutdown_1case</th>\n",
       "      <th>school_shutdown_10case</th>\n",
       "      <th>school_shutdown_50case</th>\n",
       "      <th>school_shutdown_1death</th>\n",
       "      <th>FF_DayOfYear</th>\n",
       "      <th>case1_DayOfYear</th>\n",
       "      <th>case10_DayOfYear</th>\n",
       "      <th>case50_DayOfYear</th>\n",
       "    </tr>\n",
       "  </thead>\n",
       "  <tbody>\n",
       "    <tr>\n",
       "      <th>0</th>\n",
       "      <td>Afghanistan</td>\n",
       "      <td>2020-02-24</td>\n",
       "      <td>2020-03-22</td>\n",
       "      <td>2020-03-14</td>\n",
       "      <td>2020-03-24</td>\n",
       "      <td>2020-03-27</td>\n",
       "      <td>0.174179</td>\n",
       "      <td>0.083333</td>\n",
       "      <td>8.953006</td>\n",
       "      <td>3.372082</td>\n",
       "      <td>...</td>\n",
       "      <td>4.82</td>\n",
       "      <td>5.5</td>\n",
       "      <td>19.0</td>\n",
       "      <td>-0.0</td>\n",
       "      <td>-10.0</td>\n",
       "      <td>-8.0</td>\n",
       "      <td>82.0</td>\n",
       "      <td>55</td>\n",
       "      <td>74.0</td>\n",
       "      <td>84.0</td>\n",
       "    </tr>\n",
       "    <tr>\n",
       "      <th>1</th>\n",
       "      <td>Albania</td>\n",
       "      <td>2020-03-09</td>\n",
       "      <td>2020-03-11</td>\n",
       "      <td>2020-03-10</td>\n",
       "      <td>2020-03-16</td>\n",
       "      <td>2020-03-23</td>\n",
       "      <td>0.068699</td>\n",
       "      <td>0.130051</td>\n",
       "      <td>27.016784</td>\n",
       "      <td>13.225390</td>\n",
       "      <td>...</td>\n",
       "      <td>1.53</td>\n",
       "      <td>21.7</td>\n",
       "      <td>2.0</td>\n",
       "      <td>1.0</td>\n",
       "      <td>-5.0</td>\n",
       "      <td>-0.0</td>\n",
       "      <td>71.0</td>\n",
       "      <td>69</td>\n",
       "      <td>70.0</td>\n",
       "      <td>76.0</td>\n",
       "    </tr>\n",
       "    <tr>\n",
       "      <th>2</th>\n",
       "      <td>Algeria</td>\n",
       "      <td>2020-02-25</td>\n",
       "      <td>2020-03-12</td>\n",
       "      <td>2020-03-04</td>\n",
       "      <td>2020-03-16</td>\n",
       "      <td>2020-03-21</td>\n",
       "      <td>0.158588</td>\n",
       "      <td>0.228578</td>\n",
       "      <td>17.005476</td>\n",
       "      <td>6.481729</td>\n",
       "      <td>...</td>\n",
       "      <td>2.59</td>\n",
       "      <td>27.4</td>\n",
       "      <td>16.0</td>\n",
       "      <td>8.0</td>\n",
       "      <td>-4.0</td>\n",
       "      <td>-0.0</td>\n",
       "      <td>72.0</td>\n",
       "      <td>56</td>\n",
       "      <td>64.0</td>\n",
       "      <td>76.0</td>\n",
       "    </tr>\n",
       "    <tr>\n",
       "      <th>3</th>\n",
       "      <td>Andorra</td>\n",
       "      <td>2020-03-02</td>\n",
       "      <td>2020-03-22</td>\n",
       "      <td>2020-03-17</td>\n",
       "      <td>2020-03-19</td>\n",
       "      <td>2020-03-22</td>\n",
       "      <td>0.082774</td>\n",
       "      <td>0.345238</td>\n",
       "      <td>13.784688</td>\n",
       "      <td>17.879279</td>\n",
       "      <td>...</td>\n",
       "      <td>1.43</td>\n",
       "      <td>25.6</td>\n",
       "      <td>14.0</td>\n",
       "      <td>-1.0</td>\n",
       "      <td>-3.0</td>\n",
       "      <td>-6.0</td>\n",
       "      <td>82.0</td>\n",
       "      <td>62</td>\n",
       "      <td>77.0</td>\n",
       "      <td>79.0</td>\n",
       "    </tr>\n",
       "    <tr>\n",
       "      <th>4</th>\n",
       "      <td>Angola</td>\n",
       "      <td>2020-03-20</td>\n",
       "      <td>2020-03-29</td>\n",
       "      <td>NaN</td>\n",
       "      <td>NaN</td>\n",
       "      <td>NaN</td>\n",
       "      <td>0.132143</td>\n",
       "      <td>0.000000</td>\n",
       "      <td>4.480300</td>\n",
       "      <td>3.011632</td>\n",
       "      <td>...</td>\n",
       "      <td>5.96</td>\n",
       "      <td>8.2</td>\n",
       "      <td>4.0</td>\n",
       "      <td>NaN</td>\n",
       "      <td>NaN</td>\n",
       "      <td>-5.0</td>\n",
       "      <td>89.0</td>\n",
       "      <td>80</td>\n",
       "      <td>NaN</td>\n",
       "      <td>NaN</td>\n",
       "    </tr>\n",
       "  </tbody>\n",
       "</table>\n",
       "<p>5 rows × 70 columns</p>\n",
       "</div>"
      ],
      "text/plain": [
       "  Country_Region first_1ConfirmedCases first_1Fatalities  \\\n",
       "0    Afghanistan            2020-02-24        2020-03-22   \n",
       "1        Albania            2020-03-09        2020-03-11   \n",
       "2        Algeria            2020-02-25        2020-03-12   \n",
       "3        Andorra            2020-03-02        2020-03-22   \n",
       "4         Angola            2020-03-20        2020-03-29   \n",
       "\n",
       "  first_10ConfirmedCases first_50ConfirmedCases first_100ConfirmedCases  \\\n",
       "0             2020-03-14             2020-03-24              2020-03-27   \n",
       "1             2020-03-10             2020-03-16              2020-03-23   \n",
       "2             2020-03-04             2020-03-16              2020-03-21   \n",
       "3             2020-03-17             2020-03-19              2020-03-22   \n",
       "4                    NaN                    NaN                     NaN   \n",
       "\n",
       "   cases_growth  death_growth  Cardiovascular diseases (%)  Cancers (%)  ...  \\\n",
       "0      0.174179      0.083333                     8.953006     3.372082  ...   \n",
       "1      0.068699      0.130051                    27.016784    13.225390  ...   \n",
       "2      0.158588      0.228578                    17.005476     6.481729  ...   \n",
       "3      0.082774      0.345238                    13.784688    17.879279  ...   \n",
       "4      0.132143      0.000000                     4.480300     3.011632  ...   \n",
       "\n",
       "   total fertility rate  obesity - adult prevalence rate  \\\n",
       "0                  4.82                              5.5   \n",
       "1                  1.53                             21.7   \n",
       "2                  2.59                             27.4   \n",
       "3                  1.43                             25.6   \n",
       "4                  5.96                              8.2   \n",
       "\n",
       "   school_shutdown_1case  school_shutdown_10case  school_shutdown_50case  \\\n",
       "0                   19.0                    -0.0                   -10.0   \n",
       "1                    2.0                     1.0                    -5.0   \n",
       "2                   16.0                     8.0                    -4.0   \n",
       "3                   14.0                    -1.0                    -3.0   \n",
       "4                    4.0                     NaN                     NaN   \n",
       "\n",
       "   school_shutdown_1death  FF_DayOfYear  case1_DayOfYear  case10_DayOfYear  \\\n",
       "0                    -8.0          82.0               55              74.0   \n",
       "1                    -0.0          71.0               69              70.0   \n",
       "2                    -0.0          72.0               56              64.0   \n",
       "3                    -6.0          82.0               62              77.0   \n",
       "4                    -5.0          89.0               80               NaN   \n",
       "\n",
       "   case50_DayOfYear  \n",
       "0              84.0  \n",
       "1              76.0  \n",
       "2              76.0  \n",
       "3              79.0  \n",
       "4               NaN  \n",
       "\n",
       "[5 rows x 70 columns]"
      ]
     },
     "execution_count": 6,
     "metadata": {},
     "output_type": "execute_result"
    }
   ],
   "source": [
    "# Displaying the top 5 rows of Health dataset\n",
    "health_df.head()"
   ]
  },
  {
   "cell_type": "code",
   "execution_count": 7,
   "metadata": {},
   "outputs": [
    {
     "data": {
      "text/plain": [
       "Index(['Country_Region', 'first_1ConfirmedCases', 'first_1Fatalities',\n",
       "       'first_10ConfirmedCases', 'first_50ConfirmedCases',\n",
       "       'first_100ConfirmedCases', 'cases_growth', 'death_growth',\n",
       "       'Cardiovascular diseases (%)', 'Cancers (%)',\n",
       "       'Diabetes, blood, & endocrine diseases (%)', 'Respiratory diseases (%)',\n",
       "       'Liver disease (%)', 'Diarrhea & common infectious diseases (%)',\n",
       "       'Musculoskeletal disorders (%)', 'HIV/AIDS and tuberculosis (%)',\n",
       "       'Malaria & neglected tropical diseases (%)',\n",
       "       'Nutritional deficiencies (%)', 'pneumonia-death-rates',\n",
       "       'Share of deaths from smoking (%)', 'alcoholic_beverages',\n",
       "       'animal_fats', 'animal_products', 'aquatic_products,_other',\n",
       "       'cereals_-_excluding_beer', 'eggs', 'fish,_seafood',\n",
       "       'fruits_-_excluding_wine', 'meat', 'milk_-_excluding_butter',\n",
       "       'miscellaneous', 'offals', 'oilcrops', 'pulses', 'spices',\n",
       "       'starchy_roots', 'stimulants', 'sugar_&_sweeteners', 'treenuts',\n",
       "       'vegetable_oils', 'vegetables', 'vegetal_products',\n",
       "       'hospital_beds_per10k', 'hospital_density', 'nbr_surgeons',\n",
       "       'nbr_obstetricians', 'nbr_anaesthesiologists', 'medical_doctors_per10k',\n",
       "       'school_closure', 'bcg_coverage', 'bcg_year_delta', 'population',\n",
       "       'median age', 'population growth rate', 'birth rate', 'death rate',\n",
       "       'net migration rate', 'maternal mortality rate',\n",
       "       'infant mortality rate', 'life expectancy at birth',\n",
       "       'total fertility rate', 'obesity - adult prevalence rate',\n",
       "       'school_shutdown_1case', 'school_shutdown_10case',\n",
       "       'school_shutdown_50case', 'school_shutdown_1death', 'FF_DayOfYear',\n",
       "       'case1_DayOfYear', 'case10_DayOfYear', 'case50_DayOfYear'],\n",
       "      dtype='object')"
      ]
     },
     "execution_count": 7,
     "metadata": {},
     "output_type": "execute_result"
    }
   ],
   "source": [
    "# Displaying all the columns in Health dataset\n",
    "health_df.columns"
   ]
  },
  {
   "cell_type": "code",
   "execution_count": 8,
   "metadata": {},
   "outputs": [
    {
     "data": {
      "text/html": [
       "<div>\n",
       "<style scoped>\n",
       "    .dataframe tbody tr th:only-of-type {\n",
       "        vertical-align: middle;\n",
       "    }\n",
       "\n",
       "    .dataframe tbody tr th {\n",
       "        vertical-align: top;\n",
       "    }\n",
       "\n",
       "    .dataframe thead th {\n",
       "        text-align: right;\n",
       "    }\n",
       "</style>\n",
       "<table border=\"1\" class=\"dataframe\">\n",
       "  <thead>\n",
       "    <tr style=\"text-align: right;\">\n",
       "      <th></th>\n",
       "      <th>Country_Region</th>\n",
       "      <th>bcg_coverage</th>\n",
       "      <th>life expectancy at birth</th>\n",
       "      <th>infant mortality rate</th>\n",
       "    </tr>\n",
       "  </thead>\n",
       "  <tbody>\n",
       "    <tr>\n",
       "      <th>175</th>\n",
       "      <td>Venezuela</td>\n",
       "      <td>82.0</td>\n",
       "      <td>71.0</td>\n",
       "      <td>27.9</td>\n",
       "    </tr>\n",
       "    <tr>\n",
       "      <th>176</th>\n",
       "      <td>Vietnam</td>\n",
       "      <td>97.0</td>\n",
       "      <td>74.4</td>\n",
       "      <td>15.7</td>\n",
       "    </tr>\n",
       "    <tr>\n",
       "      <th>177</th>\n",
       "      <td>West Bank and Gaza</td>\n",
       "      <td>NaN</td>\n",
       "      <td>NaN</td>\n",
       "      <td>NaN</td>\n",
       "    </tr>\n",
       "    <tr>\n",
       "      <th>178</th>\n",
       "      <td>Zambia</td>\n",
       "      <td>99.0</td>\n",
       "      <td>53.6</td>\n",
       "      <td>56.0</td>\n",
       "    </tr>\n",
       "    <tr>\n",
       "      <th>179</th>\n",
       "      <td>Zimbabwe</td>\n",
       "      <td>90.0</td>\n",
       "      <td>62.3</td>\n",
       "      <td>30.3</td>\n",
       "    </tr>\n",
       "  </tbody>\n",
       "</table>\n",
       "</div>"
      ],
      "text/plain": [
       "         Country_Region  bcg_coverage  life expectancy at birth  \\\n",
       "175           Venezuela          82.0                      71.0   \n",
       "176             Vietnam          97.0                      74.4   \n",
       "177  West Bank and Gaza           NaN                       NaN   \n",
       "178              Zambia          99.0                      53.6   \n",
       "179            Zimbabwe          90.0                      62.3   \n",
       "\n",
       "     infant mortality rate  \n",
       "175                   27.9  \n",
       "176                   15.7  \n",
       "177                    NaN  \n",
       "178                   56.0  \n",
       "179                   30.3  "
      ]
     },
     "execution_count": 8,
     "metadata": {},
     "output_type": "execute_result"
    }
   ],
   "source": [
    "# Selecting the only columns we need in Health dataset\n",
    "health_df = health_df[[\"Country_Region\",\"bcg_coverage\",\"life expectancy at birth\",\"infant mortality rate\"]]\n",
    "health_df.tail()"
   ]
  },
  {
   "cell_type": "code",
   "execution_count": 9,
   "metadata": {},
   "outputs": [
    {
     "data": {
      "text/html": [
       "<div>\n",
       "<style scoped>\n",
       "    .dataframe tbody tr th:only-of-type {\n",
       "        vertical-align: middle;\n",
       "    }\n",
       "\n",
       "    .dataframe tbody tr th {\n",
       "        vertical-align: top;\n",
       "    }\n",
       "\n",
       "    .dataframe thead th {\n",
       "        text-align: right;\n",
       "    }\n",
       "</style>\n",
       "<table border=\"1\" class=\"dataframe\">\n",
       "  <thead>\n",
       "    <tr style=\"text-align: right;\">\n",
       "      <th></th>\n",
       "      <th>country_region</th>\n",
       "      <th>bcg</th>\n",
       "      <th>life_expectancy</th>\n",
       "      <th>infant_mortality</th>\n",
       "    </tr>\n",
       "  </thead>\n",
       "  <tbody>\n",
       "    <tr>\n",
       "      <th>0</th>\n",
       "      <td>Afghanistan</td>\n",
       "      <td>86.0</td>\n",
       "      <td>52.8</td>\n",
       "      <td>104.3</td>\n",
       "    </tr>\n",
       "    <tr>\n",
       "      <th>1</th>\n",
       "      <td>Albania</td>\n",
       "      <td>99.0</td>\n",
       "      <td>79.0</td>\n",
       "      <td>10.8</td>\n",
       "    </tr>\n",
       "    <tr>\n",
       "      <th>2</th>\n",
       "      <td>Algeria</td>\n",
       "      <td>99.0</td>\n",
       "      <td>77.5</td>\n",
       "      <td>17.6</td>\n",
       "    </tr>\n",
       "    <tr>\n",
       "      <th>3</th>\n",
       "      <td>Andorra</td>\n",
       "      <td>NaN</td>\n",
       "      <td>83.0</td>\n",
       "      <td>3.5</td>\n",
       "    </tr>\n",
       "    <tr>\n",
       "      <th>4</th>\n",
       "      <td>Angola</td>\n",
       "      <td>79.0</td>\n",
       "      <td>61.3</td>\n",
       "      <td>62.3</td>\n",
       "    </tr>\n",
       "  </tbody>\n",
       "</table>\n",
       "</div>"
      ],
      "text/plain": [
       "  country_region   bcg  life_expectancy  infant_mortality\n",
       "0    Afghanistan  86.0             52.8             104.3\n",
       "1        Albania  99.0             79.0              10.8\n",
       "2        Algeria  99.0             77.5              17.6\n",
       "3        Andorra   NaN             83.0               3.5\n",
       "4         Angola  79.0             61.3              62.3"
      ]
     },
     "execution_count": 9,
     "metadata": {},
     "output_type": "execute_result"
    }
   ],
   "source": [
    "# Renaming the column names in Health dataset for convinience \n",
    "health_df = health_df.rename(columns={\"Country_Region\":\"country_region\", \"bcg_coverage\":\"bcg\",\n",
    "                                      \"life expectancy at birth\":\"life_expectancy\",\"infant mortality rate\":\"infant_mortality\"})\n",
    "health_df.head()"
   ]
  },
  {
   "cell_type": "code",
   "execution_count": 10,
   "metadata": {},
   "outputs": [
    {
     "data": {
      "text/plain": [
       "(180, 4)"
      ]
     },
     "execution_count": 10,
     "metadata": {},
     "output_type": "execute_result"
    }
   ],
   "source": [
    "health_df.shape"
   ]
  },
  {
   "cell_type": "code",
   "execution_count": 11,
   "metadata": {},
   "outputs": [
    {
     "data": {
      "text/html": [
       "<div>\n",
       "<style scoped>\n",
       "    .dataframe tbody tr th:only-of-type {\n",
       "        vertical-align: middle;\n",
       "    }\n",
       "\n",
       "    .dataframe tbody tr th {\n",
       "        vertical-align: top;\n",
       "    }\n",
       "\n",
       "    .dataframe thead th {\n",
       "        text-align: right;\n",
       "    }\n",
       "</style>\n",
       "<table border=\"1\" class=\"dataframe\">\n",
       "  <thead>\n",
       "    <tr style=\"text-align: right;\">\n",
       "      <th></th>\n",
       "      <th>continent</th>\n",
       "      <th>country_region</th>\n",
       "      <th>total_cases</th>\n",
       "      <th>total_deaths</th>\n",
       "      <th>total_recovered</th>\n",
       "      <th>active_cases</th>\n",
       "      <th>critical</th>\n",
       "      <th>total cases/\\n1M pop</th>\n",
       "      <th>deaths/\\n1M pop</th>\n",
       "      <th>total_tests</th>\n",
       "      <th>tests/\\n1M pop</th>\n",
       "      <th>population</th>\n",
       "    </tr>\n",
       "  </thead>\n",
       "  <tbody>\n",
       "    <tr>\n",
       "      <th>0</th>\n",
       "      <td>Europe</td>\n",
       "      <td>Russia</td>\n",
       "      <td>405,843</td>\n",
       "      <td>4,693</td>\n",
       "      <td>171,883</td>\n",
       "      <td>229,267</td>\n",
       "      <td>2,300</td>\n",
       "      <td>2,781</td>\n",
       "      <td>32</td>\n",
       "      <td>10,643,124</td>\n",
       "      <td>72,933</td>\n",
       "      <td>145,929,507</td>\n",
       "    </tr>\n",
       "    <tr>\n",
       "      <th>1</th>\n",
       "      <td>Europe</td>\n",
       "      <td>Spain</td>\n",
       "      <td>286,509</td>\n",
       "      <td>27,127</td>\n",
       "      <td>196,958</td>\n",
       "      <td>62,424</td>\n",
       "      <td>617</td>\n",
       "      <td>6,128</td>\n",
       "      <td>580</td>\n",
       "      <td>4,063,843</td>\n",
       "      <td>86,921</td>\n",
       "      <td>46,753,345</td>\n",
       "    </tr>\n",
       "    <tr>\n",
       "      <th>2</th>\n",
       "      <td>Europe</td>\n",
       "      <td>UK</td>\n",
       "      <td>274,762</td>\n",
       "      <td>38,489</td>\n",
       "      <td>NaN</td>\n",
       "      <td>NaN</td>\n",
       "      <td>1,559</td>\n",
       "      <td>4,049</td>\n",
       "      <td>567</td>\n",
       "      <td>4,285,738</td>\n",
       "      <td>63,158</td>\n",
       "      <td>67,856,881</td>\n",
       "    </tr>\n",
       "    <tr>\n",
       "      <th>3</th>\n",
       "      <td>Europe</td>\n",
       "      <td>Italy</td>\n",
       "      <td>232,997</td>\n",
       "      <td>33,415</td>\n",
       "      <td>157,507</td>\n",
       "      <td>42,075</td>\n",
       "      <td>435</td>\n",
       "      <td>3,853</td>\n",
       "      <td>553</td>\n",
       "      <td>3,878,739</td>\n",
       "      <td>64,144</td>\n",
       "      <td>60,468,778</td>\n",
       "    </tr>\n",
       "    <tr>\n",
       "      <th>4</th>\n",
       "      <td>Europe</td>\n",
       "      <td>France</td>\n",
       "      <td>188,882</td>\n",
       "      <td>28,802</td>\n",
       "      <td>68,355</td>\n",
       "      <td>91,725</td>\n",
       "      <td>1,319</td>\n",
       "      <td>2,894</td>\n",
       "      <td>441</td>\n",
       "      <td>1,384,633</td>\n",
       "      <td>21,217</td>\n",
       "      <td>65,261,942</td>\n",
       "    </tr>\n",
       "  </tbody>\n",
       "</table>\n",
       "</div>"
      ],
      "text/plain": [
       "  continent country_region total_cases total_deaths total_recovered  \\\n",
       "0    Europe         Russia     405,843        4,693         171,883   \n",
       "1    Europe          Spain     286,509       27,127         196,958   \n",
       "2    Europe             UK     274,762       38,489             NaN   \n",
       "3    Europe          Italy     232,997       33,415         157,507   \n",
       "4    Europe         France     188,882       28,802          68,355   \n",
       "\n",
       "  active_cases critical total cases/\\n1M pop deaths/\\n1M pop total_tests  \\\n",
       "0      229,267    2,300                2,781              32  10,643,124   \n",
       "1       62,424      617                6,128             580   4,063,843   \n",
       "2          NaN    1,559                4,049             567   4,285,738   \n",
       "3       42,075      435                3,853             553   3,878,739   \n",
       "4       91,725    1,319                2,894             441   1,384,633   \n",
       "\n",
       "  tests/\\n1M pop   population  \n",
       "0         72,933  145,929,507  \n",
       "1         86,921   46,753,345  \n",
       "2         63,158   67,856,881  \n",
       "3         64,144   60,468,778  \n",
       "4         21,217   65,261,942  "
      ]
     },
     "execution_count": 11,
     "metadata": {},
     "output_type": "execute_result"
    }
   ],
   "source": [
    "# Displaying the top 5 rows of Сovid19 dataset\n",
    "covid19_df.head()"
   ]
  },
  {
   "cell_type": "code",
   "execution_count": 12,
   "metadata": {},
   "outputs": [
    {
     "data": {
      "text/plain": [
       "Index(['continent', 'country_region', 'total_cases', 'total_deaths',\n",
       "       'total_recovered', 'active_cases', 'critical', 'total cases/\\n1M pop',\n",
       "       'deaths/\\n1M pop', 'total_tests', 'tests/\\n1M pop', 'population'],\n",
       "      dtype='object')"
      ]
     },
     "execution_count": 12,
     "metadata": {},
     "output_type": "execute_result"
    }
   ],
   "source": [
    "# Displaying all the columns in Covid19 dataset\n",
    "covid19_df.columns"
   ]
  },
  {
   "cell_type": "code",
   "execution_count": 13,
   "metadata": {},
   "outputs": [],
   "source": [
    "# Selecting the only columns we need in Covid19 dataset\n",
    "covid19_df = covid19_df[['continent','country_region', 'total_cases', 'total_deaths','total cases/\\n1M pop']]"
   ]
  },
  {
   "cell_type": "code",
   "execution_count": 14,
   "metadata": {},
   "outputs": [],
   "source": [
    "covid19_df = covid19_df.rename(columns={\"total cases/\\n1M pop\":\"total_cases_1M_pop\"})"
   ]
  },
  {
   "cell_type": "markdown",
   "metadata": {},
   "source": [
    "**Countries are named differently in two datasets, so we rename them in order not to lose values**"
   ]
  },
  {
   "cell_type": "code",
   "execution_count": 15,
   "metadata": {},
   "outputs": [],
   "source": [
    "# Saving countries in the first variable\n",
    "country_health = health_df.country_region.unique()"
   ]
  },
  {
   "cell_type": "code",
   "execution_count": 16,
   "metadata": {},
   "outputs": [],
   "source": [
    "# Saving countries in the second variable\n",
    "country_covid = covid19_df.country_region.unique()"
   ]
  },
  {
   "cell_type": "code",
   "execution_count": 17,
   "metadata": {},
   "outputs": [
    {
     "name": "stdout",
     "output_type": "stream",
     "text": [
      "{'Réunion', 'Mayotte', 'St. Barth', 'Yemen', 'Caribbean Netherlands', 'New Caledonia', 'Western Sahara', 'British Virgin Islands', 'Ivory Coast', 'Cayman Islands', 'Sint Maarten', 'French Guiana', 'South Sudan', 'Aruba', 'USA', 'Congo', 'Gibraltar', 'Guadeloupe', 'Lesotho', 'S. Korea', 'Taiwan', 'Greenland', 'CAR', 'DRC', 'Martinique', 'Montserrat', 'Anguilla', 'Isle of Man', 'UAE', 'Curaçao', 'Malawi', 'Palestine', 'Faeroe Islands', 'St. Vincent Grenadines', 'Myanmar', 'Channel Islands', 'Turks and Caicos', 'UK', 'Bermuda', 'Saint Pierre Miquelon', 'Vatican City', 'French Polynesia', 'Tajikistan', 'Macao', 'Comoros', 'Saint Martin', 'Hong Kong', 'Falkland Islands', 'Sao Tome and Principe'}\n"
     ]
    }
   ],
   "source": [
    "# Checking for the difference between the Covid19 and Health datasets\n",
    "# Displaying countries as they presented in Covid19 dataset\n",
    "country_dif = set(country_covid) - set(country_health)\n",
    "print(country_dif)"
   ]
  },
  {
   "cell_type": "code",
   "execution_count": 18,
   "metadata": {},
   "outputs": [
    {
     "name": "stdout",
     "output_type": "stream",
     "text": [
      "{'Holy See', 'US', 'Congo (Kinshasa)', 'Central African Republic', 'Burma', 'Diamond Princess', 'Korea, South', \"Cote d'Ivoire\", 'Kosovo', 'United Arab Emirates', 'Saint Vincent and the Grenadines', 'Taiwan*', 'West Bank and Gaza', 'Congo (Brazzaville)', 'United Kingdom', 'MS Zaandam'}\n"
     ]
    }
   ],
   "source": [
    "# Checking for the difference between the Health and Covid19 datasets\n",
    "# Displaying countries as they presented in Health dataset\n",
    "country_dif2 = set(country_health) - set(country_covid)\n",
    "print(country_dif2)"
   ]
  },
  {
   "cell_type": "code",
   "execution_count": 19,
   "metadata": {},
   "outputs": [],
   "source": [
    "# Replacing the names \n",
    "covid19_df[\"country_region\"] = covid19_df[\"country_region\"].rename({\"Myanmar\":\"Burma\"})"
   ]
  },
  {
   "cell_type": "code",
   "execution_count": 20,
   "metadata": {},
   "outputs": [],
   "source": [
    "# Replacing the names \n",
    "health_df[\"country_region\"] = health_df[\"country_region\"].replace({\"Taiwan*\":\"Taiwan\",\"Korea, South\":\"S.Korea\", \"United Kingdom\":\"UK\",\n",
    "                     \"US\":\"USA\",\"Central African Republic\":\"CAR\",\n",
    "                    \"United Arab Emirates\":\"UAE\",\"West Bank and Gaza\":\"Palestine\"})"
   ]
  },
  {
   "cell_type": "markdown",
   "metadata": {},
   "source": [
    "## Question1: *What is the most Covid-19 affected continent in terms of infected cases and deaths?*\n",
    "\n",
    "**The virus, which causes a respiratory illness called COVID-19 has spread across the six continents. We want to see what continent has been affected the most.**\n"
   ]
  },
  {
   "cell_type": "code",
   "execution_count": 21,
   "metadata": {},
   "outputs": [
    {
     "data": {
      "text/plain": [
       "Africa           57\n",
       "Asia             49\n",
       "Europe           48\n",
       "North America    39\n",
       "South America    14\n",
       "Oceania           6\n",
       "Name: continent, dtype: int64"
      ]
     },
     "execution_count": 21,
     "metadata": {},
     "output_type": "execute_result"
    }
   ],
   "source": [
    "# Display how many countries do we have for each continent  \n",
    "covid19_df.continent.value_counts()"
   ]
  },
  {
   "cell_type": "code",
   "execution_count": 22,
   "metadata": {},
   "outputs": [],
   "source": [
    "# create dataframe with total infected cases and deaths per continent: Europe\n",
    "europe_df = covid19_df.loc[covid19_df['continent'] == 'Europe', ['total_cases','total_deaths']]\n",
    "# europe_df.head(10)\n",
    "# europe_df.count()\n",
    "# europe_df.info()\n",
    "europe_df_int = europe_df.apply(lambda x: x.str.replace(',',''))\n",
    "europe_df_int_na = europe_df_int.dropna()\n",
    "# europe_df['total_cases'] = pd.to_numeric(europe_df['total_cases'])\n",
    "total_cases_europe = europe_df_int_na.total_cases.astype(int).sum()\n",
    "total_deaths_europe = europe_df_int_na.total_deaths.astype(int).sum()"
   ]
  },
  {
   "cell_type": "code",
   "execution_count": 23,
   "metadata": {},
   "outputs": [],
   "source": [
    "# create dataframe with total infected cases and deaths per continent: North America\n",
    "north_america_df = covid19_df.loc[covid19_df['continent'] == 'North America', ['total_cases','total_deaths']]\n",
    "# north_america_df.head(10)\n",
    "# north_america_df.count()\n",
    "north_america_df_int = north_america_df.apply(lambda x: x.str.replace(',',''))\n",
    "north_america_df_int_na = north_america_df_int.dropna()\n",
    "total_cases_NA = north_america_df_int_na.total_cases.astype(int).sum()\n",
    "total_deaths_NA = north_america_df_int_na.total_deaths.astype(int).sum()"
   ]
  },
  {
   "cell_type": "code",
   "execution_count": 24,
   "metadata": {},
   "outputs": [],
   "source": [
    "# create dataframe with total infected cases and deaths per continent: Asia\n",
    "asia_df = covid19_df.loc[covid19_df['continent'] == 'Asia', ['total_cases','total_deaths']]\n",
    "# asia_df.head(10)\n",
    "# asia_df.count()\n",
    "asia_df_int = asia_df.apply(lambda x: x.str.replace(',',''))\n",
    "asia_df_int_na = asia_df_int.dropna()\n",
    "total_cases_asia = asia_df_int_na.total_cases.astype(int).sum()\n",
    "total_deaths_asia = asia_df_int_na.total_deaths.astype(int).sum()"
   ]
  },
  {
   "cell_type": "code",
   "execution_count": 25,
   "metadata": {},
   "outputs": [],
   "source": [
    "# create dataframe with total infected cases and deaths per continent: South America\n",
    "south_america_df = covid19_df.loc[covid19_df['continent'] == 'South America', ['total_cases','total_deaths']]\n",
    "# south_america_df.head(10)\n",
    "# south_america_df.count()\n",
    "south_america_df_int = south_america_df.apply(lambda x: x.str.replace(',',''))\n",
    "south_america_df_int_na = south_america_df_int.dropna()\n",
    "total_cases_SA = south_america_df_int_na.total_cases.astype(int).sum()\n",
    "total_deaths_SA = south_america_df_int_na.total_deaths.astype(int).sum()"
   ]
  },
  {
   "cell_type": "code",
   "execution_count": 26,
   "metadata": {},
   "outputs": [],
   "source": [
    "# create dataframe with total infected cases and deaths per continent: Africa\n",
    "afrika_df = covid19_df.loc[covid19_df['continent'] == 'Africa', ['total_cases','total_deaths']]\n",
    "# afrika_df.head(10)\n",
    "# afrika_df.count()\n",
    "afrika_df_int = afrika_df.apply(lambda x: x.str.replace(',',''))\n",
    "afrika_df_int_na = afrika_df_int.dropna()\n",
    "total_cases_afrika = afrika_df_int_na.total_cases.astype(int).sum()\n",
    "total_deaths_afrika = afrika_df_int_na.total_deaths.astype(int).sum()"
   ]
  },
  {
   "cell_type": "code",
   "execution_count": 27,
   "metadata": {},
   "outputs": [],
   "source": [
    "# create dataframe with total infected cases and deaths per continent: Oceania\n",
    "oceania_df = covid19_df.loc[covid19_df['continent'] == 'Oceania', ['total_cases','total_deaths']]\n",
    "# oceania_df.head(10)\n",
    "# oceania_df.count()\n",
    "oceania_df_int = oceania_df.apply(lambda x: x.str.replace(',',''))\n",
    "oceania_df_int_na = oceania_df_int.dropna()\n",
    "total_cases_oceania = oceania_df_int_na.total_cases.astype(int).sum()\n",
    "total_deaths_oceania = oceania_df_int_na.total_deaths.astype(int).sum()"
   ]
  },
  {
   "cell_type": "code",
   "execution_count": 28,
   "metadata": {},
   "outputs": [
    {
     "data": {
      "image/png": "[encoded data removed]",
      "text/plain": [
       "<Figure size 432x288 with 1 Axes>"
      ]
     },
     "metadata": {},
     "output_type": "display_data"
    }
   ],
   "source": [
    "# visualizing question: What is the most Covid-19 affected continent in terms of infected cases?\n",
    "labels = 'Europe', 'North America', 'Asia', 'South America', 'Others'\n",
    "sizes = [total_cases_europe, total_cases_NA, total_cases_asia, total_cases_SA, (total_cases_afrika + total_cases_oceania)]\n",
    "explode = (0, 0.1, 0, 0, 0)\n",
    "fig, ax = plt.subplots ()\n",
    "ax.pie(sizes, explode=explode, labels=labels, autopct='%1.1f%%',\n",
    "        shadow=True, startangle=90)\n",
    "ax.axis('equal')\n",
    "plt.title('Percentage of infected cases per continent')\n",
    "plt.show()"
   ]
  },
  {
   "cell_type": "code",
   "execution_count": 29,
   "metadata": {},
   "outputs": [
    {
     "data": {
      "image/png": "[encoded data removed]",
      "text/plain": [
       "<Figure size 432x288 with 1 Axes>"
      ]
     },
     "metadata": {},
     "output_type": "display_data"
    }
   ],
   "source": [
    "# visualizing question: What is the most Covid-19 affected continent in terms of infected cases?\n",
    "labels = 'Europe', 'North America', 'Asia', 'South America', 'Others'\n",
    "sizes = [total_deaths_europe, total_deaths_NA, total_deaths_asia, total_deaths_SA, (total_deaths_afrika + total_deaths_oceania)]\n",
    "explode = (0.1, 0, 0, 0, 0)\n",
    "fig, ax = plt.subplots ()\n",
    "ax.pie(sizes, explode=explode, labels=labels, autopct='%1.1f%%',\n",
    "        shadow=True, startangle=90)\n",
    "ax.axis('equal')\n",
    "plt.title('Percentage of death cases per continent')\n",
    "plt.show()"
   ]
  },
  {
   "cell_type": "markdown",
   "metadata": {},
   "source": [
    "## Conclusion: \n",
    "**As of the data available on the 31st of May 2020 - Europe is the most affected continent in terms of Covid-19 related deaths and North America is the most affected continenr in terms of Covid-19 infection cases.**"
   ]
  },
  {
   "cell_type": "markdown",
   "metadata": {},
   "source": [
    "## Question2: *Do countries where BCG vaccine was widely implemented have higher life expectancy or lower infant mortality rate?*\n",
    "\n",
    "**Vaccines play a central role in increasing life expectancy. We want to see whether Bacille Calmette–Guerin (BCG) vaccine alone has any correlation with life expectancy. The BCG vaccine is the most commonly used vaccine against tuberculosis (TB) worldwide. The vaccine is commonly given to infants under 1 years old.**"
   ]
  },
  {
   "cell_type": "code",
   "execution_count": 31,
   "metadata": {},
   "outputs": [
    {
     "data": {
      "text/html": [
       "<div>\n",
       "<style scoped>\n",
       "    .dataframe tbody tr th:only-of-type {\n",
       "        vertical-align: middle;\n",
       "    }\n",
       "\n",
       "    .dataframe tbody tr th {\n",
       "        vertical-align: top;\n",
       "    }\n",
       "\n",
       "    .dataframe thead th {\n",
       "        text-align: right;\n",
       "    }\n",
       "</style>\n",
       "<table border=\"1\" class=\"dataframe\">\n",
       "  <thead>\n",
       "    <tr style=\"text-align: right;\">\n",
       "      <th></th>\n",
       "      <th>country_region</th>\n",
       "      <th>bcg</th>\n",
       "      <th>life_expectancy</th>\n",
       "      <th>infant_mortality</th>\n",
       "    </tr>\n",
       "  </thead>\n",
       "  <tbody>\n",
       "    <tr>\n",
       "      <th>25</th>\n",
       "      <td>Bulgaria</td>\n",
       "      <td>96.0</td>\n",
       "      <td>75.0</td>\n",
       "      <td>8.1</td>\n",
       "    </tr>\n",
       "  </tbody>\n",
       "</table>\n",
       "</div>"
      ],
      "text/plain": [
       "   country_region   bcg  life_expectancy  infant_mortality\n",
       "25       Bulgaria  96.0             75.0               8.1"
      ]
     },
     "execution_count": 31,
     "metadata": {},
     "output_type": "execute_result"
    }
   ],
   "source": [
    "health_df.sample()"
   ]
  },
  {
   "cell_type": "code",
   "execution_count": 32,
   "metadata": {},
   "outputs": [
    {
     "data": {
      "text/plain": [
       "count    139.000000\n",
       "mean      89.618705\n",
       "std       14.147974\n",
       "min       24.000000\n",
       "25%       86.500000\n",
       "50%       96.000000\n",
       "75%       98.500000\n",
       "max       99.000000\n",
       "Name: bcg, dtype: float64"
      ]
     },
     "execution_count": 32,
     "metadata": {},
     "output_type": "execute_result"
    }
   ],
   "source": [
    "# Viewing basic descriptive stats of BCG coverage\n",
    "health_df[\"bcg\"].describe()"
   ]
  },
  {
   "cell_type": "code",
   "execution_count": 33,
   "metadata": {},
   "outputs": [
    {
     "data": {
      "text/plain": [
       "count    164.000000\n",
       "mean      20.842683\n",
       "std       20.288738\n",
       "min        1.700000\n",
       "25%        5.300000\n",
       "50%       11.650000\n",
       "75%       30.325000\n",
       "max      104.300000\n",
       "Name: infant_mortality, dtype: float64"
      ]
     },
     "execution_count": 33,
     "metadata": {},
     "output_type": "execute_result"
    }
   ],
   "source": [
    "# Viewing basic descriptive stats of infant mortality\n",
    "# Infant mortality rate is the number of deaths per 1,000 live births of children under one year of age. \n",
    "health_df[\"infant_mortality\"].describe()"
   ]
  },
  {
   "cell_type": "code",
   "execution_count": 34,
   "metadata": {},
   "outputs": [
    {
     "data": {
      "text/plain": [
       "count    164.000000\n",
       "mean      73.467683\n",
       "std        7.248634\n",
       "min       52.800000\n",
       "25%       68.800000\n",
       "50%       75.250000\n",
       "75%       78.525000\n",
       "max       86.000000\n",
       "Name: life_expectancy, dtype: float64"
      ]
     },
     "execution_count": 34,
     "metadata": {},
     "output_type": "execute_result"
    }
   ],
   "source": [
    "# Viewing basic descriptive stats of infant mortality\n",
    "health_df[\"life_expectancy\"].describe()"
   ]
  },
  {
   "cell_type": "code",
   "execution_count": 35,
   "metadata": {},
   "outputs": [
    {
     "data": {
      "text/plain": [
       "180"
      ]
     },
     "execution_count": 35,
     "metadata": {},
     "output_type": "execute_result"
    }
   ],
   "source": [
    "# Checking how many countries we have in Health dataset\n",
    "len(health_df[\"country_region\"].unique())"
   ]
  },
  {
   "cell_type": "code",
   "execution_count": 36,
   "metadata": {},
   "outputs": [
    {
     "data": {
      "text/plain": [
       "138"
      ]
     },
     "execution_count": 36,
     "metadata": {},
     "output_type": "execute_result"
    }
   ],
   "source": [
    "# Removing the rows (countries) with missing data and checking how many countries we have left\n",
    "health_df = health_df.dropna()\n",
    "len(health_df[\"country_region\"].unique())"
   ]
  },
  {
   "cell_type": "code",
   "execution_count": 37,
   "metadata": {},
   "outputs": [
    {
     "data": {
      "image/png": "[encoded data removed]",
      "text/plain": [
       "<Figure size 432x288 with 1 Axes>"
      ]
     },
     "metadata": {
      "needs_background": "light"
     },
     "output_type": "display_data"
    }
   ],
   "source": [
    "# show distribution of the results\n",
    "plt.scatter(health_df['bcg'], health_df['infant_mortality'], color = 'blue')\n",
    "plt.title(\"BCG vaccine vs Infant Mortality\")\n",
    "plt.xlabel(\"BCG coverage\")\n",
    "plt.ylabel(\"Infant mortality\")\n",
    "plt.show()"
   ]
  },
  {
   "cell_type": "code",
   "execution_count": 38,
   "metadata": {},
   "outputs": [
    {
     "data": {
      "image/png": "[encoded data removed]",
      "text/plain": [
       "<Figure size 432x288 with 1 Axes>"
      ]
     },
     "metadata": {
      "needs_background": "light"
     },
     "output_type": "display_data"
    }
   ],
   "source": [
    "# show distribution of the results\n",
    "plt.scatter(health_df['bcg'], health_df['life_expectancy'], color = 'blue')\n",
    "plt.title(\"BCG vaccine vs life expectancy\")\n",
    "plt.xlabel(\"BCG coverage\")\n",
    "plt.ylabel(\"Life expectancy at birth\")\n",
    "plt.show()"
   ]
  },
  {
   "cell_type": "code",
   "execution_count": 39,
   "metadata": {},
   "outputs": [
    {
     "data": {
      "text/html": [
       "<div>\n",
       "<style scoped>\n",
       "    .dataframe tbody tr th:only-of-type {\n",
       "        vertical-align: middle;\n",
       "    }\n",
       "\n",
       "    .dataframe tbody tr th {\n",
       "        vertical-align: top;\n",
       "    }\n",
       "\n",
       "    .dataframe thead th {\n",
       "        text-align: right;\n",
       "    }\n",
       "</style>\n",
       "<table border=\"1\" class=\"dataframe\">\n",
       "  <thead>\n",
       "    <tr style=\"text-align: right;\">\n",
       "      <th></th>\n",
       "      <th>country_region</th>\n",
       "      <th>bcg</th>\n",
       "    </tr>\n",
       "  </thead>\n",
       "  <tbody>\n",
       "    <tr>\n",
       "      <th>6</th>\n",
       "      <td>Argentina</td>\n",
       "      <td>99.0</td>\n",
       "    </tr>\n",
       "    <tr>\n",
       "      <th>9</th>\n",
       "      <td>Austria</td>\n",
       "      <td>90.0</td>\n",
       "    </tr>\n",
       "    <tr>\n",
       "      <th>15</th>\n",
       "      <td>Belarus</td>\n",
       "      <td>97.0</td>\n",
       "    </tr>\n",
       "    <tr>\n",
       "      <th>21</th>\n",
       "      <td>Bosnia and Herzegovina</td>\n",
       "      <td>95.0</td>\n",
       "    </tr>\n",
       "    <tr>\n",
       "      <th>24</th>\n",
       "      <td>Brunei</td>\n",
       "      <td>99.0</td>\n",
       "    </tr>\n",
       "    <tr>\n",
       "      <th>25</th>\n",
       "      <td>Bulgaria</td>\n",
       "      <td>96.0</td>\n",
       "    </tr>\n",
       "    <tr>\n",
       "      <th>35</th>\n",
       "      <td>Chile</td>\n",
       "      <td>93.0</td>\n",
       "    </tr>\n",
       "    <tr>\n",
       "      <th>40</th>\n",
       "      <td>Costa Rica</td>\n",
       "      <td>83.0</td>\n",
       "    </tr>\n",
       "    <tr>\n",
       "      <th>42</th>\n",
       "      <td>Croatia</td>\n",
       "      <td>98.0</td>\n",
       "    </tr>\n",
       "    <tr>\n",
       "      <th>43</th>\n",
       "      <td>Cuba</td>\n",
       "      <td>99.0</td>\n",
       "    </tr>\n",
       "    <tr>\n",
       "      <th>45</th>\n",
       "      <td>Czechia</td>\n",
       "      <td>98.0</td>\n",
       "    </tr>\n",
       "    <tr>\n",
       "      <th>49</th>\n",
       "      <td>Dominica</td>\n",
       "      <td>98.0</td>\n",
       "    </tr>\n",
       "    <tr>\n",
       "      <th>56</th>\n",
       "      <td>Estonia</td>\n",
       "      <td>95.0</td>\n",
       "    </tr>\n",
       "    <tr>\n",
       "      <th>59</th>\n",
       "      <td>Fiji</td>\n",
       "      <td>99.0</td>\n",
       "    </tr>\n",
       "    <tr>\n",
       "      <th>60</th>\n",
       "      <td>Finland</td>\n",
       "      <td>98.0</td>\n",
       "    </tr>\n",
       "    <tr>\n",
       "      <th>61</th>\n",
       "      <td>France</td>\n",
       "      <td>78.0</td>\n",
       "    </tr>\n",
       "    <tr>\n",
       "      <th>67</th>\n",
       "      <td>Greece</td>\n",
       "      <td>50.0</td>\n",
       "    </tr>\n",
       "    <tr>\n",
       "      <th>76</th>\n",
       "      <td>Hungary</td>\n",
       "      <td>99.0</td>\n",
       "    </tr>\n",
       "    <tr>\n",
       "      <th>82</th>\n",
       "      <td>Ireland</td>\n",
       "      <td>77.0</td>\n",
       "    </tr>\n",
       "    <tr>\n",
       "      <th>83</th>\n",
       "      <td>Israel</td>\n",
       "      <td>68.0</td>\n",
       "    </tr>\n",
       "    <tr>\n",
       "      <th>86</th>\n",
       "      <td>Japan</td>\n",
       "      <td>84.0</td>\n",
       "    </tr>\n",
       "    <tr>\n",
       "      <th>90</th>\n",
       "      <td>S.Korea</td>\n",
       "      <td>98.0</td>\n",
       "    </tr>\n",
       "    <tr>\n",
       "      <th>92</th>\n",
       "      <td>Kuwait</td>\n",
       "      <td>99.0</td>\n",
       "    </tr>\n",
       "    <tr>\n",
       "      <th>95</th>\n",
       "      <td>Latvia</td>\n",
       "      <td>94.0</td>\n",
       "    </tr>\n",
       "    <tr>\n",
       "      <th>100</th>\n",
       "      <td>Lithuania</td>\n",
       "      <td>97.0</td>\n",
       "    </tr>\n",
       "    <tr>\n",
       "      <th>107</th>\n",
       "      <td>Malta</td>\n",
       "      <td>96.0</td>\n",
       "    </tr>\n",
       "    <tr>\n",
       "      <th>109</th>\n",
       "      <td>Mauritius</td>\n",
       "      <td>98.0</td>\n",
       "    </tr>\n",
       "    <tr>\n",
       "      <th>114</th>\n",
       "      <td>Montenegro</td>\n",
       "      <td>88.0</td>\n",
       "    </tr>\n",
       "    <tr>\n",
       "      <th>128</th>\n",
       "      <td>Panama</td>\n",
       "      <td>99.0</td>\n",
       "    </tr>\n",
       "    <tr>\n",
       "      <th>133</th>\n",
       "      <td>Poland</td>\n",
       "      <td>94.0</td>\n",
       "    </tr>\n",
       "    <tr>\n",
       "      <th>134</th>\n",
       "      <td>Portugal</td>\n",
       "      <td>32.0</td>\n",
       "    </tr>\n",
       "    <tr>\n",
       "      <th>135</th>\n",
       "      <td>Qatar</td>\n",
       "      <td>97.0</td>\n",
       "    </tr>\n",
       "    <tr>\n",
       "      <th>136</th>\n",
       "      <td>Romania</td>\n",
       "      <td>98.0</td>\n",
       "    </tr>\n",
       "    <tr>\n",
       "      <th>137</th>\n",
       "      <td>Russia</td>\n",
       "      <td>96.0</td>\n",
       "    </tr>\n",
       "    <tr>\n",
       "      <th>145</th>\n",
       "      <td>Serbia</td>\n",
       "      <td>98.0</td>\n",
       "    </tr>\n",
       "    <tr>\n",
       "      <th>146</th>\n",
       "      <td>Seychelles</td>\n",
       "      <td>99.0</td>\n",
       "    </tr>\n",
       "    <tr>\n",
       "      <th>148</th>\n",
       "      <td>Singapore</td>\n",
       "      <td>99.0</td>\n",
       "    </tr>\n",
       "    <tr>\n",
       "      <th>149</th>\n",
       "      <td>Slovakia</td>\n",
       "      <td>90.0</td>\n",
       "    </tr>\n",
       "    <tr>\n",
       "      <th>150</th>\n",
       "      <td>Slovenia</td>\n",
       "      <td>96.0</td>\n",
       "    </tr>\n",
       "    <tr>\n",
       "      <th>154</th>\n",
       "      <td>Sri Lanka</td>\n",
       "      <td>99.0</td>\n",
       "    </tr>\n",
       "    <tr>\n",
       "      <th>157</th>\n",
       "      <td>Sweden</td>\n",
       "      <td>24.0</td>\n",
       "    </tr>\n",
       "    <tr>\n",
       "      <th>162</th>\n",
       "      <td>Thailand</td>\n",
       "      <td>99.0</td>\n",
       "    </tr>\n",
       "    <tr>\n",
       "      <th>170</th>\n",
       "      <td>Ukraine</td>\n",
       "      <td>39.0</td>\n",
       "    </tr>\n",
       "    <tr>\n",
       "      <th>171</th>\n",
       "      <td>UAE</td>\n",
       "      <td>96.0</td>\n",
       "    </tr>\n",
       "    <tr>\n",
       "      <th>173</th>\n",
       "      <td>Uruguay</td>\n",
       "      <td>98.0</td>\n",
       "    </tr>\n",
       "  </tbody>\n",
       "</table>\n",
       "</div>"
      ],
      "text/plain": [
       "             country_region   bcg\n",
       "6                 Argentina  99.0\n",
       "9                   Austria  90.0\n",
       "15                  Belarus  97.0\n",
       "21   Bosnia and Herzegovina  95.0\n",
       "24                   Brunei  99.0\n",
       "25                 Bulgaria  96.0\n",
       "35                    Chile  93.0\n",
       "40               Costa Rica  83.0\n",
       "42                  Croatia  98.0\n",
       "43                     Cuba  99.0\n",
       "45                  Czechia  98.0\n",
       "49                 Dominica  98.0\n",
       "56                  Estonia  95.0\n",
       "59                     Fiji  99.0\n",
       "60                  Finland  98.0\n",
       "61                   France  78.0\n",
       "67                   Greece  50.0\n",
       "76                  Hungary  99.0\n",
       "82                  Ireland  77.0\n",
       "83                   Israel  68.0\n",
       "86                    Japan  84.0\n",
       "90                  S.Korea  98.0\n",
       "92                   Kuwait  99.0\n",
       "95                   Latvia  94.0\n",
       "100               Lithuania  97.0\n",
       "107                   Malta  96.0\n",
       "109               Mauritius  98.0\n",
       "114              Montenegro  88.0\n",
       "128                  Panama  99.0\n",
       "133                  Poland  94.0\n",
       "134                Portugal  32.0\n",
       "135                   Qatar  97.0\n",
       "136                 Romania  98.0\n",
       "137                  Russia  96.0\n",
       "145                  Serbia  98.0\n",
       "146              Seychelles  99.0\n",
       "148               Singapore  99.0\n",
       "149                Slovakia  90.0\n",
       "150                Slovenia  96.0\n",
       "154               Sri Lanka  99.0\n",
       "157                  Sweden  24.0\n",
       "162                Thailand  99.0\n",
       "170                 Ukraine  39.0\n",
       "171                     UAE  96.0\n",
       "173                 Uruguay  98.0"
      ]
     },
     "execution_count": 39,
     "metadata": {},
     "output_type": "execute_result"
    }
   ],
   "source": [
    "# show that countries with higher bcg coverage have lower infant mortality rates\n",
    "health_df.loc[(health_df['infant_mortality'] <= 10), ['country_region', 'bcg']]"
   ]
  },
  {
   "cell_type": "code",
   "execution_count": 40,
   "metadata": {},
   "outputs": [
    {
     "data": {
      "text/html": [
       "<div>\n",
       "<style scoped>\n",
       "    .dataframe tbody tr th:only-of-type {\n",
       "        vertical-align: middle;\n",
       "    }\n",
       "\n",
       "    .dataframe tbody tr th {\n",
       "        vertical-align: top;\n",
       "    }\n",
       "\n",
       "    .dataframe thead th {\n",
       "        text-align: right;\n",
       "    }\n",
       "</style>\n",
       "<table border=\"1\" class=\"dataframe\">\n",
       "  <thead>\n",
       "    <tr style=\"text-align: right;\">\n",
       "      <th></th>\n",
       "      <th>country_region</th>\n",
       "      <th>life_expectancy</th>\n",
       "    </tr>\n",
       "  </thead>\n",
       "  <tbody>\n",
       "    <tr>\n",
       "      <th>0</th>\n",
       "      <td>Afghanistan</td>\n",
       "      <td>52.8</td>\n",
       "    </tr>\n",
       "    <tr>\n",
       "      <th>1</th>\n",
       "      <td>Albania</td>\n",
       "      <td>79.0</td>\n",
       "    </tr>\n",
       "    <tr>\n",
       "      <th>2</th>\n",
       "      <td>Algeria</td>\n",
       "      <td>77.5</td>\n",
       "    </tr>\n",
       "    <tr>\n",
       "      <th>4</th>\n",
       "      <td>Angola</td>\n",
       "      <td>61.3</td>\n",
       "    </tr>\n",
       "    <tr>\n",
       "      <th>6</th>\n",
       "      <td>Argentina</td>\n",
       "      <td>77.8</td>\n",
       "    </tr>\n",
       "    <tr>\n",
       "      <th>...</th>\n",
       "      <td>...</td>\n",
       "      <td>...</td>\n",
       "    </tr>\n",
       "    <tr>\n",
       "      <th>174</th>\n",
       "      <td>Uzbekistan</td>\n",
       "      <td>74.8</td>\n",
       "    </tr>\n",
       "    <tr>\n",
       "      <th>175</th>\n",
       "      <td>Venezuela</td>\n",
       "      <td>71.0</td>\n",
       "    </tr>\n",
       "    <tr>\n",
       "      <th>176</th>\n",
       "      <td>Vietnam</td>\n",
       "      <td>74.4</td>\n",
       "    </tr>\n",
       "    <tr>\n",
       "      <th>178</th>\n",
       "      <td>Zambia</td>\n",
       "      <td>53.6</td>\n",
       "    </tr>\n",
       "    <tr>\n",
       "      <th>179</th>\n",
       "      <td>Zimbabwe</td>\n",
       "      <td>62.3</td>\n",
       "    </tr>\n",
       "  </tbody>\n",
       "</table>\n",
       "<p>132 rows × 2 columns</p>\n",
       "</div>"
      ],
      "text/plain": [
       "    country_region  life_expectancy\n",
       "0      Afghanistan             52.8\n",
       "1          Albania             79.0\n",
       "2          Algeria             77.5\n",
       "4           Angola             61.3\n",
       "6        Argentina             77.8\n",
       "..             ...              ...\n",
       "174     Uzbekistan             74.8\n",
       "175      Venezuela             71.0\n",
       "176        Vietnam             74.4\n",
       "178         Zambia             53.6\n",
       "179       Zimbabwe             62.3\n",
       "\n",
       "[132 rows x 2 columns]"
      ]
     },
     "execution_count": 40,
     "metadata": {},
     "output_type": "execute_result"
    }
   ],
   "source": [
    "# show that even countries with higher bcg coverage often have lower life expectancy\n",
    "health_df.loc[(health_df['bcg'] >= 60), ['country_region', 'life_expectancy']]"
   ]
  },
  {
   "cell_type": "markdown",
   "metadata": {},
   "source": [
    "## **Conclusion:** \n",
    "**One possible explanation behind the inconclusive results is that BCG vaccine is not mandatory in more developed countries with lower risks of TB.**"
   ]
  },
  {
   "cell_type": "markdown",
   "metadata": {},
   "source": [
    "## Question3: *Do countries where BCG vaccine was widely implemented have fewer infection rates per million?*\n",
    "\n",
    "**The spread of COVID-19 and its impact varies across countries in the world. There were rumours that lower frequency of cases and mortalities can be attributed to Bacille Calmette–Guerin (BCG) vaccination. The BCG vaccine is the most commonly used vaccine against tuberculosis (TB) worldwide**"
   ]
  },
  {
   "cell_type": "markdown",
   "metadata": {},
   "source": [
    "**Merging the two datasets**:"
   ]
  },
  {
   "cell_type": "code",
   "execution_count": 41,
   "metadata": {},
   "outputs": [
    {
     "data": {
      "text/html": [
       "<div>\n",
       "<style scoped>\n",
       "    .dataframe tbody tr th:only-of-type {\n",
       "        vertical-align: middle;\n",
       "    }\n",
       "\n",
       "    .dataframe tbody tr th {\n",
       "        vertical-align: top;\n",
       "    }\n",
       "\n",
       "    .dataframe thead th {\n",
       "        text-align: right;\n",
       "    }\n",
       "</style>\n",
       "<table border=\"1\" class=\"dataframe\">\n",
       "  <thead>\n",
       "    <tr style=\"text-align: right;\">\n",
       "      <th></th>\n",
       "      <th>continent</th>\n",
       "      <th>country_region</th>\n",
       "      <th>total_cases</th>\n",
       "      <th>total_deaths</th>\n",
       "      <th>total_cases_1M_pop</th>\n",
       "      <th>bcg</th>\n",
       "      <th>life_expectancy</th>\n",
       "      <th>infant_mortality</th>\n",
       "    </tr>\n",
       "  </thead>\n",
       "  <tbody>\n",
       "    <tr>\n",
       "      <th>0</th>\n",
       "      <td>Europe</td>\n",
       "      <td>Russia</td>\n",
       "      <td>405,843</td>\n",
       "      <td>4,693</td>\n",
       "      <td>2,781</td>\n",
       "      <td>96.0</td>\n",
       "      <td>71.9</td>\n",
       "      <td>6.5</td>\n",
       "    </tr>\n",
       "    <tr>\n",
       "      <th>1</th>\n",
       "      <td>Europe</td>\n",
       "      <td>France</td>\n",
       "      <td>188,882</td>\n",
       "      <td>28,802</td>\n",
       "      <td>2,894</td>\n",
       "      <td>78.0</td>\n",
       "      <td>82.2</td>\n",
       "      <td>3.2</td>\n",
       "    </tr>\n",
       "    <tr>\n",
       "      <th>2</th>\n",
       "      <td>Europe</td>\n",
       "      <td>Belarus</td>\n",
       "      <td>42,556</td>\n",
       "      <td>235</td>\n",
       "      <td>4,503</td>\n",
       "      <td>97.0</td>\n",
       "      <td>73.8</td>\n",
       "      <td>3.5</td>\n",
       "    </tr>\n",
       "    <tr>\n",
       "      <th>3</th>\n",
       "      <td>Europe</td>\n",
       "      <td>Sweden</td>\n",
       "      <td>37,542</td>\n",
       "      <td>4,395</td>\n",
       "      <td>3,719</td>\n",
       "      <td>24.0</td>\n",
       "      <td>82.4</td>\n",
       "      <td>2.6</td>\n",
       "    </tr>\n",
       "    <tr>\n",
       "      <th>4</th>\n",
       "      <td>Europe</td>\n",
       "      <td>Portugal</td>\n",
       "      <td>32,500</td>\n",
       "      <td>1,410</td>\n",
       "      <td>3,187</td>\n",
       "      <td>32.0</td>\n",
       "      <td>81.1</td>\n",
       "      <td>2.6</td>\n",
       "    </tr>\n",
       "  </tbody>\n",
       "</table>\n",
       "</div>"
      ],
      "text/plain": [
       "  continent country_region total_cases total_deaths total_cases_1M_pop   bcg  \\\n",
       "0    Europe         Russia     405,843        4,693              2,781  96.0   \n",
       "1    Europe         France     188,882       28,802              2,894  78.0   \n",
       "2    Europe        Belarus      42,556          235              4,503  97.0   \n",
       "3    Europe         Sweden      37,542        4,395              3,719  24.0   \n",
       "4    Europe       Portugal      32,500        1,410              3,187  32.0   \n",
       "\n",
       "   life_expectancy  infant_mortality  \n",
       "0             71.9               6.5  \n",
       "1             82.2               3.2  \n",
       "2             73.8               3.5  \n",
       "3             82.4               2.6  \n",
       "4             81.1               2.6  "
      ]
     },
     "execution_count": 41,
     "metadata": {},
     "output_type": "execute_result"
    }
   ],
   "source": [
    "merged_df = covid19_df.merge(health_df, on = ['country_region']) \n",
    "merged_df.head()"
   ]
  },
  {
   "cell_type": "code",
   "execution_count": 42,
   "metadata": {},
   "outputs": [
    {
     "name": "stdout",
     "output_type": "stream",
     "text": [
      "<class 'pandas.core.frame.DataFrame'>\n",
      "Int64Index: 135 entries, 0 to 134\n",
      "Data columns (total 8 columns):\n",
      " #   Column              Non-Null Count  Dtype  \n",
      "---  ------              --------------  -----  \n",
      " 0   continent           135 non-null    object \n",
      " 1   country_region      135 non-null    object \n",
      " 2   total_cases         135 non-null    object \n",
      " 3   total_deaths        122 non-null    object \n",
      " 4   total_cases_1M_pop  135 non-null    object \n",
      " 5   bcg                 135 non-null    float64\n",
      " 6   life_expectancy     135 non-null    float64\n",
      " 7   infant_mortality    135 non-null    float64\n",
      "dtypes: float64(3), object(5)\n",
      "memory usage: 9.5+ KB\n"
     ]
    }
   ],
   "source": [
    "merged_df.info()"
   ]
  },
  {
   "cell_type": "code",
   "execution_count": 43,
   "metadata": {},
   "outputs": [
    {
     "data": {
      "text/plain": [
       "(122, 8)"
      ]
     },
     "execution_count": 43,
     "metadata": {},
     "output_type": "execute_result"
    }
   ],
   "source": [
    "# drop NaN values\n",
    "merged_df = merged_df.dropna()\n",
    "merged_df.shape"
   ]
  },
  {
   "cell_type": "code",
   "execution_count": 44,
   "metadata": {},
   "outputs": [
    {
     "name": "stdout",
     "output_type": "stream",
     "text": [
      "<class 'pandas.core.frame.DataFrame'>\n",
      "Int64Index: 122 entries, 0 to 130\n",
      "Data columns (total 8 columns):\n",
      " #   Column              Non-Null Count  Dtype  \n",
      "---  ------              --------------  -----  \n",
      " 0   continent           122 non-null    object \n",
      " 1   country_region      122 non-null    object \n",
      " 2   total_cases         122 non-null    object \n",
      " 3   total_deaths        122 non-null    object \n",
      " 4   total_cases_1M_pop  122 non-null    float64\n",
      " 5   bcg                 122 non-null    float64\n",
      " 6   life_expectancy     122 non-null    float64\n",
      " 7   infant_mortality    122 non-null    float64\n",
      "dtypes: float64(4), object(4)\n",
      "memory usage: 8.6+ KB\n"
     ]
    }
   ],
   "source": [
    "# change dtype of only 1 column to float\n",
    "merged_df[\"total_cases_1M_pop\"] = merged_df[\"total_cases_1M_pop\"].apply(lambda x: float(x.replace(',','')))\n",
    "merged_df.info()"
   ]
  },
  {
   "cell_type": "code",
   "execution_count": 45,
   "metadata": {},
   "outputs": [
    {
     "name": "stdout",
     "output_type": "stream",
     "text": [
      "         continent country_region total_cases total_deaths  \\\n",
      "126         Africa         Angola          86            4   \n",
      "127         Africa        Burundi          63            1   \n",
      "75            Asia          Syria         122            5   \n",
      "122         Africa     Mozambique         254            2   \n",
      "116         Africa       Tanzania         509           21   \n",
      "..             ...            ...         ...          ...   \n",
      "5           Europe        Ireland      24,990        1,652   \n",
      "80   South America          Chile      99,688        1,054   \n",
      "49            Asia      Singapore      34,884           23   \n",
      "51            Asia         Kuwait      27,043          212   \n",
      "47            Asia          Qatar      56,910           38   \n",
      "\n",
      "     total_cases_1M_pop   bcg  life_expectancy  infant_mortality  \n",
      "126                 3.0  79.0             61.3              62.3  \n",
      "127                 5.0  93.0             66.7              40.1  \n",
      "75                  7.0  66.0             73.7              16.5  \n",
      "122                 8.0  95.0             55.9              64.7  \n",
      "116                 9.0  99.0             63.9              36.4  \n",
      "..                  ...   ...              ...               ...  \n",
      "5                5066.0  77.0             81.2               3.6  \n",
      "80               5219.0  93.0             79.4               6.2  \n",
      "49               5967.0  99.0             86.0               2.3  \n",
      "51               6341.0  99.0             78.6               6.5  \n",
      "47              19783.0  97.0             79.4               5.7  \n",
      "\n",
      "[122 rows x 8 columns]\n"
     ]
    }
   ],
   "source": [
    "merged_df= merged_df.sort_values(by=['total_cases_1M_pop'])\n",
    "print(merged_df)"
   ]
  },
  {
   "cell_type": "code",
   "execution_count": 46,
   "metadata": {},
   "outputs": [
    {
     "data": {
      "image/png": "[encoded data removed]",
      "text/plain": [
       "<Figure size 432x288 with 1 Axes>"
      ]
     },
     "metadata": {
      "needs_background": "light"
     },
     "output_type": "display_data"
    }
   ],
   "source": [
    "# show distribution of the results\n",
    "plt.scatter(merged_df['bcg'], merged_df['total_cases_1M_pop'], color = 'green')\n",
    "\n",
    "plt.title(\"BCG vaccine vs total cases\")\n",
    "plt.xlabel(\"BCG coverage\")\n",
    "plt.ylabel(\"Total cases per mln\")\n",
    "plt.show()"
   ]
  },
  {
   "cell_type": "markdown",
   "metadata": {},
   "source": [
    "## Conclusion: \n",
    "**We find no correlation between the BCG vaccination coverage and the number of total Covid-19 infected cases per 1 million of population**"
   ]
  },
  {
   "cell_type": "code",
   "execution_count": 58,
   "metadata": {},
   "outputs": [
    {
     "data": {
      "text/html": [
       "<div>\n",
       "<style scoped>\n",
       "    .dataframe tbody tr th:only-of-type {\n",
       "        vertical-align: middle;\n",
       "    }\n",
       "\n",
       "    .dataframe tbody tr th {\n",
       "        vertical-align: top;\n",
       "    }\n",
       "\n",
       "    .dataframe thead th {\n",
       "        text-align: right;\n",
       "    }\n",
       "</style>\n",
       "<table border=\"1\" class=\"dataframe\">\n",
       "  <thead>\n",
       "    <tr style=\"text-align: right;\">\n",
       "      <th></th>\n",
       "      <th>continent</th>\n",
       "      <th>country_region</th>\n",
       "      <th>total_cases</th>\n",
       "      <th>total_deaths</th>\n",
       "      <th>total_recovered</th>\n",
       "      <th>active_cases</th>\n",
       "      <th>critical</th>\n",
       "      <th>total cases/\\n1M pop</th>\n",
       "      <th>deaths/\\n1M pop</th>\n",
       "      <th>total_tests</th>\n",
       "      <th>tests/\\n1M pop</th>\n",
       "      <th>population</th>\n",
       "    </tr>\n",
       "  </thead>\n",
       "  <tbody>\n",
       "    <tr>\n",
       "      <th>0</th>\n",
       "      <td>Europe</td>\n",
       "      <td>Russia</td>\n",
       "      <td>405,843</td>\n",
       "      <td>4,693</td>\n",
       "      <td>171,883</td>\n",
       "      <td>229,267</td>\n",
       "      <td>2,300</td>\n",
       "      <td>2,781</td>\n",
       "      <td>32</td>\n",
       "      <td>10,643,124</td>\n",
       "      <td>72,933</td>\n",
       "      <td>145,929,507</td>\n",
       "    </tr>\n",
       "    <tr>\n",
       "      <th>1</th>\n",
       "      <td>Europe</td>\n",
       "      <td>Spain</td>\n",
       "      <td>286,509</td>\n",
       "      <td>27,127</td>\n",
       "      <td>196,958</td>\n",
       "      <td>62,424</td>\n",
       "      <td>617</td>\n",
       "      <td>6,128</td>\n",
       "      <td>580</td>\n",
       "      <td>4,063,843</td>\n",
       "      <td>86,921</td>\n",
       "      <td>46,753,345</td>\n",
       "    </tr>\n",
       "    <tr>\n",
       "      <th>2</th>\n",
       "      <td>Europe</td>\n",
       "      <td>UK</td>\n",
       "      <td>274,762</td>\n",
       "      <td>38,489</td>\n",
       "      <td>NaN</td>\n",
       "      <td>NaN</td>\n",
       "      <td>1,559</td>\n",
       "      <td>4,049</td>\n",
       "      <td>567</td>\n",
       "      <td>4,285,738</td>\n",
       "      <td>63,158</td>\n",
       "      <td>67,856,881</td>\n",
       "    </tr>\n",
       "    <tr>\n",
       "      <th>3</th>\n",
       "      <td>Europe</td>\n",
       "      <td>Italy</td>\n",
       "      <td>232,997</td>\n",
       "      <td>33,415</td>\n",
       "      <td>157,507</td>\n",
       "      <td>42,075</td>\n",
       "      <td>435</td>\n",
       "      <td>3,853</td>\n",
       "      <td>553</td>\n",
       "      <td>3,878,739</td>\n",
       "      <td>64,144</td>\n",
       "      <td>60,468,778</td>\n",
       "    </tr>\n",
       "    <tr>\n",
       "      <th>4</th>\n",
       "      <td>Europe</td>\n",
       "      <td>France</td>\n",
       "      <td>188,882</td>\n",
       "      <td>28,802</td>\n",
       "      <td>68,355</td>\n",
       "      <td>91,725</td>\n",
       "      <td>1,319</td>\n",
       "      <td>2,894</td>\n",
       "      <td>441</td>\n",
       "      <td>1,384,633</td>\n",
       "      <td>21,217</td>\n",
       "      <td>65,261,942</td>\n",
       "    </tr>\n",
       "  </tbody>\n",
       "</table>\n",
       "</div>"
      ],
      "text/plain": [
       "  continent country_region total_cases total_deaths total_recovered  \\\n",
       "0    Europe         Russia     405,843        4,693         171,883   \n",
       "1    Europe          Spain     286,509       27,127         196,958   \n",
       "2    Europe             UK     274,762       38,489             NaN   \n",
       "3    Europe          Italy     232,997       33,415         157,507   \n",
       "4    Europe         France     188,882       28,802          68,355   \n",
       "\n",
       "  active_cases critical total cases/\\n1M pop deaths/\\n1M pop total_tests  \\\n",
       "0      229,267    2,300                2,781              32  10,643,124   \n",
       "1       62,424      617                6,128             580   4,063,843   \n",
       "2          NaN    1,559                4,049             567   4,285,738   \n",
       "3       42,075      435                3,853             553   3,878,739   \n",
       "4       91,725    1,319                2,894             441   1,384,633   \n",
       "\n",
       "  tests/\\n1M pop   population  \n",
       "0         72,933  145,929,507  \n",
       "1         86,921   46,753,345  \n",
       "2         63,158   67,856,881  \n",
       "3         64,144   60,468,778  \n",
       "4         21,217   65,261,942  "
      ]
     },
     "execution_count": 58,
     "metadata": {},
     "output_type": "execute_result"
    }
   ],
   "source": [
    "# Question 5: What countries have the highest ratio of recovered cases?\n",
    "covid19_df.head()"
   ]
  },
  {
   "cell_type": "code",
   "execution_count": 66,
   "metadata": {},
   "outputs": [
    {
     "data": {
      "text/html": [
       "<div>\n",
       "<style scoped>\n",
       "    .dataframe tbody tr th:only-of-type {\n",
       "        vertical-align: middle;\n",
       "    }\n",
       "\n",
       "    .dataframe tbody tr th {\n",
       "        vertical-align: top;\n",
       "    }\n",
       "\n",
       "    .dataframe thead th {\n",
       "        text-align: right;\n",
       "    }\n",
       "</style>\n",
       "<table border=\"1\" class=\"dataframe\">\n",
       "  <thead>\n",
       "    <tr style=\"text-align: right;\">\n",
       "      <th></th>\n",
       "      <th>continent</th>\n",
       "      <th>country_region</th>\n",
       "      <th>total_cases</th>\n",
       "      <th>total_deaths</th>\n",
       "      <th>total_recovered</th>\n",
       "      <th>active_cases</th>\n",
       "      <th>critical</th>\n",
       "      <th>total cases/\\n1M pop</th>\n",
       "      <th>deaths/\\n1M pop</th>\n",
       "      <th>total_tests</th>\n",
       "      <th>tests/\\n1M pop</th>\n",
       "      <th>population</th>\n",
       "    </tr>\n",
       "  </thead>\n",
       "  <tbody>\n",
       "    <tr>\n",
       "      <th>0</th>\n",
       "      <td>Europe</td>\n",
       "      <td>Russia</td>\n",
       "      <td>405,843</td>\n",
       "      <td>4,693</td>\n",
       "      <td>171,883</td>\n",
       "      <td>229,267</td>\n",
       "      <td>2,300</td>\n",
       "      <td>2,781</td>\n",
       "      <td>32</td>\n",
       "      <td>10,643,124</td>\n",
       "      <td>72,933</td>\n",
       "      <td>145,929,507</td>\n",
       "    </tr>\n",
       "    <tr>\n",
       "      <th>1</th>\n",
       "      <td>Europe</td>\n",
       "      <td>Spain</td>\n",
       "      <td>286,509</td>\n",
       "      <td>27,127</td>\n",
       "      <td>196,958</td>\n",
       "      <td>62,424</td>\n",
       "      <td>617</td>\n",
       "      <td>6,128</td>\n",
       "      <td>580</td>\n",
       "      <td>4,063,843</td>\n",
       "      <td>86,921</td>\n",
       "      <td>46,753,345</td>\n",
       "    </tr>\n",
       "    <tr>\n",
       "      <th>2</th>\n",
       "      <td>Europe</td>\n",
       "      <td>UK</td>\n",
       "      <td>274,762</td>\n",
       "      <td>38,489</td>\n",
       "      <td>NaN</td>\n",
       "      <td>NaN</td>\n",
       "      <td>1,559</td>\n",
       "      <td>4,049</td>\n",
       "      <td>567</td>\n",
       "      <td>4,285,738</td>\n",
       "      <td>63,158</td>\n",
       "      <td>67,856,881</td>\n",
       "    </tr>\n",
       "    <tr>\n",
       "      <th>3</th>\n",
       "      <td>Europe</td>\n",
       "      <td>Italy</td>\n",
       "      <td>232,997</td>\n",
       "      <td>33,415</td>\n",
       "      <td>157,507</td>\n",
       "      <td>42,075</td>\n",
       "      <td>435</td>\n",
       "      <td>3,853</td>\n",
       "      <td>553</td>\n",
       "      <td>3,878,739</td>\n",
       "      <td>64,144</td>\n",
       "      <td>60,468,778</td>\n",
       "    </tr>\n",
       "    <tr>\n",
       "      <th>4</th>\n",
       "      <td>Europe</td>\n",
       "      <td>France</td>\n",
       "      <td>188,882</td>\n",
       "      <td>28,802</td>\n",
       "      <td>68,355</td>\n",
       "      <td>91,725</td>\n",
       "      <td>1,319</td>\n",
       "      <td>2,894</td>\n",
       "      <td>441</td>\n",
       "      <td>1,384,633</td>\n",
       "      <td>21,217</td>\n",
       "      <td>65,261,942</td>\n",
       "    </tr>\n",
       "  </tbody>\n",
       "</table>\n",
       "</div>"
      ],
      "text/plain": [
       "  continent country_region total_cases total_deaths total_recovered  \\\n",
       "0    Europe         Russia     405,843        4,693         171,883   \n",
       "1    Europe          Spain     286,509       27,127         196,958   \n",
       "2    Europe             UK     274,762       38,489             NaN   \n",
       "3    Europe          Italy     232,997       33,415         157,507   \n",
       "4    Europe         France     188,882       28,802          68,355   \n",
       "\n",
       "  active_cases critical total cases/\\n1M pop deaths/\\n1M pop total_tests  \\\n",
       "0      229,267    2,300                2,781              32  10,643,124   \n",
       "1       62,424      617                6,128             580   4,063,843   \n",
       "2          NaN    1,559                4,049             567   4,285,738   \n",
       "3       42,075      435                3,853             553   3,878,739   \n",
       "4       91,725    1,319                2,894             441   1,384,633   \n",
       "\n",
       "  tests/\\n1M pop   population  \n",
       "0         72,933  145,929,507  \n",
       "1         86,921   46,753,345  \n",
       "2         63,158   67,856,881  \n",
       "3         64,144   60,468,778  \n",
       "4         21,217   65,261,942  "
      ]
     },
     "execution_count": 66,
     "metadata": {},
     "output_type": "execute_result"
    }
   ],
   "source": [
    "covid19_df.head()"
   ]
  },
  {
   "cell_type": "code",
   "execution_count": 67,
   "metadata": {},
   "outputs": [
    {
     "data": {
      "text/html": [
       "<div>\n",
       "<style scoped>\n",
       "    .dataframe tbody tr th:only-of-type {\n",
       "        vertical-align: middle;\n",
       "    }\n",
       "\n",
       "    .dataframe tbody tr th {\n",
       "        vertical-align: top;\n",
       "    }\n",
       "\n",
       "    .dataframe thead th {\n",
       "        text-align: right;\n",
       "    }\n",
       "</style>\n",
       "<table border=\"1\" class=\"dataframe\">\n",
       "  <thead>\n",
       "    <tr style=\"text-align: right;\">\n",
       "      <th></th>\n",
       "      <th>country_region</th>\n",
       "      <th>total_cases</th>\n",
       "      <th>total_recovered</th>\n",
       "    </tr>\n",
       "  </thead>\n",
       "  <tbody>\n",
       "    <tr>\n",
       "      <th>0</th>\n",
       "      <td>Russia</td>\n",
       "      <td>405,843</td>\n",
       "      <td>171,883</td>\n",
       "    </tr>\n",
       "    <tr>\n",
       "      <th>1</th>\n",
       "      <td>Spain</td>\n",
       "      <td>286,509</td>\n",
       "      <td>196,958</td>\n",
       "    </tr>\n",
       "    <tr>\n",
       "      <th>2</th>\n",
       "      <td>UK</td>\n",
       "      <td>274,762</td>\n",
       "      <td>NaN</td>\n",
       "    </tr>\n",
       "    <tr>\n",
       "      <th>3</th>\n",
       "      <td>Italy</td>\n",
       "      <td>232,997</td>\n",
       "      <td>157,507</td>\n",
       "    </tr>\n",
       "    <tr>\n",
       "      <th>4</th>\n",
       "      <td>France</td>\n",
       "      <td>188,882</td>\n",
       "      <td>68,355</td>\n",
       "    </tr>\n",
       "  </tbody>\n",
       "</table>\n",
       "</div>"
      ],
      "text/plain": [
       "  country_region total_cases total_recovered\n",
       "0         Russia     405,843         171,883\n",
       "1          Spain     286,509         196,958\n",
       "2             UK     274,762             NaN\n",
       "3          Italy     232,997         157,507\n",
       "4         France     188,882          68,355"
      ]
     },
     "execution_count": 67,
     "metadata": {},
     "output_type": "execute_result"
    }
   ],
   "source": [
    "covid19_df_q5 = covid19_df[['country_region', 'total_cases', 'total_recovered']]\n",
    "covid19_df_q5.head()"
   ]
  },
  {
   "cell_type": "code",
   "execution_count": 61,
   "metadata": {},
   "outputs": [
    {
     "data": {
      "text/plain": [
       "(213, 3)"
      ]
     },
     "execution_count": 61,
     "metadata": {},
     "output_type": "execute_result"
    }
   ],
   "source": [
    "covid19_df_q5.shape"
   ]
  },
  {
   "cell_type": "code",
   "execution_count": 62,
   "metadata": {},
   "outputs": [
    {
     "name": "stdout",
     "output_type": "stream",
     "text": [
      "<class 'pandas.core.frame.DataFrame'>\n",
      "RangeIndex: 213 entries, 0 to 212\n",
      "Data columns (total 3 columns):\n",
      " #   Column           Non-Null Count  Dtype \n",
      "---  ------           --------------  ----- \n",
      " 0   country_region   213 non-null    object\n",
      " 1   total_cases      213 non-null    object\n",
      " 2   total_recovered  211 non-null    object\n",
      "dtypes: object(3)\n",
      "memory usage: 5.1+ KB\n"
     ]
    }
   ],
   "source": [
    "covid19_df_q5.info()"
   ]
  },
  {
   "cell_type": "code",
   "execution_count": 68,
   "metadata": {},
   "outputs": [
    {
     "name": "stderr",
     "output_type": "stream",
     "text": [
      "/Users/danielaullien/Library/Python/3.7/lib/python/site-packages/ipykernel_launcher.py:1: SettingWithCopyWarning: \n",
      "A value is trying to be set on a copy of a slice from a DataFrame.\n",
      "Try using .loc[row_indexer,col_indexer] = value instead\n",
      "\n",
      "See the caveats in the documentation: https://pandas.pydata.org/pandas-docs/stable/user_guide/indexing.html#returning-a-view-versus-a-copy\n",
      "  \"\"\"Entry point for launching an IPython kernel.\n"
     ]
    }
   ],
   "source": [
    "covid19_df_q5['total_cases'] = covid19_df_q5['total_cases'].str.replace(',', '').astype(int)"
   ]
  },
  {
   "cell_type": "code",
   "execution_count": 71,
   "metadata": {},
   "outputs": [
    {
     "data": {
      "text/html": [
       "<div>\n",
       "<style scoped>\n",
       "    .dataframe tbody tr th:only-of-type {\n",
       "        vertical-align: middle;\n",
       "    }\n",
       "\n",
       "    .dataframe tbody tr th {\n",
       "        vertical-align: top;\n",
       "    }\n",
       "\n",
       "    .dataframe thead th {\n",
       "        text-align: right;\n",
       "    }\n",
       "</style>\n",
       "<table border=\"1\" class=\"dataframe\">\n",
       "  <thead>\n",
       "    <tr style=\"text-align: right;\">\n",
       "      <th></th>\n",
       "      <th>country_region</th>\n",
       "      <th>total_cases</th>\n",
       "      <th>total_recovered</th>\n",
       "    </tr>\n",
       "  </thead>\n",
       "  <tbody>\n",
       "    <tr>\n",
       "      <th>0</th>\n",
       "      <td>Russia</td>\n",
       "      <td>405843</td>\n",
       "      <td>171,883</td>\n",
       "    </tr>\n",
       "    <tr>\n",
       "      <th>1</th>\n",
       "      <td>Spain</td>\n",
       "      <td>286509</td>\n",
       "      <td>196,958</td>\n",
       "    </tr>\n",
       "    <tr>\n",
       "      <th>2</th>\n",
       "      <td>UK</td>\n",
       "      <td>274762</td>\n",
       "      <td>NaN</td>\n",
       "    </tr>\n",
       "    <tr>\n",
       "      <th>3</th>\n",
       "      <td>Italy</td>\n",
       "      <td>232997</td>\n",
       "      <td>157,507</td>\n",
       "    </tr>\n",
       "    <tr>\n",
       "      <th>4</th>\n",
       "      <td>France</td>\n",
       "      <td>188882</td>\n",
       "      <td>68,355</td>\n",
       "    </tr>\n",
       "  </tbody>\n",
       "</table>\n",
       "</div>"
      ],
      "text/plain": [
       "  country_region  total_cases total_recovered\n",
       "0         Russia       405843         171,883\n",
       "1          Spain       286509         196,958\n",
       "2             UK       274762             NaN\n",
       "3          Italy       232997         157,507\n",
       "4         France       188882          68,355"
      ]
     },
     "execution_count": 71,
     "metadata": {},
     "output_type": "execute_result"
    }
   ],
   "source": [
    "covid19_df_q5.head()"
   ]
  },
  {
   "cell_type": "code",
   "execution_count": 75,
   "metadata": {},
   "outputs": [
    {
     "data": {
      "text/html": [
       "<div>\n",
       "<style scoped>\n",
       "    .dataframe tbody tr th:only-of-type {\n",
       "        vertical-align: middle;\n",
       "    }\n",
       "\n",
       "    .dataframe tbody tr th {\n",
       "        vertical-align: top;\n",
       "    }\n",
       "\n",
       "    .dataframe thead th {\n",
       "        text-align: right;\n",
       "    }\n",
       "</style>\n",
       "<table border=\"1\" class=\"dataframe\">\n",
       "  <thead>\n",
       "    <tr style=\"text-align: right;\">\n",
       "      <th></th>\n",
       "      <th>country_region</th>\n",
       "      <th>total_cases</th>\n",
       "      <th>total_recovered</th>\n",
       "    </tr>\n",
       "  </thead>\n",
       "  <tbody>\n",
       "    <tr>\n",
       "      <th>0</th>\n",
       "      <td>Russia</td>\n",
       "      <td>405843</td>\n",
       "      <td>171,883</td>\n",
       "    </tr>\n",
       "    <tr>\n",
       "      <th>1</th>\n",
       "      <td>Spain</td>\n",
       "      <td>286509</td>\n",
       "      <td>196,958</td>\n",
       "    </tr>\n",
       "    <tr>\n",
       "      <th>3</th>\n",
       "      <td>Italy</td>\n",
       "      <td>232997</td>\n",
       "      <td>157,507</td>\n",
       "    </tr>\n",
       "    <tr>\n",
       "      <th>4</th>\n",
       "      <td>France</td>\n",
       "      <td>188882</td>\n",
       "      <td>68,355</td>\n",
       "    </tr>\n",
       "    <tr>\n",
       "      <th>5</th>\n",
       "      <td>Germany</td>\n",
       "      <td>183494</td>\n",
       "      <td>165,200</td>\n",
       "    </tr>\n",
       "  </tbody>\n",
       "</table>\n",
       "</div>"
      ],
      "text/plain": [
       "  country_region  total_cases total_recovered\n",
       "0         Russia       405843         171,883\n",
       "1          Spain       286509         196,958\n",
       "3          Italy       232997         157,507\n",
       "4         France       188882          68,355\n",
       "5        Germany       183494         165,200"
      ]
     },
     "execution_count": 75,
     "metadata": {},
     "output_type": "execute_result"
    }
   ],
   "source": [
    "covid19_df_q5 = covid19_df_q5.dropna()\n",
    "covid19_df_q5.head()"
   ]
  },
  {
   "cell_type": "code",
   "execution_count": 76,
   "metadata": {},
   "outputs": [
    {
     "data": {
      "text/html": [
       "<div>\n",
       "<style scoped>\n",
       "    .dataframe tbody tr th:only-of-type {\n",
       "        vertical-align: middle;\n",
       "    }\n",
       "\n",
       "    .dataframe tbody tr th {\n",
       "        vertical-align: top;\n",
       "    }\n",
       "\n",
       "    .dataframe thead th {\n",
       "        text-align: right;\n",
       "    }\n",
       "</style>\n",
       "<table border=\"1\" class=\"dataframe\">\n",
       "  <thead>\n",
       "    <tr style=\"text-align: right;\">\n",
       "      <th></th>\n",
       "      <th>country_region</th>\n",
       "      <th>total_cases</th>\n",
       "      <th>total_recovered</th>\n",
       "    </tr>\n",
       "  </thead>\n",
       "  <tbody>\n",
       "    <tr>\n",
       "      <th>0</th>\n",
       "      <td>Russia</td>\n",
       "      <td>405843</td>\n",
       "      <td>171,883</td>\n",
       "    </tr>\n",
       "    <tr>\n",
       "      <th>1</th>\n",
       "      <td>Spain</td>\n",
       "      <td>286509</td>\n",
       "      <td>196,958</td>\n",
       "    </tr>\n",
       "    <tr>\n",
       "      <th>3</th>\n",
       "      <td>Italy</td>\n",
       "      <td>232997</td>\n",
       "      <td>157,507</td>\n",
       "    </tr>\n",
       "    <tr>\n",
       "      <th>4</th>\n",
       "      <td>France</td>\n",
       "      <td>188882</td>\n",
       "      <td>68,355</td>\n",
       "    </tr>\n",
       "    <tr>\n",
       "      <th>5</th>\n",
       "      <td>Germany</td>\n",
       "      <td>183494</td>\n",
       "      <td>165,200</td>\n",
       "    </tr>\n",
       "  </tbody>\n",
       "</table>\n",
       "</div>"
      ],
      "text/plain": [
       "  country_region  total_cases total_recovered\n",
       "0         Russia       405843         171,883\n",
       "1          Spain       286509         196,958\n",
       "3          Italy       232997         157,507\n",
       "4         France       188882          68,355\n",
       "5        Germany       183494         165,200"
      ]
     },
     "execution_count": 76,
     "metadata": {},
     "output_type": "execute_result"
    }
   ],
   "source": [
    "covid19_df_q5.head()"
   ]
  },
  {
   "cell_type": "code",
   "execution_count": 77,
   "metadata": {},
   "outputs": [
    {
     "name": "stderr",
     "output_type": "stream",
     "text": [
      "/Users/danielaullien/Library/Python/3.7/lib/python/site-packages/ipykernel_launcher.py:1: SettingWithCopyWarning: \n",
      "A value is trying to be set on a copy of a slice from a DataFrame.\n",
      "Try using .loc[row_indexer,col_indexer] = value instead\n",
      "\n",
      "See the caveats in the documentation: https://pandas.pydata.org/pandas-docs/stable/user_guide/indexing.html#returning-a-view-versus-a-copy\n",
      "  \"\"\"Entry point for launching an IPython kernel.\n"
     ]
    }
   ],
   "source": [
    "covid19_df_q5['total_recovered'] = covid19_df_q5['total_recovered'].str.replace(',', '').astype(int)"
   ]
  },
  {
   "cell_type": "code",
   "execution_count": 78,
   "metadata": {},
   "outputs": [
    {
     "name": "stdout",
     "output_type": "stream",
     "text": [
      "<class 'pandas.core.frame.DataFrame'>\n",
      "Int64Index: 211 entries, 0 to 212\n",
      "Data columns (total 3 columns):\n",
      " #   Column           Non-Null Count  Dtype \n",
      "---  ------           --------------  ----- \n",
      " 0   country_region   211 non-null    object\n",
      " 1   total_cases      211 non-null    int64 \n",
      " 2   total_recovered  211 non-null    int64 \n",
      "dtypes: int64(2), object(1)\n",
      "memory usage: 6.6+ KB\n"
     ]
    }
   ],
   "source": [
    "covid19_df_q5.info()\n"
   ]
  },
  {
   "cell_type": "code",
   "execution_count": 79,
   "metadata": {},
   "outputs": [
    {
     "name": "stderr",
     "output_type": "stream",
     "text": [
      "/Users/danielaullien/Library/Python/3.7/lib/python/site-packages/ipykernel_launcher.py:1: SettingWithCopyWarning: \n",
      "A value is trying to be set on a copy of a slice from a DataFrame.\n",
      "Try using .loc[row_indexer,col_indexer] = value instead\n",
      "\n",
      "See the caveats in the documentation: https://pandas.pydata.org/pandas-docs/stable/user_guide/indexing.html#returning-a-view-versus-a-copy\n",
      "  \"\"\"Entry point for launching an IPython kernel.\n"
     ]
    },
    {
     "data": {
      "text/html": [
       "<div>\n",
       "<style scoped>\n",
       "    .dataframe tbody tr th:only-of-type {\n",
       "        vertical-align: middle;\n",
       "    }\n",
       "\n",
       "    .dataframe tbody tr th {\n",
       "        vertical-align: top;\n",
       "    }\n",
       "\n",
       "    .dataframe thead th {\n",
       "        text-align: right;\n",
       "    }\n",
       "</style>\n",
       "<table border=\"1\" class=\"dataframe\">\n",
       "  <thead>\n",
       "    <tr style=\"text-align: right;\">\n",
       "      <th></th>\n",
       "      <th>country_region</th>\n",
       "      <th>total_cases</th>\n",
       "      <th>total_recovered</th>\n",
       "      <th>recovery_rate</th>\n",
       "    </tr>\n",
       "  </thead>\n",
       "  <tbody>\n",
       "    <tr>\n",
       "      <th>0</th>\n",
       "      <td>Russia</td>\n",
       "      <td>405843</td>\n",
       "      <td>171883</td>\n",
       "      <td>0.423521</td>\n",
       "    </tr>\n",
       "    <tr>\n",
       "      <th>1</th>\n",
       "      <td>Spain</td>\n",
       "      <td>286509</td>\n",
       "      <td>196958</td>\n",
       "      <td>0.687441</td>\n",
       "    </tr>\n",
       "    <tr>\n",
       "      <th>3</th>\n",
       "      <td>Italy</td>\n",
       "      <td>232997</td>\n",
       "      <td>157507</td>\n",
       "      <td>0.676004</td>\n",
       "    </tr>\n",
       "    <tr>\n",
       "      <th>4</th>\n",
       "      <td>France</td>\n",
       "      <td>188882</td>\n",
       "      <td>68355</td>\n",
       "      <td>0.361893</td>\n",
       "    </tr>\n",
       "    <tr>\n",
       "      <th>5</th>\n",
       "      <td>Germany</td>\n",
       "      <td>183494</td>\n",
       "      <td>165200</td>\n",
       "      <td>0.900302</td>\n",
       "    </tr>\n",
       "  </tbody>\n",
       "</table>\n",
       "</div>"
      ],
      "text/plain": [
       "  country_region  total_cases  total_recovered  recovery_rate\n",
       "0         Russia       405843           171883       0.423521\n",
       "1          Spain       286509           196958       0.687441\n",
       "3          Italy       232997           157507       0.676004\n",
       "4         France       188882            68355       0.361893\n",
       "5        Germany       183494           165200       0.900302"
      ]
     },
     "execution_count": 79,
     "metadata": {},
     "output_type": "execute_result"
    }
   ],
   "source": [
    "covid19_df_q5['recovery_rate'] = covid19_df_q5['total_recovered']/covid19_df_q5['total_cases']\n",
    "covid19_df_q5.head()"
   ]
  },
  {
   "cell_type": "code",
   "execution_count": null,
   "metadata": {},
   "outputs": [],
   "source": []
  }
 ],
 "metadata": {
  "kernelspec": {
   "display_name": "Python 3",
   "language": "python",
   "name": "python3"
  },
  "language_info": {
   "codemirror_mode": {
    "name": "ipython",
    "version": 3
   },
   "file_extension": ".py",
   "mimetype": "text/x-python",
   "name": "python",
   "nbconvert_exporter": "python",
   "pygments_lexer": "ipython3",
   "version": "3.7.3"
  }
 },
 "nbformat": 4,
 "nbformat_minor": 2
}
