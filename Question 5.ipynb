{
 "cells": [
  {
   "cell_type": "markdown",
   "metadata": {},
   "source": [
    "# What country has the highest ratio of recovered cases?\n"
   ]
  },
  {
   "cell_type": "code",
   "execution_count": 1,
   "metadata": {},
   "outputs": [],
   "source": [
    "# Importing the libraries \n",
    "import pandas as pd\n",
    "import numpy as np\n",
    "import matplotlib.pyplot as plt #visualisation\n",
    "%matplotlib inline "
   ]
  },
  {
   "cell_type": "code",
   "execution_count": 2,
   "metadata": {},
   "outputs": [],
   "source": [
    "# read the data and store it in chosen variable\n",
    "covid19_file = 'data_team-9/worldometers_coronavirus.csv'\n",
    "covid19_df_q5 = pd.read_csv(covid19_file)"
   ]
  },
  {
   "cell_type": "code",
   "execution_count": 3,
   "metadata": {},
   "outputs": [
    {
     "data": {
      "text/html": [
       "<div>\n",
       "<style scoped>\n",
       "    .dataframe tbody tr th:only-of-type {\n",
       "        vertical-align: middle;\n",
       "    }\n",
       "\n",
       "    .dataframe tbody tr th {\n",
       "        vertical-align: top;\n",
       "    }\n",
       "\n",
       "    .dataframe thead th {\n",
       "        text-align: right;\n",
       "    }\n",
       "</style>\n",
       "<table border=\"1\" class=\"dataframe\">\n",
       "  <thead>\n",
       "    <tr style=\"text-align: right;\">\n",
       "      <th></th>\n",
       "      <th>continent</th>\n",
       "      <th>country_region</th>\n",
       "      <th>total_cases</th>\n",
       "      <th>total_deaths</th>\n",
       "      <th>total_recovered</th>\n",
       "      <th>active_cases</th>\n",
       "      <th>critical</th>\n",
       "      <th>total cases/\\n1M pop</th>\n",
       "      <th>deaths/\\n1M pop</th>\n",
       "      <th>total_tests</th>\n",
       "      <th>tests/\\n1M pop</th>\n",
       "      <th>population</th>\n",
       "    </tr>\n",
       "  </thead>\n",
       "  <tbody>\n",
       "    <tr>\n",
       "      <th>0</th>\n",
       "      <td>Europe</td>\n",
       "      <td>Russia</td>\n",
       "      <td>405,843</td>\n",
       "      <td>4,693</td>\n",
       "      <td>171,883</td>\n",
       "      <td>229,267</td>\n",
       "      <td>2,300</td>\n",
       "      <td>2,781</td>\n",
       "      <td>32</td>\n",
       "      <td>10,643,124</td>\n",
       "      <td>72,933</td>\n",
       "      <td>145,929,507</td>\n",
       "    </tr>\n",
       "    <tr>\n",
       "      <th>1</th>\n",
       "      <td>Europe</td>\n",
       "      <td>Spain</td>\n",
       "      <td>286,509</td>\n",
       "      <td>27,127</td>\n",
       "      <td>196,958</td>\n",
       "      <td>62,424</td>\n",
       "      <td>617</td>\n",
       "      <td>6,128</td>\n",
       "      <td>580</td>\n",
       "      <td>4,063,843</td>\n",
       "      <td>86,921</td>\n",
       "      <td>46,753,345</td>\n",
       "    </tr>\n",
       "    <tr>\n",
       "      <th>2</th>\n",
       "      <td>Europe</td>\n",
       "      <td>UK</td>\n",
       "      <td>274,762</td>\n",
       "      <td>38,489</td>\n",
       "      <td>NaN</td>\n",
       "      <td>NaN</td>\n",
       "      <td>1,559</td>\n",
       "      <td>4,049</td>\n",
       "      <td>567</td>\n",
       "      <td>4,285,738</td>\n",
       "      <td>63,158</td>\n",
       "      <td>67,856,881</td>\n",
       "    </tr>\n",
       "    <tr>\n",
       "      <th>3</th>\n",
       "      <td>Europe</td>\n",
       "      <td>Italy</td>\n",
       "      <td>232,997</td>\n",
       "      <td>33,415</td>\n",
       "      <td>157,507</td>\n",
       "      <td>42,075</td>\n",
       "      <td>435</td>\n",
       "      <td>3,853</td>\n",
       "      <td>553</td>\n",
       "      <td>3,878,739</td>\n",
       "      <td>64,144</td>\n",
       "      <td>60,468,778</td>\n",
       "    </tr>\n",
       "    <tr>\n",
       "      <th>4</th>\n",
       "      <td>Europe</td>\n",
       "      <td>France</td>\n",
       "      <td>188,882</td>\n",
       "      <td>28,802</td>\n",
       "      <td>68,355</td>\n",
       "      <td>91,725</td>\n",
       "      <td>1,319</td>\n",
       "      <td>2,894</td>\n",
       "      <td>441</td>\n",
       "      <td>1,384,633</td>\n",
       "      <td>21,217</td>\n",
       "      <td>65,261,942</td>\n",
       "    </tr>\n",
       "  </tbody>\n",
       "</table>\n",
       "</div>"
      ],
      "text/plain": [
       "  continent country_region total_cases total_deaths total_recovered  \\\n",
       "0    Europe         Russia     405,843        4,693         171,883   \n",
       "1    Europe          Spain     286,509       27,127         196,958   \n",
       "2    Europe             UK     274,762       38,489             NaN   \n",
       "3    Europe          Italy     232,997       33,415         157,507   \n",
       "4    Europe         France     188,882       28,802          68,355   \n",
       "\n",
       "  active_cases critical total cases/\\n1M pop deaths/\\n1M pop total_tests  \\\n",
       "0      229,267    2,300                2,781              32  10,643,124   \n",
       "1       62,424      617                6,128             580   4,063,843   \n",
       "2          NaN    1,559                4,049             567   4,285,738   \n",
       "3       42,075      435                3,853             553   3,878,739   \n",
       "4       91,725    1,319                2,894             441   1,384,633   \n",
       "\n",
       "  tests/\\n1M pop   population  \n",
       "0         72,933  145,929,507  \n",
       "1         86,921   46,753,345  \n",
       "2         63,158   67,856,881  \n",
       "3         64,144   60,468,778  \n",
       "4         21,217   65,261,942  "
      ]
     },
     "execution_count": 3,
     "metadata": {},
     "output_type": "execute_result"
    }
   ],
   "source": [
    "# Showing top 5 rows\n",
    "covid19_df_q5.head()"
   ]
  },
  {
   "cell_type": "code",
   "execution_count": 4,
   "metadata": {},
   "outputs": [
    {
     "data": {
      "text/plain": [
       "Index(['continent', 'country_region', 'total_cases', 'total_deaths',\n",
       "       'total_recovered', 'active_cases', 'critical', 'total cases/\\n1M pop',\n",
       "       'deaths/\\n1M pop', 'total_tests', 'tests/\\n1M pop', 'population'],\n",
       "      dtype='object')"
      ]
     },
     "execution_count": 4,
     "metadata": {},
     "output_type": "execute_result"
    }
   ],
   "source": [
    "# Showing all the columns\n",
    "covid19_df_q5.columns"
   ]
  },
  {
   "cell_type": "code",
   "execution_count": 5,
   "metadata": {},
   "outputs": [
    {
     "data": {
      "text/html": [
       "<div>\n",
       "<style scoped>\n",
       "    .dataframe tbody tr th:only-of-type {\n",
       "        vertical-align: middle;\n",
       "    }\n",
       "\n",
       "    .dataframe tbody tr th {\n",
       "        vertical-align: top;\n",
       "    }\n",
       "\n",
       "    .dataframe thead th {\n",
       "        text-align: right;\n",
       "    }\n",
       "</style>\n",
       "<table border=\"1\" class=\"dataframe\">\n",
       "  <thead>\n",
       "    <tr style=\"text-align: right;\">\n",
       "      <th></th>\n",
       "      <th>country_region</th>\n",
       "      <th>total_cases</th>\n",
       "      <th>total_recovered</th>\n",
       "    </tr>\n",
       "  </thead>\n",
       "  <tbody>\n",
       "    <tr>\n",
       "      <th>0</th>\n",
       "      <td>Russia</td>\n",
       "      <td>405,843</td>\n",
       "      <td>171,883</td>\n",
       "    </tr>\n",
       "    <tr>\n",
       "      <th>1</th>\n",
       "      <td>Spain</td>\n",
       "      <td>286,509</td>\n",
       "      <td>196,958</td>\n",
       "    </tr>\n",
       "    <tr>\n",
       "      <th>2</th>\n",
       "      <td>UK</td>\n",
       "      <td>274,762</td>\n",
       "      <td>NaN</td>\n",
       "    </tr>\n",
       "    <tr>\n",
       "      <th>3</th>\n",
       "      <td>Italy</td>\n",
       "      <td>232,997</td>\n",
       "      <td>157,507</td>\n",
       "    </tr>\n",
       "    <tr>\n",
       "      <th>4</th>\n",
       "      <td>France</td>\n",
       "      <td>188,882</td>\n",
       "      <td>68,355</td>\n",
       "    </tr>\n",
       "  </tbody>\n",
       "</table>\n",
       "</div>"
      ],
      "text/plain": [
       "  country_region total_cases total_recovered\n",
       "0         Russia     405,843         171,883\n",
       "1          Spain     286,509         196,958\n",
       "2             UK     274,762             NaN\n",
       "3          Italy     232,997         157,507\n",
       "4         France     188,882          68,355"
      ]
     },
     "execution_count": 5,
     "metadata": {},
     "output_type": "execute_result"
    }
   ],
   "source": [
    "# Selecting the data we need\n",
    "covid19_df_q5 = covid19_df_q5[['country_region','total_cases','total_recovered',]]\n",
    "covid19_df_q5.head()"
   ]
  },
  {
   "cell_type": "code",
   "execution_count": 51,
   "metadata": {},
   "outputs": [
    {
     "data": {
      "text/plain": [
       "(67, 5)"
      ]
     },
     "execution_count": 51,
     "metadata": {},
     "output_type": "execute_result"
    }
   ],
   "source": [
    "# Checking the number of rows and columns\n",
    "covid19_df_q5.shape"
   ]
  },
  {
   "cell_type": "code",
   "execution_count": 7,
   "metadata": {},
   "outputs": [
    {
     "name": "stdout",
     "output_type": "stream",
     "text": [
      "<class 'pandas.core.frame.DataFrame'>\n",
      "RangeIndex: 213 entries, 0 to 212\n",
      "Data columns (total 3 columns):\n",
      " #   Column           Non-Null Count  Dtype \n",
      "---  ------           --------------  ----- \n",
      " 0   country_region   213 non-null    object\n",
      " 1   total_cases      213 non-null    object\n",
      " 2   total_recovered  211 non-null    object\n",
      "dtypes: object(3)\n",
      "memory usage: 5.1+ KB\n"
     ]
    }
   ],
   "source": [
    "# Information about the df\n",
    "covid19_df_q5.info()"
   ]
  },
  {
   "cell_type": "code",
   "execution_count": 8,
   "metadata": {},
   "outputs": [],
   "source": [
    "# Dropping missing values\n",
    "covid19_df_q5 = covid19_df_q5.dropna()"
   ]
  },
  {
   "cell_type": "code",
   "execution_count": 9,
   "metadata": {},
   "outputs": [],
   "source": [
    "# Transforming object(str) to int\n",
    "covid19_df_q5['total_cases'] = covid19_df_q5['total_cases'].str.replace(',', '').astype(int)"
   ]
  },
  {
   "cell_type": "code",
   "execution_count": 10,
   "metadata": {},
   "outputs": [],
   "source": [
    "# Transforming object(str) to int\n",
    "covid19_df_q5['total_recovered'] = covid19_df_q5['total_recovered'].str.replace(',', '').astype(int)"
   ]
  },
  {
   "cell_type": "code",
   "execution_count": 11,
   "metadata": {},
   "outputs": [
    {
     "name": "stdout",
     "output_type": "stream",
     "text": [
      "<class 'pandas.core.frame.DataFrame'>\n",
      "Int64Index: 211 entries, 0 to 212\n",
      "Data columns (total 3 columns):\n",
      " #   Column           Non-Null Count  Dtype \n",
      "---  ------           --------------  ----- \n",
      " 0   country_region   211 non-null    object\n",
      " 1   total_cases      211 non-null    int64 \n",
      " 2   total_recovered  211 non-null    int64 \n",
      "dtypes: int64(2), object(1)\n",
      "memory usage: 6.6+ KB\n"
     ]
    }
   ],
   "source": [
    "# Double checking that objects have been transform to int\n",
    "covid19_df_q5.info()"
   ]
  },
  {
   "cell_type": "code",
   "execution_count": 12,
   "metadata": {},
   "outputs": [
    {
     "data": {
      "text/html": [
       "<div>\n",
       "<style scoped>\n",
       "    .dataframe tbody tr th:only-of-type {\n",
       "        vertical-align: middle;\n",
       "    }\n",
       "\n",
       "    .dataframe tbody tr th {\n",
       "        vertical-align: top;\n",
       "    }\n",
       "\n",
       "    .dataframe thead th {\n",
       "        text-align: right;\n",
       "    }\n",
       "</style>\n",
       "<table border=\"1\" class=\"dataframe\">\n",
       "  <thead>\n",
       "    <tr style=\"text-align: right;\">\n",
       "      <th></th>\n",
       "      <th>country_region</th>\n",
       "      <th>total_cases</th>\n",
       "      <th>total_recovered</th>\n",
       "    </tr>\n",
       "  </thead>\n",
       "  <tbody>\n",
       "    <tr>\n",
       "      <th>208</th>\n",
       "      <td>New Zealand</td>\n",
       "      <td>1504</td>\n",
       "      <td>1481</td>\n",
       "    </tr>\n",
       "    <tr>\n",
       "      <th>209</th>\n",
       "      <td>French Polynesia</td>\n",
       "      <td>60</td>\n",
       "      <td>60</td>\n",
       "    </tr>\n",
       "    <tr>\n",
       "      <th>210</th>\n",
       "      <td>New Caledonia</td>\n",
       "      <td>19</td>\n",
       "      <td>18</td>\n",
       "    </tr>\n",
       "    <tr>\n",
       "      <th>211</th>\n",
       "      <td>Fiji</td>\n",
       "      <td>18</td>\n",
       "      <td>15</td>\n",
       "    </tr>\n",
       "    <tr>\n",
       "      <th>212</th>\n",
       "      <td>Papua New Guinea</td>\n",
       "      <td>8</td>\n",
       "      <td>8</td>\n",
       "    </tr>\n",
       "  </tbody>\n",
       "</table>\n",
       "</div>"
      ],
      "text/plain": [
       "       country_region  total_cases  total_recovered\n",
       "208       New Zealand         1504             1481\n",
       "209  French Polynesia           60               60\n",
       "210     New Caledonia           19               18\n",
       "211              Fiji           18               15\n",
       "212  Papua New Guinea            8                8"
      ]
     },
     "execution_count": 12,
     "metadata": {},
     "output_type": "execute_result"
    }
   ],
   "source": [
    "# We can see what in some countries total cases = total recovered\n",
    "covid19_df_q5.tail()"
   ]
  },
  {
   "cell_type": "code",
   "execution_count": 13,
   "metadata": {},
   "outputs": [
    {
     "name": "stdout",
     "output_type": "stream",
     "text": [
      "<class 'pandas.core.frame.DataFrame'>\n",
      "Int64Index: 211 entries, 0 to 212\n",
      "Data columns (total 4 columns):\n",
      " #   Column           Non-Null Count  Dtype \n",
      "---  ------           --------------  ----- \n",
      " 0   country_region   211 non-null    object\n",
      " 1   total_cases      211 non-null    int64 \n",
      " 2   total_recovered  211 non-null    int64 \n",
      " 3   Cases>5000       211 non-null    bool  \n",
      "dtypes: bool(1), int64(2), object(1)\n",
      "memory usage: 6.8+ KB\n"
     ]
    }
   ],
   "source": [
    "# Checking what countries have more than 5000 total cases.\n",
    "# It allows us to consider countries that had bigger outbreaks. \n",
    "covid19_df_q5[\"Cases>5000\"]= covid19_df_q5['total_cases'] > 5000\n",
    "covid19_df_q5.info()"
   ]
  },
  {
   "cell_type": "code",
   "execution_count": 14,
   "metadata": {},
   "outputs": [
    {
     "name": "stdout",
     "output_type": "stream",
     "text": [
      "<class 'pandas.core.frame.DataFrame'>\n",
      "Int64Index: 67 entries, 0 to 207\n",
      "Data columns (total 4 columns):\n",
      " #   Column           Non-Null Count  Dtype \n",
      "---  ------           --------------  ----- \n",
      " 0   country_region   67 non-null     object\n",
      " 1   total_cases      67 non-null     int64 \n",
      " 2   total_recovered  67 non-null     int64 \n",
      " 3   Cases>5000       67 non-null     bool  \n",
      "dtypes: bool(1), int64(2), object(1)\n",
      "memory usage: 2.2+ KB\n"
     ]
    }
   ],
   "source": [
    "# We are only left with 67 countries that have more than 5000 \n",
    "covid19_df_q5 = covid19_df_q5[covid19_df_q5['Cases>5000'] == True] \n",
    "covid19_df_q5.info()"
   ]
  },
  {
   "cell_type": "code",
   "execution_count": 40,
   "metadata": {},
   "outputs": [
    {
     "name": "stdout",
     "output_type": "stream",
     "text": [
      "<class 'pandas.core.frame.DataFrame'>\n",
      "Int64Index: 67 entries, 0 to 207\n",
      "Data columns (total 5 columns):\n",
      " #   Column           Non-Null Count  Dtype \n",
      "---  ------           --------------  ----- \n",
      " 0   country_region   67 non-null     object\n",
      " 1   total_cases      67 non-null     int64 \n",
      " 2   total_recovered  67 non-null     int64 \n",
      " 3   Cases>5000       67 non-null     bool  \n",
      " 4   recovery_rate    67 non-null     int64 \n",
      "dtypes: bool(1), int64(3), object(1)\n",
      "memory usage: 5.2+ KB\n"
     ]
    }
   ],
   "source": [
    "# Adding a new column that corresponds to recovery rate\n",
    "# Transforming it to rounded percentage number\n",
    "# Changing it from float to int\n",
    "covid19_df_q5[\"recovery_rate\"]= covid19_df_q5[\"total_recovered\"]/covid19_df_q5[\"total_cases\"]\n",
    "covid19_df_q5[\"recovery_rate\"] = (covid19_df_q5[\"recovery_rate\"] * 100).round()\n",
    "covid19_df_q5[\"recovery_rate\"] = covid19_df_q5[\"recovery_rate\"].dropna().astype('int')\n",
    "covid19_df_q5.info()"
   ]
  },
  {
   "cell_type": "code",
   "execution_count": 60,
   "metadata": {},
   "outputs": [
    {
     "data": {
      "text/html": [
       "<div>\n",
       "<style scoped>\n",
       "    .dataframe tbody tr th:only-of-type {\n",
       "        vertical-align: middle;\n",
       "    }\n",
       "\n",
       "    .dataframe tbody tr th {\n",
       "        vertical-align: top;\n",
       "    }\n",
       "\n",
       "    .dataframe thead th {\n",
       "        text-align: right;\n",
       "    }\n",
       "</style>\n",
       "<table border=\"1\" class=\"dataframe\">\n",
       "  <thead>\n",
       "    <tr style=\"text-align: right;\">\n",
       "      <th></th>\n",
       "      <th>country_region</th>\n",
       "      <th>total_cases</th>\n",
       "      <th>total_recovered</th>\n",
       "      <th>Cases&gt;5000</th>\n",
       "      <th>recovery_rate</th>\n",
       "    </tr>\n",
       "  </thead>\n",
       "  <tbody>\n",
       "    <tr>\n",
       "      <th>0</th>\n",
       "      <td>Russia</td>\n",
       "      <td>405843</td>\n",
       "      <td>171883</td>\n",
       "      <td>True</td>\n",
       "      <td>42</td>\n",
       "    </tr>\n",
       "    <tr>\n",
       "      <th>1</th>\n",
       "      <td>Spain</td>\n",
       "      <td>286509</td>\n",
       "      <td>196958</td>\n",
       "      <td>True</td>\n",
       "      <td>69</td>\n",
       "    </tr>\n",
       "    <tr>\n",
       "      <th>3</th>\n",
       "      <td>Italy</td>\n",
       "      <td>232997</td>\n",
       "      <td>157507</td>\n",
       "      <td>True</td>\n",
       "      <td>68</td>\n",
       "    </tr>\n",
       "    <tr>\n",
       "      <th>4</th>\n",
       "      <td>France</td>\n",
       "      <td>188882</td>\n",
       "      <td>68355</td>\n",
       "      <td>True</td>\n",
       "      <td>36</td>\n",
       "    </tr>\n",
       "    <tr>\n",
       "      <th>5</th>\n",
       "      <td>Germany</td>\n",
       "      <td>183494</td>\n",
       "      <td>165200</td>\n",
       "      <td>True</td>\n",
       "      <td>90</td>\n",
       "    </tr>\n",
       "  </tbody>\n",
       "</table>\n",
       "</div>"
      ],
      "text/plain": [
       "  country_region  total_cases  total_recovered  Cases>5000  recovery_rate\n",
       "0         Russia       405843           171883        True             42\n",
       "1          Spain       286509           196958        True             69\n",
       "3          Italy       232997           157507        True             68\n",
       "4         France       188882            68355        True             36\n",
       "5        Germany       183494           165200        True             90"
      ]
     },
     "execution_count": 60,
     "metadata": {},
     "output_type": "execute_result"
    }
   ],
   "source": [
    "covid19_df_q5.head()"
   ]
  },
  {
   "cell_type": "code",
   "execution_count": 44,
   "metadata": {},
   "outputs": [
    {
     "name": "stdout",
     "output_type": "stream",
     "text": [
      "country_region\n",
      "China          94\n",
      "Austria        93\n",
      "Norway         92\n",
      "Switzerland    92\n",
      "Australia      92\n",
      "               ..\n",
      "Bangladesh     21\n",
      "Sweden         13\n",
      "Honduras       11\n",
      "Bolivia         9\n",
      "Afghanistan     9\n",
      "Name: recovery_rate, Length: 67, dtype: int64\n"
     ]
    },
    {
     "data": {
      "text/plain": [
       "<matplotlib.axes._subplots.AxesSubplot at 0x10ff5c390>"
      ]
     },
     "execution_count": 44,
     "metadata": {},
     "output_type": "execute_result"
    },
    {
     "data": {
      "image/png": "[encoded data removed]",
      "text/plain": [
       "<Figure size 432x288 with 1 Axes>"
      ]
     },
     "metadata": {
      "needs_background": "light"
     },
     "output_type": "display_data"
    }
   ],
   "source": [
    "# We can see that the country has the highest recovery rate is China\n",
    "x = covid19_df_q5.groupby(\"country_region\")['recovery_rate'].max().sort_values(ascending=False)\n",
    "print(x)\n",
    "x[:20].plot(kind='barh')"
   ]
  },
  {
   "cell_type": "code",
   "execution_count": 66,
   "metadata": {},
   "outputs": [
    {
     "data": {
      "text/html": [
       "<div>\n",
       "<style scoped>\n",
       "    .dataframe tbody tr th:only-of-type {\n",
       "        vertical-align: middle;\n",
       "    }\n",
       "\n",
       "    .dataframe tbody tr th {\n",
       "        vertical-align: top;\n",
       "    }\n",
       "\n",
       "    .dataframe thead th {\n",
       "        text-align: right;\n",
       "    }\n",
       "</style>\n",
       "<table border=\"1\" class=\"dataframe\">\n",
       "  <thead>\n",
       "    <tr style=\"text-align: right;\">\n",
       "      <th></th>\n",
       "      <th>country_region</th>\n",
       "      <th>total_cases</th>\n",
       "      <th>total_recovered</th>\n",
       "      <th>Cases&gt;5000</th>\n",
       "      <th>recovery_rate</th>\n",
       "    </tr>\n",
       "  </thead>\n",
       "  <tbody>\n",
       "    <tr>\n",
       "      <th>91</th>\n",
       "      <td>China</td>\n",
       "      <td>83001</td>\n",
       "      <td>78304</td>\n",
       "      <td>True</td>\n",
       "      <td>94</td>\n",
       "    </tr>\n",
       "    <tr>\n",
       "      <th>16</th>\n",
       "      <td>Austria</td>\n",
       "      <td>16731</td>\n",
       "      <td>15593</td>\n",
       "      <td>True</td>\n",
       "      <td>93</td>\n",
       "    </tr>\n",
       "    <tr>\n",
       "      <th>207</th>\n",
       "      <td>Australia</td>\n",
       "      <td>7195</td>\n",
       "      <td>6614</td>\n",
       "      <td>True</td>\n",
       "      <td>92</td>\n",
       "    </tr>\n",
       "    <tr>\n",
       "      <th>20</th>\n",
       "      <td>Norway</td>\n",
       "      <td>8440</td>\n",
       "      <td>7727</td>\n",
       "      <td>True</td>\n",
       "      <td>92</td>\n",
       "    </tr>\n",
       "    <tr>\n",
       "      <th>11</th>\n",
       "      <td>Switzerland</td>\n",
       "      <td>30862</td>\n",
       "      <td>28500</td>\n",
       "      <td>True</td>\n",
       "      <td>92</td>\n",
       "    </tr>\n",
       "  </tbody>\n",
       "</table>\n",
       "</div>"
      ],
      "text/plain": [
       "    country_region  total_cases  total_recovered  Cases>5000  recovery_rate\n",
       "91           China        83001            78304        True             94\n",
       "16         Austria        16731            15593        True             93\n",
       "207      Australia         7195             6614        True             92\n",
       "20          Norway         8440             7727        True             92\n",
       "11     Switzerland        30862            28500        True             92"
      ]
     },
     "execution_count": 66,
     "metadata": {},
     "output_type": "execute_result"
    }
   ],
   "source": [
    "# First prepare your dataframe, e.g. sort so x and y will align properly\n",
    "XY = covid19_df_q5.sort_values('recovery_rate', ascending=False)\n",
    "XY.head()\n"
   ]
  },
  {
   "cell_type": "code",
   "execution_count": 68,
   "metadata": {},
   "outputs": [
    {
     "data": {
      "image/png": "[encoded data removed]",
      "text/plain": [
       "<Figure size 432x288 with 1 Axes>"
      ]
     },
     "metadata": {
      "needs_background": "light"
     },
     "output_type": "display_data"
    }
   ],
   "source": [
    "# These are options that I tried for x and y , but it mixed up the values. \n",
    "# Took country, e.g. 'country' = Russia, but displayed 'recovery rate' = 94 for China.\n",
    "# x = covid19_df_q5[\"country_region\"] #.loc[covid19_df_q5['Cases>5000'] == True]\n",
    "# y = covid19_df_q5[\"recovery_rate\"].sort_values(ascending=False).iloc[:20]\n",
    "# Conclusion: in this specific case x and y axis should be treated together in a dataframe and not munipulated apart. \n",
    "\n",
    "x = XY['country_region']\n",
    "y = XY['recovery_rate'][:20]\n",
    "\n",
    "\n",
    "fig, ax = plt.subplots()    \n",
    "width = 0.5 # the width of the bars \n",
    "ind = np.arange(len(y))  # the x locations for the groups\n",
    "ax.barh(ind, y, width, color=\"blue\")\n",
    "ax.set_yticks(ind+width/2)\n",
    "for i, v in enumerate(y): # adding numbers to every line\n",
    "        ax.text(v + 1, i -.3, str(v), color='black', fontweight='bold')\n",
    "ax.set_yticklabels(x, minor=False)\n",
    "plt.title('Recovery rates')\n",
    "plt.xlabel(\"Percentage\")\n",
    "plt.ylabel(\"Countries\")      \n",
    "plt.show()\n"
   ]
  },
  {
   "cell_type": "code",
   "execution_count": null,
   "metadata": {},
   "outputs": [],
   "source": []
  }
 ],
 "metadata": {
  "kernelspec": {
   "display_name": "Python 3",
   "language": "python",
   "name": "python3"
  },
  "language_info": {
   "codemirror_mode": {
    "name": "ipython",
    "version": 3
   },
   "file_extension": ".py",
   "mimetype": "text/x-python",
   "name": "python",
   "nbconvert_exporter": "python",
   "pygments_lexer": "ipython3",
   "version": "3.7.3"
  }
 },
 "nbformat": 4,
 "nbformat_minor": 2
}
