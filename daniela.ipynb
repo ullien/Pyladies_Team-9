{
 "cells": [
  {
   "cell_type": "code",
   "execution_count": 44,
   "metadata": {},
   "outputs": [],
   "source": [
    "import pandas as pd\n",
    "import numpy as np\n",
    "import matplotlib.pyplot as plt #visualisation\n",
    "%matplotlib inline \n",
    "\n",
    "\n",
    "# read the data and store it in df variable\n",
    "path = 'data_team-9/health_indicators.csv'\n",
    "health_indicators_df = pd.read_csv(path)"
   ]
  },
  {
   "cell_type": "code",
   "execution_count": 2,
   "metadata": {},
   "outputs": [],
   "source": [
    "path = 'data_team-9/bcg.csv'\n",
    "bcg_df = pd.read_csv(path, header=1)"
   ]
  },
  {
   "cell_type": "code",
   "execution_count": 3,
   "metadata": {},
   "outputs": [],
   "source": [
    "path = 'data_team-9/life_expectancy.csv'\n",
    "life_expectance_df = pd.read_csv(path)"
   ]
  },
  {
   "cell_type": "code",
   "execution_count": 4,
   "metadata": {},
   "outputs": [],
   "source": [
    "path = 'data_team-9/worldometers_coronavirus.csv'\n",
    "worldmeters_coronavirus_df = pd.read_csv(path)"
   ]
  },
  {
   "cell_type": "code",
   "execution_count": 5,
   "metadata": {},
   "outputs": [
    {
     "data": {
      "text/plain": [
       "Index(['Country_Region', 'first_1ConfirmedCases', 'first_1Fatalities',\n",
       "       'first_10ConfirmedCases', 'first_50ConfirmedCases',\n",
       "       'first_100ConfirmedCases', 'cases_growth', 'death_growth',\n",
       "       'Cardiovascular diseases (%)', 'Cancers (%)',\n",
       "       'Diabetes, blood, & endocrine diseases (%)', 'Respiratory diseases (%)',\n",
       "       'Liver disease (%)', 'Diarrhea & common infectious diseases (%)',\n",
       "       'Musculoskeletal disorders (%)', 'HIV/AIDS and tuberculosis (%)',\n",
       "       'Malaria & neglected tropical diseases (%)',\n",
       "       'Nutritional deficiencies (%)', 'pneumonia-death-rates',\n",
       "       'Share of deaths from smoking (%)', 'alcoholic_beverages',\n",
       "       'animal_fats', 'animal_products', 'aquatic_products,_other',\n",
       "       'cereals_-_excluding_beer', 'eggs', 'fish,_seafood',\n",
       "       'fruits_-_excluding_wine', 'meat', 'milk_-_excluding_butter',\n",
       "       'miscellaneous', 'offals', 'oilcrops', 'pulses', 'spices',\n",
       "       'starchy_roots', 'stimulants', 'sugar_&_sweeteners', 'treenuts',\n",
       "       'vegetable_oils', 'vegetables', 'vegetal_products',\n",
       "       'hospital_beds_per10k', 'hospital_density', 'nbr_surgeons',\n",
       "       'nbr_obstetricians', 'nbr_anaesthesiologists', 'medical_doctors_per10k',\n",
       "       'school_closure', 'bcg_coverage', 'bcg_year_delta', 'population',\n",
       "       'median age', 'population growth rate', 'birth rate', 'death rate',\n",
       "       'net migration rate', 'maternal mortality rate',\n",
       "       'infant mortality rate', 'life expectancy at birth',\n",
       "       'total fertility rate', 'obesity - adult prevalence rate',\n",
       "       'school_shutdown_1case', 'school_shutdown_10case',\n",
       "       'school_shutdown_50case', 'school_shutdown_1death', 'FF_DayOfYear',\n",
       "       'case1_DayOfYear', 'case10_DayOfYear', 'case50_DayOfYear'],\n",
       "      dtype='object')"
      ]
     },
     "execution_count": 5,
     "metadata": {},
     "output_type": "execute_result"
    }
   ],
   "source": [
    "health_indicators_df.columns\n"
   ]
  },
  {
   "cell_type": "code",
   "execution_count": 6,
   "metadata": {},
   "outputs": [
    {
     "data": {
      "text/plain": [
       "count    164.000000\n",
       "mean      73.467683\n",
       "std        7.248634\n",
       "min       52.800000\n",
       "25%       68.800000\n",
       "50%       75.250000\n",
       "75%       78.525000\n",
       "max       86.000000\n",
       "Name: life expectancy at birth, dtype: float64"
      ]
     },
     "execution_count": 6,
     "metadata": {},
     "output_type": "execute_result"
    }
   ],
   "source": [
    "health_indicators_df['life expectancy at birth'].describe()"
   ]
  },
  {
   "cell_type": "code",
   "execution_count": 7,
   "metadata": {},
   "outputs": [
    {
     "name": "stdout",
     "output_type": "stream",
     "text": [
      "         Country_Region  bcg_coverage  life expectancy at birth\n",
      "0           Afghanistan          86.0                      52.8\n",
      "1               Albania          99.0                      79.0\n",
      "2               Algeria          99.0                      77.5\n",
      "3               Andorra           NaN                      83.0\n",
      "4                Angola          79.0                      61.3\n",
      "..                  ...           ...                       ...\n",
      "175           Venezuela          82.0                      71.0\n",
      "176             Vietnam          97.0                      74.4\n",
      "177  West Bank and Gaza           NaN                       NaN\n",
      "178              Zambia          99.0                      53.6\n",
      "179            Zimbabwe          90.0                      62.3\n",
      "\n",
      "[180 rows x 3 columns]\n"
     ]
    }
   ],
   "source": [
    "#create a dataframe with only necessary columns\n",
    "mini_health_indicators_df = health_indicators_df[['Country_Region','bcg_coverage', 'life expectancy at birth']]\n",
    "print(mini_health_indicators_df)"
   ]
  },
  {
   "cell_type": "code",
   "execution_count": 8,
   "metadata": {},
   "outputs": [
    {
     "name": "stdout",
     "output_type": "stream",
     "text": [
      "    Country_Region  bcg_coverage  life expectancy at birth\n",
      "0      Afghanistan          86.0                      52.8\n",
      "1          Albania          99.0                      79.0\n",
      "2          Algeria          99.0                      77.5\n",
      "4           Angola          79.0                      61.3\n",
      "6        Argentina          99.0                      77.8\n",
      "..             ...           ...                       ...\n",
      "174     Uzbekistan          99.0                      74.8\n",
      "175      Venezuela          82.0                      71.0\n",
      "176        Vietnam          97.0                      74.4\n",
      "178         Zambia          99.0                      53.6\n",
      "179       Zimbabwe          90.0                      62.3\n",
      "\n",
      "[138 rows x 3 columns]\n"
     ]
    }
   ],
   "source": [
    "#remove the rows (countries) with missing data  \n",
    "mini_health_indicators_df_without_na = mini_health_indicators_df.dropna()\n",
    "print(mini_health_indicators_df_without_na)"
   ]
  },
  {
   "cell_type": "code",
   "execution_count": 9,
   "metadata": {},
   "outputs": [
    {
     "data": {
      "image/png": "[encoded data removed]",
      "text/plain": [
       "<Figure size 432x288 with 1 Axes>"
      ]
     },
     "metadata": {
      "needs_background": "light"
     },
     "output_type": "display_data"
    }
   ],
   "source": [
    "# show distribution of the results\n",
    "plt.scatter(mini_health_indicators_df_without_na['bcg_coverage'], mini_health_indicators_df_without_na['life expectancy at birth'], color = 'blue')\n",
    "plt.title(\"BCG vaccine vs life expectancy\")\n",
    "plt.xlabel(\"BCG coverage\")\n",
    "plt.ylabel(\"Life expectancy at birth\")\n",
    "plt.show()"
   ]
  },
  {
   "cell_type": "code",
   "execution_count": 10,
   "metadata": {},
   "outputs": [
    {
     "data": {
      "text/html": [
       "<div>\n",
       "<style scoped>\n",
       "    .dataframe tbody tr th:only-of-type {\n",
       "        vertical-align: middle;\n",
       "    }\n",
       "\n",
       "    .dataframe tbody tr th {\n",
       "        vertical-align: top;\n",
       "    }\n",
       "\n",
       "    .dataframe thead th {\n",
       "        text-align: right;\n",
       "    }\n",
       "</style>\n",
       "<table border=\"1\" class=\"dataframe\">\n",
       "  <thead>\n",
       "    <tr style=\"text-align: right;\">\n",
       "      <th></th>\n",
       "      <th>Country_Region</th>\n",
       "      <th>bcg_coverage</th>\n",
       "    </tr>\n",
       "  </thead>\n",
       "  <tbody>\n",
       "    <tr>\n",
       "      <th>0</th>\n",
       "      <td>Afghanistan</td>\n",
       "      <td>86.0</td>\n",
       "    </tr>\n",
       "    <tr>\n",
       "      <th>33</th>\n",
       "      <td>Central African Republic</td>\n",
       "      <td>74.0</td>\n",
       "    </tr>\n",
       "    <tr>\n",
       "      <th>34</th>\n",
       "      <td>Chad</td>\n",
       "      <td>70.0</td>\n",
       "    </tr>\n",
       "    <tr>\n",
       "      <th>116</th>\n",
       "      <td>Mozambique</td>\n",
       "      <td>95.0</td>\n",
       "    </tr>\n",
       "    <tr>\n",
       "      <th>122</th>\n",
       "      <td>Niger</td>\n",
       "      <td>77.0</td>\n",
       "    </tr>\n",
       "    <tr>\n",
       "      <th>147</th>\n",
       "      <td>Sierra Leone</td>\n",
       "      <td>90.0</td>\n",
       "    </tr>\n",
       "    <tr>\n",
       "      <th>151</th>\n",
       "      <td>Somalia</td>\n",
       "      <td>39.0</td>\n",
       "    </tr>\n",
       "    <tr>\n",
       "      <th>178</th>\n",
       "      <td>Zambia</td>\n",
       "      <td>99.0</td>\n",
       "    </tr>\n",
       "  </tbody>\n",
       "</table>\n",
       "</div>"
      ],
      "text/plain": [
       "               Country_Region  bcg_coverage\n",
       "0                 Afghanistan          86.0\n",
       "33   Central African Republic          74.0\n",
       "34                       Chad          70.0\n",
       "116                Mozambique          95.0\n",
       "122                     Niger          77.0\n",
       "147              Sierra Leone          90.0\n",
       "151                   Somalia          39.0\n",
       "178                    Zambia          99.0"
      ]
     },
     "execution_count": 10,
     "metadata": {},
     "output_type": "execute_result"
    }
   ],
   "source": [
    "# show that even countries with high bcg coverage have lower life expectancy\n",
    "mini_health_indicators_df_without_na.loc[(mini_health_indicators_df_without_na['life expectancy at birth'] <= 60), ['Country_Region', 'bcg_coverage']]"
   ]
  },
  {
   "cell_type": "code",
   "execution_count": 11,
   "metadata": {},
   "outputs": [
    {
     "data": {
      "text/html": [
       "<div>\n",
       "<style scoped>\n",
       "    .dataframe tbody tr th:only-of-type {\n",
       "        vertical-align: middle;\n",
       "    }\n",
       "\n",
       "    .dataframe tbody tr th {\n",
       "        vertical-align: top;\n",
       "    }\n",
       "\n",
       "    .dataframe thead th {\n",
       "        text-align: right;\n",
       "    }\n",
       "</style>\n",
       "<table border=\"1\" class=\"dataframe\">\n",
       "  <thead>\n",
       "    <tr style=\"text-align: right;\">\n",
       "      <th></th>\n",
       "      <th>Country_Region</th>\n",
       "      <th>life expectancy at birth</th>\n",
       "    </tr>\n",
       "  </thead>\n",
       "  <tbody>\n",
       "    <tr>\n",
       "      <th>134</th>\n",
       "      <td>Portugal</td>\n",
       "      <td>81.1</td>\n",
       "    </tr>\n",
       "    <tr>\n",
       "      <th>151</th>\n",
       "      <td>Somalia</td>\n",
       "      <td>54.0</td>\n",
       "    </tr>\n",
       "    <tr>\n",
       "      <th>157</th>\n",
       "      <td>Sweden</td>\n",
       "      <td>82.4</td>\n",
       "    </tr>\n",
       "    <tr>\n",
       "      <th>170</th>\n",
       "      <td>Ukraine</td>\n",
       "      <td>72.9</td>\n",
       "    </tr>\n",
       "  </tbody>\n",
       "</table>\n",
       "</div>"
      ],
      "text/plain": [
       "    Country_Region  life expectancy at birth\n",
       "134       Portugal                      81.1\n",
       "151        Somalia                      54.0\n",
       "157         Sweden                      82.4\n",
       "170        Ukraine                      72.9"
      ]
     },
     "execution_count": 11,
     "metadata": {},
     "output_type": "execute_result"
    }
   ],
   "source": [
    "# show that even countries with lower bcg coverage have higher life expectancy\n",
    "mini_health_indicators_df_without_na.loc[(mini_health_indicators_df_without_na['bcg_coverage'] <= 40), ['Country_Region', 'life expectancy at birth']]"
   ]
  },
  {
   "cell_type": "code",
   "execution_count": 12,
   "metadata": {},
   "outputs": [
    {
     "data": {
      "text/plain": [
       "Index(['continent', 'country_region', 'total_cases', 'total_deaths',\n",
       "       'total_recovered', 'active_cases', 'critical', 'total cases/\\n1M pop',\n",
       "       'deaths/\\n1M pop', 'total_tests', 'tests/\\n1M pop', 'population'],\n",
       "      dtype='object')"
      ]
     },
     "execution_count": 12,
     "metadata": {},
     "output_type": "execute_result"
    }
   ],
   "source": [
    "worldmeters_coronavirus_df.columns\n"
   ]
  },
  {
   "cell_type": "code",
   "execution_count": 13,
   "metadata": {},
   "outputs": [
    {
     "data": {
      "text/html": [
       "<div>\n",
       "<style scoped>\n",
       "    .dataframe tbody tr th:only-of-type {\n",
       "        vertical-align: middle;\n",
       "    }\n",
       "\n",
       "    .dataframe tbody tr th {\n",
       "        vertical-align: top;\n",
       "    }\n",
       "\n",
       "    .dataframe thead th {\n",
       "        text-align: right;\n",
       "    }\n",
       "</style>\n",
       "<table border=\"1\" class=\"dataframe\">\n",
       "  <thead>\n",
       "    <tr style=\"text-align: right;\">\n",
       "      <th></th>\n",
       "      <th>continent</th>\n",
       "      <th>country_region</th>\n",
       "      <th>total_cases</th>\n",
       "      <th>total_deaths</th>\n",
       "      <th>total_recovered</th>\n",
       "      <th>active_cases</th>\n",
       "      <th>critical</th>\n",
       "      <th>total cases/\\n1M pop</th>\n",
       "      <th>deaths/\\n1M pop</th>\n",
       "      <th>total_tests</th>\n",
       "      <th>tests/\\n1M pop</th>\n",
       "      <th>population</th>\n",
       "    </tr>\n",
       "  </thead>\n",
       "  <tbody>\n",
       "    <tr>\n",
       "      <th>0</th>\n",
       "      <td>Europe</td>\n",
       "      <td>Russia</td>\n",
       "      <td>405,843</td>\n",
       "      <td>4,693</td>\n",
       "      <td>171,883</td>\n",
       "      <td>229,267</td>\n",
       "      <td>2,300</td>\n",
       "      <td>2,781</td>\n",
       "      <td>32</td>\n",
       "      <td>10,643,124</td>\n",
       "      <td>72,933</td>\n",
       "      <td>145,929,507</td>\n",
       "    </tr>\n",
       "    <tr>\n",
       "      <th>1</th>\n",
       "      <td>Europe</td>\n",
       "      <td>Spain</td>\n",
       "      <td>286,509</td>\n",
       "      <td>27,127</td>\n",
       "      <td>196,958</td>\n",
       "      <td>62,424</td>\n",
       "      <td>617</td>\n",
       "      <td>6,128</td>\n",
       "      <td>580</td>\n",
       "      <td>4,063,843</td>\n",
       "      <td>86,921</td>\n",
       "      <td>46,753,345</td>\n",
       "    </tr>\n",
       "    <tr>\n",
       "      <th>2</th>\n",
       "      <td>Europe</td>\n",
       "      <td>UK</td>\n",
       "      <td>274,762</td>\n",
       "      <td>38,489</td>\n",
       "      <td>NaN</td>\n",
       "      <td>NaN</td>\n",
       "      <td>1,559</td>\n",
       "      <td>4,049</td>\n",
       "      <td>567</td>\n",
       "      <td>4,285,738</td>\n",
       "      <td>63,158</td>\n",
       "      <td>67,856,881</td>\n",
       "    </tr>\n",
       "    <tr>\n",
       "      <th>3</th>\n",
       "      <td>Europe</td>\n",
       "      <td>Italy</td>\n",
       "      <td>232,997</td>\n",
       "      <td>33,415</td>\n",
       "      <td>157,507</td>\n",
       "      <td>42,075</td>\n",
       "      <td>435</td>\n",
       "      <td>3,853</td>\n",
       "      <td>553</td>\n",
       "      <td>3,878,739</td>\n",
       "      <td>64,144</td>\n",
       "      <td>60,468,778</td>\n",
       "    </tr>\n",
       "    <tr>\n",
       "      <th>4</th>\n",
       "      <td>Europe</td>\n",
       "      <td>France</td>\n",
       "      <td>188,882</td>\n",
       "      <td>28,802</td>\n",
       "      <td>68,355</td>\n",
       "      <td>91,725</td>\n",
       "      <td>1,319</td>\n",
       "      <td>2,894</td>\n",
       "      <td>441</td>\n",
       "      <td>1,384,633</td>\n",
       "      <td>21,217</td>\n",
       "      <td>65,261,942</td>\n",
       "    </tr>\n",
       "  </tbody>\n",
       "</table>\n",
       "</div>"
      ],
      "text/plain": [
       "  continent country_region total_cases total_deaths total_recovered  \\\n",
       "0    Europe         Russia     405,843        4,693         171,883   \n",
       "1    Europe          Spain     286,509       27,127         196,958   \n",
       "2    Europe             UK     274,762       38,489             NaN   \n",
       "3    Europe          Italy     232,997       33,415         157,507   \n",
       "4    Europe         France     188,882       28,802          68,355   \n",
       "\n",
       "  active_cases critical total cases/\\n1M pop deaths/\\n1M pop total_tests  \\\n",
       "0      229,267    2,300                2,781              32  10,643,124   \n",
       "1       62,424      617                6,128             580   4,063,843   \n",
       "2          NaN    1,559                4,049             567   4,285,738   \n",
       "3       42,075      435                3,853             553   3,878,739   \n",
       "4       91,725    1,319                2,894             441   1,384,633   \n",
       "\n",
       "  tests/\\n1M pop   population  \n",
       "0         72,933  145,929,507  \n",
       "1         86,921   46,753,345  \n",
       "2         63,158   67,856,881  \n",
       "3         64,144   60,468,778  \n",
       "4         21,217   65,261,942  "
      ]
     },
     "execution_count": 13,
     "metadata": {},
     "output_type": "execute_result"
    }
   ],
   "source": [
    "worldmeters_coronavirus_df.head()"
   ]
  },
  {
   "cell_type": "code",
   "execution_count": 14,
   "metadata": {},
   "outputs": [
    {
     "data": {
      "text/plain": [
       "array(['Europe', 'North America', 'Asia', 'South America', 'Africa',\n",
       "       'Oceania'], dtype=object)"
      ]
     },
     "execution_count": 14,
     "metadata": {},
     "output_type": "execute_result"
    }
   ],
   "source": [
    "# question: What is the most Covid-19 affected continent in terms of infected cases and deaths?\n",
    "worldmeters_coronavirus_df.continent.unique()"
   ]
  },
  {
   "cell_type": "code",
   "execution_count": 15,
   "metadata": {},
   "outputs": [
    {
     "data": {
      "text/plain": [
       "Africa           57\n",
       "Asia             49\n",
       "Europe           48\n",
       "North America    39\n",
       "South America    14\n",
       "Oceania           6\n",
       "Name: continent, dtype: int64"
      ]
     },
     "execution_count": 15,
     "metadata": {},
     "output_type": "execute_result"
    }
   ],
   "source": [
    "worldmeters_coronavirus_df.continent.value_counts()"
   ]
  },
  {
   "cell_type": "code",
   "execution_count": 16,
   "metadata": {},
   "outputs": [],
   "source": [
    "# create dataframe with total infected cases and deaths per continent: Europe\n",
    "europe_df = worldmeters_coronavirus_df.loc[worldmeters_coronavirus_df['continent'] == 'Europe', ['total_cases','total_deaths']]\n",
    "# europe_df.head(10)\n",
    "# europe_df.count()\n",
    "# europe_df.info()\n",
    "europe_df_int = europe_df.apply(lambda x: x.str.replace(',',''))\n",
    "europe_df_int_na = europe_df_int.dropna()\n",
    "# europe_df['total_cases'] = pd.to_numeric(europe_df['total_cases'])\n",
    "total_cases_europe = europe_df_int_na.total_cases.astype(int).sum()\n",
    "total_deaths_europe = europe_df_int_na.total_deaths.astype(int).sum()"
   ]
  },
  {
   "cell_type": "code",
   "execution_count": 17,
   "metadata": {},
   "outputs": [],
   "source": [
    "# create dataframe with total infected cases and deaths per continent: North America\n",
    "north_america_df = worldmeters_coronavirus_df.loc[worldmeters_coronavirus_df['continent'] == 'North America', ['total_cases','total_deaths']]\n",
    "# north_america_df.head(10)\n",
    "# north_america_df.count()\n",
    "north_america_df_int = north_america_df.apply(lambda x: x.str.replace(',',''))\n",
    "north_america_df_int_na = north_america_df_int.dropna()\n",
    "total_cases_NA = north_america_df_int_na.total_cases.astype(int).sum()\n",
    "total_deaths_NA = north_america_df_int_na.total_deaths.astype(int).sum()"
   ]
  },
  {
   "cell_type": "code",
   "execution_count": 18,
   "metadata": {},
   "outputs": [],
   "source": [
    "# create dataframe with total infected cases and deaths per continent: Asia\n",
    "asia_df = worldmeters_coronavirus_df.loc[worldmeters_coronavirus_df['continent'] == 'Asia', ['total_cases','total_deaths']]\n",
    "# asia_df.head(10)\n",
    "# asia_df.count()\n",
    "asia_df_int = asia_df.apply(lambda x: x.str.replace(',',''))\n",
    "asia_df_int_na = asia_df_int.dropna()\n",
    "total_cases_asia = asia_df_int_na.total_cases.astype(int).sum()\n",
    "total_deaths_asia = asia_df_int_na.total_deaths.astype(int).sum()"
   ]
  },
  {
   "cell_type": "code",
   "execution_count": 19,
   "metadata": {},
   "outputs": [],
   "source": [
    "# create dataframe with total infected cases and deaths per continent: South America\n",
    "south_america_df = worldmeters_coronavirus_df.loc[worldmeters_coronavirus_df['continent'] == 'South America', ['total_cases','total_deaths']]\n",
    "# south_america_df.head(10)\n",
    "# south_america_df.count()\n",
    "south_america_df_int = south_america_df.apply(lambda x: x.str.replace(',',''))\n",
    "south_america_df_int_na = south_america_df_int.dropna()\n",
    "total_cases_SA = south_america_df_int_na.total_cases.astype(int).sum()\n",
    "total_deaths_SA = south_america_df_int_na.total_deaths.astype(int).sum()"
   ]
  },
  {
   "cell_type": "code",
   "execution_count": 20,
   "metadata": {},
   "outputs": [],
   "source": [
    "# create dataframe with total infected cases and deaths per continent: Africa\n",
    "afrika_df = worldmeters_coronavirus_df.loc[worldmeters_coronavirus_df['continent'] == 'Africa', ['total_cases','total_deaths']]\n",
    "# afrika_df.head(10)\n",
    "# afrika_df.count()\n",
    "afrika_df_int = afrika_df.apply(lambda x: x.str.replace(',',''))\n",
    "afrika_df_int_na = afrika_df_int.dropna()\n",
    "total_cases_afrika = afrika_df_int_na.total_cases.astype(int).sum()\n",
    "total_deaths_afrika = afrika_df_int_na.total_deaths.astype(int).sum()"
   ]
  },
  {
   "cell_type": "code",
   "execution_count": 21,
   "metadata": {},
   "outputs": [],
   "source": [
    "# create dataframe with total infected cases and deaths per continent: Oceania\n",
    "oceania_df = worldmeters_coronavirus_df.loc[worldmeters_coronavirus_df['continent'] == 'Oceania', ['total_cases','total_deaths']]\n",
    "# oceania_df.head(10)\n",
    "# oceania_df.count()\n",
    "oceania_df_int = oceania_df.apply(lambda x: x.str.replace(',',''))\n",
    "oceania_df_int_na = oceania_df_int.dropna()\n",
    "total_cases_oceania = oceania_df_int_na.total_cases.astype(int).sum()\n",
    "total_deaths_oceania = oceania_df_int_na.total_deaths.astype(int).sum()"
   ]
  },
  {
   "cell_type": "code",
   "execution_count": 22,
   "metadata": {},
   "outputs": [
    {
     "data": {
      "image/png": "[encoded data removed]",
      "text/plain": [
       "<Figure size 432x288 with 1 Axes>"
      ]
     },
     "metadata": {},
     "output_type": "display_data"
    }
   ],
   "source": [
    "# visualizing question: What is the most Covid-19 affected continent in terms of infected cases and deaths?\n",
    "labels = 'Europe', 'North America', 'Asia', 'South America', 'Africa', 'Oceania'\n",
    "sizes = [total_cases_europe, total_cases_NA, total_cases_asia, total_cases_SA, total_cases_afrika, total_cases_oceania]\n",
    "explode = (0, 0.1, 0, 0, 0, 0)\n",
    "fig, ax = plt.subplots ()\n",
    "ax.pie(sizes, explode=explode, labels=labels, autopct='%1.1f%%',\n",
    "        shadow=True, startangle=90)\n",
    "ax.axis('equal')\n",
    "plt.show()"
   ]
  },
  {
   "cell_type": "code",
   "execution_count": 23,
   "metadata": {},
   "outputs": [
    {
     "data": {
      "image/png": "[encoded data removed]",
      "text/plain": [
       "<Figure size 432x288 with 1 Axes>"
      ]
     },
     "metadata": {},
     "output_type": "display_data"
    }
   ],
   "source": [
    "labels = 'Europe', 'North America', 'Asia', 'South America', 'Africa', 'Oceania'\n",
    "sizes = [total_deaths_europe, total_deaths_NA, total_deaths_asia, total_deaths_SA, total_deaths_afrika, total_deaths_oceania]\n",
    "explode = (0.1, 0, 0, 0, 0, 0)\n",
    "fig, ax = plt.subplots ()\n",
    "ax.pie(sizes, explode=explode, labels=labels, autopct='%1.1f%%',\n",
    "        shadow=True, startangle=90)\n",
    "ax.axis('equal')\n",
    "plt.show()"
   ]
  },
  {
   "cell_type": "code",
   "execution_count": 24,
   "metadata": {},
   "outputs": [],
   "source": [
    "# change name of the column of the country , to perform the merge with another dataset\n",
    "worldmeters_coronavirus_df = worldmeters_coronavirus_df.rename(columns={\"country_region\": \"Country_Region\"})"
   ]
  },
  {
   "cell_type": "code",
   "execution_count": 25,
   "metadata": {},
   "outputs": [
    {
     "data": {
      "text/plain": [
       "Denmark            1\n",
       "Eritrea            1\n",
       "Tunisia            1\n",
       "Lesotho            1\n",
       "North Macedonia    1\n",
       "                  ..\n",
       "Thailand           1\n",
       "Serbia             1\n",
       "Mozambique         1\n",
       "Iran               1\n",
       "Belarus            1\n",
       "Name: Country_Region, Length: 213, dtype: int64"
      ]
     },
     "execution_count": 25,
     "metadata": {},
     "output_type": "execute_result"
    }
   ],
   "source": [
    "worldmeters_coronavirus_df.Country_Region.value_counts()"
   ]
  },
  {
   "cell_type": "code",
   "execution_count": 26,
   "metadata": {},
   "outputs": [],
   "source": [
    "# merge two datasets to answer question: Do countries where BCG vaccine was widely implemented have fewer infection rates per million?\n",
    "merged_df = health_indicators_df.merge(worldmeters_coronavirus_df, on = ['Country_Region']) "
   ]
  },
  {
   "cell_type": "code",
   "execution_count": 27,
   "metadata": {},
   "outputs": [
    {
     "data": {
      "text/html": [
       "<div>\n",
       "<style scoped>\n",
       "    .dataframe tbody tr th:only-of-type {\n",
       "        vertical-align: middle;\n",
       "    }\n",
       "\n",
       "    .dataframe tbody tr th {\n",
       "        vertical-align: top;\n",
       "    }\n",
       "\n",
       "    .dataframe thead th {\n",
       "        text-align: right;\n",
       "    }\n",
       "</style>\n",
       "<table border=\"1\" class=\"dataframe\">\n",
       "  <thead>\n",
       "    <tr style=\"text-align: right;\">\n",
       "      <th></th>\n",
       "      <th>Country_Region</th>\n",
       "      <th>first_1ConfirmedCases</th>\n",
       "      <th>first_1Fatalities</th>\n",
       "      <th>first_10ConfirmedCases</th>\n",
       "      <th>first_50ConfirmedCases</th>\n",
       "      <th>first_100ConfirmedCases</th>\n",
       "      <th>cases_growth</th>\n",
       "      <th>death_growth</th>\n",
       "      <th>Cardiovascular diseases (%)</th>\n",
       "      <th>Cancers (%)</th>\n",
       "      <th>...</th>\n",
       "      <th>total_cases</th>\n",
       "      <th>total_deaths</th>\n",
       "      <th>total_recovered</th>\n",
       "      <th>active_cases</th>\n",
       "      <th>critical</th>\n",
       "      <th>total cases/\\n1M pop</th>\n",
       "      <th>deaths/\\n1M pop</th>\n",
       "      <th>total_tests</th>\n",
       "      <th>tests/\\n1M pop</th>\n",
       "      <th>population_y</th>\n",
       "    </tr>\n",
       "  </thead>\n",
       "  <tbody>\n",
       "    <tr>\n",
       "      <th>0</th>\n",
       "      <td>Afghanistan</td>\n",
       "      <td>2020-02-24</td>\n",
       "      <td>2020-03-22</td>\n",
       "      <td>2020-03-14</td>\n",
       "      <td>2020-03-24</td>\n",
       "      <td>2020-03-27</td>\n",
       "      <td>0.174179</td>\n",
       "      <td>0.083333</td>\n",
       "      <td>8.953006</td>\n",
       "      <td>3.372082</td>\n",
       "      <td>...</td>\n",
       "      <td>15,205</td>\n",
       "      <td>257</td>\n",
       "      <td>1,328</td>\n",
       "      <td>13,620</td>\n",
       "      <td>19</td>\n",
       "      <td>391</td>\n",
       "      <td>7</td>\n",
       "      <td>38,460</td>\n",
       "      <td>990</td>\n",
       "      <td>38,848,565</td>\n",
       "    </tr>\n",
       "    <tr>\n",
       "      <th>1</th>\n",
       "      <td>Albania</td>\n",
       "      <td>2020-03-09</td>\n",
       "      <td>2020-03-11</td>\n",
       "      <td>2020-03-10</td>\n",
       "      <td>2020-03-16</td>\n",
       "      <td>2020-03-23</td>\n",
       "      <td>0.068699</td>\n",
       "      <td>0.130051</td>\n",
       "      <td>27.016784</td>\n",
       "      <td>13.225390</td>\n",
       "      <td>...</td>\n",
       "      <td>1,137</td>\n",
       "      <td>33</td>\n",
       "      <td>872</td>\n",
       "      <td>232</td>\n",
       "      <td>4</td>\n",
       "      <td>395</td>\n",
       "      <td>11</td>\n",
       "      <td>14,723</td>\n",
       "      <td>5,116</td>\n",
       "      <td>2,878,043</td>\n",
       "    </tr>\n",
       "    <tr>\n",
       "      <th>2</th>\n",
       "      <td>Algeria</td>\n",
       "      <td>2020-02-25</td>\n",
       "      <td>2020-03-12</td>\n",
       "      <td>2020-03-04</td>\n",
       "      <td>2020-03-16</td>\n",
       "      <td>2020-03-21</td>\n",
       "      <td>0.158588</td>\n",
       "      <td>0.228578</td>\n",
       "      <td>17.005476</td>\n",
       "      <td>6.481729</td>\n",
       "      <td>...</td>\n",
       "      <td>9,394</td>\n",
       "      <td>653</td>\n",
       "      <td>5,748</td>\n",
       "      <td>2,993</td>\n",
       "      <td>23</td>\n",
       "      <td>215</td>\n",
       "      <td>15</td>\n",
       "      <td>NaN</td>\n",
       "      <td>NaN</td>\n",
       "      <td>43,780,936</td>\n",
       "    </tr>\n",
       "    <tr>\n",
       "      <th>3</th>\n",
       "      <td>Andorra</td>\n",
       "      <td>2020-03-02</td>\n",
       "      <td>2020-03-22</td>\n",
       "      <td>2020-03-17</td>\n",
       "      <td>2020-03-19</td>\n",
       "      <td>2020-03-22</td>\n",
       "      <td>0.082774</td>\n",
       "      <td>0.345238</td>\n",
       "      <td>13.784688</td>\n",
       "      <td>17.879279</td>\n",
       "      <td>...</td>\n",
       "      <td>764</td>\n",
       "      <td>51</td>\n",
       "      <td>694</td>\n",
       "      <td>19</td>\n",
       "      <td>4</td>\n",
       "      <td>9,889</td>\n",
       "      <td>660</td>\n",
       "      <td>3,750</td>\n",
       "      <td>48,541</td>\n",
       "      <td>77,255</td>\n",
       "    </tr>\n",
       "    <tr>\n",
       "      <th>4</th>\n",
       "      <td>Angola</td>\n",
       "      <td>2020-03-20</td>\n",
       "      <td>2020-03-29</td>\n",
       "      <td>NaN</td>\n",
       "      <td>NaN</td>\n",
       "      <td>NaN</td>\n",
       "      <td>0.132143</td>\n",
       "      <td>0.000000</td>\n",
       "      <td>4.480300</td>\n",
       "      <td>3.011632</td>\n",
       "      <td>...</td>\n",
       "      <td>86</td>\n",
       "      <td>4</td>\n",
       "      <td>18</td>\n",
       "      <td>64</td>\n",
       "      <td>1</td>\n",
       "      <td>3</td>\n",
       "      <td>0.1</td>\n",
       "      <td>10,000</td>\n",
       "      <td>305</td>\n",
       "      <td>32,768,267</td>\n",
       "    </tr>\n",
       "  </tbody>\n",
       "</table>\n",
       "<p>5 rows × 81 columns</p>\n",
       "</div>"
      ],
      "text/plain": [
       "  Country_Region first_1ConfirmedCases first_1Fatalities  \\\n",
       "0    Afghanistan            2020-02-24        2020-03-22   \n",
       "1        Albania            2020-03-09        2020-03-11   \n",
       "2        Algeria            2020-02-25        2020-03-12   \n",
       "3        Andorra            2020-03-02        2020-03-22   \n",
       "4         Angola            2020-03-20        2020-03-29   \n",
       "\n",
       "  first_10ConfirmedCases first_50ConfirmedCases first_100ConfirmedCases  \\\n",
       "0             2020-03-14             2020-03-24              2020-03-27   \n",
       "1             2020-03-10             2020-03-16              2020-03-23   \n",
       "2             2020-03-04             2020-03-16              2020-03-21   \n",
       "3             2020-03-17             2020-03-19              2020-03-22   \n",
       "4                    NaN                    NaN                     NaN   \n",
       "\n",
       "   cases_growth  death_growth  Cardiovascular diseases (%)  Cancers (%)  ...  \\\n",
       "0      0.174179      0.083333                     8.953006     3.372082  ...   \n",
       "1      0.068699      0.130051                    27.016784    13.225390  ...   \n",
       "2      0.158588      0.228578                    17.005476     6.481729  ...   \n",
       "3      0.082774      0.345238                    13.784688    17.879279  ...   \n",
       "4      0.132143      0.000000                     4.480300     3.011632  ...   \n",
       "\n",
       "   total_cases  total_deaths  total_recovered  active_cases  critical  \\\n",
       "0       15,205           257            1,328        13,620        19   \n",
       "1        1,137            33              872           232         4   \n",
       "2        9,394           653            5,748         2,993        23   \n",
       "3          764            51              694            19         4   \n",
       "4           86             4               18            64         1   \n",
       "\n",
       "   total cases/\\n1M pop  deaths/\\n1M pop  total_tests  tests/\\n1M pop  \\\n",
       "0                   391                7       38,460             990   \n",
       "1                   395               11       14,723           5,116   \n",
       "2                   215               15          NaN             NaN   \n",
       "3                 9,889              660        3,750          48,541   \n",
       "4                     3              0.1       10,000             305   \n",
       "\n",
       "   population_y  \n",
       "0    38,848,565  \n",
       "1     2,878,043  \n",
       "2    43,780,936  \n",
       "3        77,255  \n",
       "4    32,768,267  \n",
       "\n",
       "[5 rows x 81 columns]"
      ]
     },
     "execution_count": 27,
     "metadata": {},
     "output_type": "execute_result"
    }
   ],
   "source": [
    "merged_df.head()"
   ]
  },
  {
   "cell_type": "code",
   "execution_count": 28,
   "metadata": {},
   "outputs": [
    {
     "data": {
      "text/plain": [
       "Index(['Country_Region', 'first_1ConfirmedCases', 'first_1Fatalities',\n",
       "       'first_10ConfirmedCases', 'first_50ConfirmedCases',\n",
       "       'first_100ConfirmedCases', 'cases_growth', 'death_growth',\n",
       "       'Cardiovascular diseases (%)', 'Cancers (%)',\n",
       "       'Diabetes, blood, & endocrine diseases (%)', 'Respiratory diseases (%)',\n",
       "       'Liver disease (%)', 'Diarrhea & common infectious diseases (%)',\n",
       "       'Musculoskeletal disorders (%)', 'HIV/AIDS and tuberculosis (%)',\n",
       "       'Malaria & neglected tropical diseases (%)',\n",
       "       'Nutritional deficiencies (%)', 'pneumonia-death-rates',\n",
       "       'Share of deaths from smoking (%)', 'alcoholic_beverages',\n",
       "       'animal_fats', 'animal_products', 'aquatic_products,_other',\n",
       "       'cereals_-_excluding_beer', 'eggs', 'fish,_seafood',\n",
       "       'fruits_-_excluding_wine', 'meat', 'milk_-_excluding_butter',\n",
       "       'miscellaneous', 'offals', 'oilcrops', 'pulses', 'spices',\n",
       "       'starchy_roots', 'stimulants', 'sugar_&_sweeteners', 'treenuts',\n",
       "       'vegetable_oils', 'vegetables', 'vegetal_products',\n",
       "       'hospital_beds_per10k', 'hospital_density', 'nbr_surgeons',\n",
       "       'nbr_obstetricians', 'nbr_anaesthesiologists', 'medical_doctors_per10k',\n",
       "       'school_closure', 'bcg_coverage', 'bcg_year_delta', 'population_x',\n",
       "       'median age', 'population growth rate', 'birth rate', 'death rate',\n",
       "       'net migration rate', 'maternal mortality rate',\n",
       "       'infant mortality rate', 'life expectancy at birth',\n",
       "       'total fertility rate', 'obesity - adult prevalence rate',\n",
       "       'school_shutdown_1case', 'school_shutdown_10case',\n",
       "       'school_shutdown_50case', 'school_shutdown_1death', 'FF_DayOfYear',\n",
       "       'case1_DayOfYear', 'case10_DayOfYear', 'case50_DayOfYear', 'continent',\n",
       "       'total_cases', 'total_deaths', 'total_recovered', 'active_cases',\n",
       "       'critical', 'total cases/\\n1M pop', 'deaths/\\n1M pop', 'total_tests',\n",
       "       'tests/\\n1M pop', 'population_y'],\n",
       "      dtype='object')"
      ]
     },
     "execution_count": 28,
     "metadata": {},
     "output_type": "execute_result"
    }
   ],
   "source": [
    "merged_df.columns"
   ]
  },
  {
   "cell_type": "code",
   "execution_count": 29,
   "metadata": {},
   "outputs": [
    {
     "name": "stdout",
     "output_type": "stream",
     "text": [
      "<class 'pandas.core.frame.DataFrame'>\n",
      "Int64Index: 164 entries, 0 to 163\n",
      "Data columns (total 81 columns):\n",
      " #   Column                                     Non-Null Count  Dtype  \n",
      "---  ------                                     --------------  -----  \n",
      " 0   Country_Region                             164 non-null    object \n",
      " 1   first_1ConfirmedCases                      164 non-null    object \n",
      " 2   first_1Fatalities                          120 non-null    object \n",
      " 3   first_10ConfirmedCases                     141 non-null    object \n",
      " 4   first_50ConfirmedCases                     111 non-null    object \n",
      " 5   first_100ConfirmedCases                    102 non-null    object \n",
      " 6   cases_growth                               164 non-null    float64\n",
      " 7   death_growth                               118 non-null    float64\n",
      " 8   Cardiovascular diseases (%)                157 non-null    float64\n",
      " 9   Cancers (%)                                157 non-null    float64\n",
      " 10  Diabetes, blood, & endocrine diseases (%)  157 non-null    float64\n",
      " 11  Respiratory diseases (%)                   157 non-null    float64\n",
      " 12  Liver disease (%)                          157 non-null    float64\n",
      " 13  Diarrhea & common infectious diseases (%)  157 non-null    float64\n",
      " 14  Musculoskeletal disorders (%)              157 non-null    float64\n",
      " 15  HIV/AIDS and tuberculosis (%)              157 non-null    float64\n",
      " 16  Malaria & neglected tropical diseases (%)  157 non-null    float64\n",
      " 17  Nutritional deficiencies (%)               157 non-null    float64\n",
      " 18  pneumonia-death-rates                      157 non-null    float64\n",
      " 19  Share of deaths from smoking (%)           157 non-null    float64\n",
      " 20  alcoholic_beverages                        143 non-null    float64\n",
      " 21  animal_fats                                143 non-null    float64\n",
      " 22  animal_products                            143 non-null    float64\n",
      " 23  aquatic_products,_other                    139 non-null    float64\n",
      " 24  cereals_-_excluding_beer                   143 non-null    float64\n",
      " 25  eggs                                       143 non-null    float64\n",
      " 26  fish,_seafood                              143 non-null    float64\n",
      " 27  fruits_-_excluding_wine                    143 non-null    float64\n",
      " 28  meat                                       143 non-null    float64\n",
      " 29  milk_-_excluding_butter                    143 non-null    float64\n",
      " 30  miscellaneous                              139 non-null    float64\n",
      " 31  offals                                     143 non-null    float64\n",
      " 32  oilcrops                                   143 non-null    float64\n",
      " 33  pulses                                     143 non-null    float64\n",
      " 34  spices                                     143 non-null    float64\n",
      " 35  starchy_roots                              143 non-null    float64\n",
      " 36  stimulants                                 143 non-null    float64\n",
      " 37  sugar_&_sweeteners                         143 non-null    float64\n",
      " 38  treenuts                                   143 non-null    float64\n",
      " 39  vegetable_oils                             143 non-null    float64\n",
      " 40  vegetables                                 143 non-null    float64\n",
      " 41  vegetal_products                           143 non-null    float64\n",
      " 42  hospital_beds_per10k                       154 non-null    float64\n",
      " 43  hospital_density                           109 non-null    float64\n",
      " 44  nbr_surgeons                               124 non-null    float64\n",
      " 45  nbr_obstetricians                          130 non-null    float64\n",
      " 46  nbr_anaesthesiologists                     127 non-null    float64\n",
      " 47  medical_doctors_per10k                     155 non-null    float64\n",
      " 48  school_closure                             152 non-null    object \n",
      " 49  bcg_coverage                               134 non-null    float64\n",
      " 50  bcg_year_delta                             134 non-null    float64\n",
      " 51  population_x                               156 non-null    float64\n",
      " 52  median age                                 156 non-null    float64\n",
      " 53  population growth rate                     156 non-null    float64\n",
      " 54  birth rate                                 156 non-null    float64\n",
      " 55  death rate                                 156 non-null    float64\n",
      " 56  net migration rate                         156 non-null    float64\n",
      " 57  maternal mortality rate                    152 non-null    float64\n",
      " 58  infant mortality rate                      156 non-null    float64\n",
      " 59  life expectancy at birth                   156 non-null    float64\n",
      " 60  total fertility rate                       156 non-null    float64\n",
      " 61  obesity - adult prevalence rate            156 non-null    float64\n",
      " 62  school_shutdown_1case                      152 non-null    float64\n",
      " 63  school_shutdown_10case                     136 non-null    float64\n",
      " 64  school_shutdown_50case                     106 non-null    float64\n",
      " 65  school_shutdown_1death                     114 non-null    float64\n",
      " 66  FF_DayOfYear                               120 non-null    float64\n",
      " 67  case1_DayOfYear                            164 non-null    int64  \n",
      " 68  case10_DayOfYear                           141 non-null    float64\n",
      " 69  case50_DayOfYear                           111 non-null    float64\n",
      " 70  continent                                  164 non-null    object \n",
      " 71  total_cases                                164 non-null    object \n",
      " 72  total_deaths                               148 non-null    object \n",
      " 73  total_recovered                            163 non-null    object \n",
      " 74  active_cases                               163 non-null    object \n",
      " 75  critical                                   115 non-null    object \n",
      " 76  total cases/\n",
      "1M pop                        164 non-null    object \n",
      " 77  deaths/\n",
      "1M pop                             148 non-null    object \n",
      " 78  total_tests                                150 non-null    object \n",
      " 79  tests/\n",
      "1M pop                              150 non-null    object \n",
      " 80  population_y                               164 non-null    object \n",
      "dtypes: float64(62), int64(1), object(18)\n",
      "memory usage: 105.1+ KB\n"
     ]
    }
   ],
   "source": [
    "merged_df.info()"
   ]
  },
  {
   "cell_type": "code",
   "execution_count": 118,
   "metadata": {},
   "outputs": [
    {
     "name": "stdout",
     "output_type": "stream",
     "text": [
      "    Country_Region  bcg_coverage total cases/\\n1M pop\n",
      "0      Afghanistan          86.0                  391\n",
      "1          Albania          99.0                  395\n",
      "2          Algeria          99.0                  215\n",
      "3          Andorra           NaN                9,889\n",
      "4           Angola          79.0                    3\n",
      "..             ...           ...                  ...\n",
      "159     Uzbekistan          99.0                  108\n",
      "160      Venezuela          82.0                   53\n",
      "161        Vietnam          97.0                    3\n",
      "162         Zambia          99.0                   58\n",
      "163       Zimbabwe          90.0                   12\n",
      "\n",
      "[164 rows x 3 columns]\n"
     ]
    }
   ],
   "source": [
    "mini_merged_df = merged_df[['Country_Region', 'bcg_coverage', 'total cases/\\n1M pop']]\n",
    "print(mini_merged_df)"
   ]
  },
  {
   "cell_type": "code",
   "execution_count": 119,
   "metadata": {},
   "outputs": [
    {
     "name": "stdout",
     "output_type": "stream",
     "text": [
      "<class 'pandas.core.frame.DataFrame'>\n",
      "Int64Index: 164 entries, 0 to 163\n",
      "Data columns (total 3 columns):\n",
      " #   Column               Non-Null Count  Dtype  \n",
      "---  ------               --------------  -----  \n",
      " 0   Country_Region       164 non-null    object \n",
      " 1   bcg_coverage         134 non-null    float64\n",
      " 2   total cases/\n",
      "1M pop  164 non-null    object \n",
      "dtypes: float64(1), object(2)\n",
      "memory usage: 5.1+ KB\n"
     ]
    }
   ],
   "source": [
    "mini_merged_df.info()\n"
   ]
  },
  {
   "cell_type": "code",
   "execution_count": 120,
   "metadata": {},
   "outputs": [
    {
     "name": "stdout",
     "output_type": "stream",
     "text": [
      "    Country_Region  bcg_coverage total cases/\\n1M pop\n",
      "0      Afghanistan          86.0                  391\n",
      "1          Albania          99.0                  395\n",
      "2          Algeria          99.0                  215\n",
      "4           Angola          79.0                    3\n",
      "6        Argentina          99.0                  373\n",
      "..             ...           ...                  ...\n",
      "159     Uzbekistan          99.0                  108\n",
      "160      Venezuela          82.0                   53\n",
      "161        Vietnam          97.0                    3\n",
      "162         Zambia          99.0                   58\n",
      "163       Zimbabwe          90.0                   12\n",
      "\n",
      "[134 rows x 3 columns]\n"
     ]
    }
   ],
   "source": [
    "# drop NaN values\n",
    "mini_merged_df_na = mini_merged_df.dropna()\n",
    "print(mini_merged_df_na)\n",
    "\n",
    "# change NaN to zero value\n",
    "# mini_merged_df_na_to_zero = mini_merged_df.fillna(value=0)\n",
    "# print(mini_merged_df_na_to_zero)"
   ]
  },
  {
   "cell_type": "code",
   "execution_count": 121,
   "metadata": {},
   "outputs": [
    {
     "name": "stdout",
     "output_type": "stream",
     "text": [
      "<class 'pandas.core.frame.DataFrame'>\n",
      "Int64Index: 134 entries, 0 to 163\n",
      "Data columns (total 3 columns):\n",
      " #   Column               Non-Null Count  Dtype  \n",
      "---  ------               --------------  -----  \n",
      " 0   Country_Region       134 non-null    object \n",
      " 1   bcg_coverage         134 non-null    float64\n",
      " 2   total cases/\n",
      "1M pop  134 non-null    float64\n",
      "dtypes: float64(2), object(1)\n",
      "memory usage: 4.2+ KB\n"
     ]
    },
    {
     "name": "stderr",
     "output_type": "stream",
     "text": [
      "/Users/danielaullien/Library/Python/3.7/lib/python/site-packages/ipykernel_launcher.py:2: SettingWithCopyWarning: \n",
      "A value is trying to be set on a copy of a slice from a DataFrame.\n",
      "Try using .loc[row_indexer,col_indexer] = value instead\n",
      "\n",
      "See the caveats in the documentation: https://pandas.pydata.org/pandas-docs/stable/user_guide/indexing.html#returning-a-view-versus-a-copy\n",
      "  \n"
     ]
    }
   ],
   "source": [
    "# change dtype of only 1 column to int\n",
    "mini_merged_df_na[\"total cases/\\n1M pop\"] = mini_merged_df_na[\"total cases/\\n1M pop\"].apply(lambda x: float(x.replace(',','')))\n",
    "mini_merged_df_na.info()\n",
    "\n"
   ]
  },
  {
   "cell_type": "code",
   "execution_count": 122,
   "metadata": {},
   "outputs": [
    {
     "name": "stdout",
     "output_type": "stream",
     "text": [
      "       Country_Region  bcg_coverage  total cases/\\n1M pop\n",
      "119  Papua New Guinea          65.0                   0.9\n",
      "161           Vietnam          97.0                   3.0\n",
      "4              Angola          79.0                   3.0\n",
      "85               Laos          83.0                   3.0\n",
      "27            Burundi          93.0                   5.0\n",
      "..                ...           ...                   ...\n",
      "75            Ireland          77.0                5066.0\n",
      "33              Chile          93.0                5219.0\n",
      "137         Singapore          99.0                5967.0\n",
      "83             Kuwait          99.0                6341.0\n",
      "125             Qatar          97.0               19783.0\n",
      "\n",
      "[134 rows x 3 columns]\n"
     ]
    }
   ],
   "source": [
    "\n",
    "\n",
    "# mini_merged_df_na_int = mini_merged_df_na['total cases/\\n1M pop'].apply(mini_merged_df_na.to_numeric)\n",
    "mini_merged_df_na_sorted = mini_merged_df_na.sort_values(by=['total cases/\\n1M pop'])\n",
    "print(mini_merged_df_na_sorted)"
   ]
  },
  {
   "cell_type": "code",
   "execution_count": 123,
   "metadata": {},
   "outputs": [
    {
     "data": {
      "image/png": "[encoded data removed]",
      "text/plain": [
       "<Figure size 432x288 with 1 Axes>"
      ]
     },
     "metadata": {
      "needs_background": "light"
     },
     "output_type": "display_data"
    }
   ],
   "source": [
    "# show distribution of the results\n",
    "plt.scatter(mini_merged_df_na_sorted['bcg_coverage'], mini_merged_df_na_sorted['total cases/\\n1M pop'], color = 'green')\n",
    "\n",
    "# reduce the number of values presented in Y axis\n",
    "# ticks = list(mini_merged_df_na_to_zero_sorted['total cases/\\n1M pop'])\n",
    "# plt.yticks([ticks[i] for i in range(len(ticks)) if i % 50 == 0], rotation='horizontal')\n",
    "\n",
    "plt.title(\"BCG vaccine vs total cases\")\n",
    "plt.xlabel(\"BCG coverage\")\n",
    "plt.ylabel(\"Total cases per mln\")\n",
    "plt.show()"
   ]
  },
  {
   "cell_type": "code",
   "execution_count": null,
   "metadata": {},
   "outputs": [],
   "source": []
  },
  {
   "cell_type": "code",
   "execution_count": 16,
   "metadata": {},
   "outputs": [
    {
     "data": {
      "text/plain": [
       "Index(['Country', ' 2018', ' 2017', ' 2016', ' 2015', ' 2014', ' 2013',\n",
       "       ' 2012', ' 2011', ' 2010', ' 2009', ' 2008', ' 2007', ' 2006', ' 2005',\n",
       "       ' 2004', ' 2003', ' 2002', ' 2001', ' 2000', ' 1999', ' 1998', ' 1997',\n",
       "       ' 1996', ' 1995', ' 1994', ' 1993', ' 1992', ' 1991', ' 1990', ' 1989',\n",
       "       ' 1988', ' 1987', ' 1986', ' 1985', ' 1984', ' 1983', ' 1982', ' 1981',\n",
       "       ' 1980'],\n",
       "      dtype='object')"
      ]
     },
     "execution_count": 16,
     "metadata": {},
     "output_type": "execute_result"
    }
   ],
   "source": [
    "bcg_df.columns\n"
   ]
  },
  {
   "cell_type": "code",
   "execution_count": null,
   "metadata": {},
   "outputs": [],
   "source": []
  },
  {
   "cell_type": "code",
   "execution_count": 17,
   "metadata": {},
   "outputs": [
    {
     "data": {
      "text/html": [
       "<div>\n",
       "<style scoped>\n",
       "    .dataframe tbody tr th:only-of-type {\n",
       "        vertical-align: middle;\n",
       "    }\n",
       "\n",
       "    .dataframe tbody tr th {\n",
       "        vertical-align: top;\n",
       "    }\n",
       "\n",
       "    .dataframe thead th {\n",
       "        text-align: right;\n",
       "    }\n",
       "</style>\n",
       "<table border=\"1\" class=\"dataframe\">\n",
       "  <thead>\n",
       "    <tr style=\"text-align: right;\">\n",
       "      <th></th>\n",
       "      <th>Country</th>\n",
       "      <th>2018</th>\n",
       "      <th>2017</th>\n",
       "      <th>2016</th>\n",
       "      <th>2015</th>\n",
       "      <th>2014</th>\n",
       "      <th>2013</th>\n",
       "      <th>2012</th>\n",
       "      <th>2011</th>\n",
       "      <th>2010</th>\n",
       "      <th>...</th>\n",
       "      <th>1989</th>\n",
       "      <th>1988</th>\n",
       "      <th>1987</th>\n",
       "      <th>1986</th>\n",
       "      <th>1985</th>\n",
       "      <th>1984</th>\n",
       "      <th>1983</th>\n",
       "      <th>1982</th>\n",
       "      <th>1981</th>\n",
       "      <th>1980</th>\n",
       "    </tr>\n",
       "  </thead>\n",
       "  <tbody>\n",
       "    <tr>\n",
       "      <th>0</th>\n",
       "      <td>Afghanistan</td>\n",
       "      <td>78.0</td>\n",
       "      <td>78.0</td>\n",
       "      <td>78.0</td>\n",
       "      <td>76.0</td>\n",
       "      <td>74.0</td>\n",
       "      <td>72.0</td>\n",
       "      <td>78.0</td>\n",
       "      <td>71.0</td>\n",
       "      <td>68.0</td>\n",
       "      <td>...</td>\n",
       "      <td>38.0</td>\n",
       "      <td>40.0</td>\n",
       "      <td>27.0</td>\n",
       "      <td>18.0</td>\n",
       "      <td>17.0</td>\n",
       "      <td>11.0</td>\n",
       "      <td>10.0</td>\n",
       "      <td>10.0</td>\n",
       "      <td>NaN</td>\n",
       "      <td>NaN</td>\n",
       "    </tr>\n",
       "    <tr>\n",
       "      <th>1</th>\n",
       "      <td>Albania</td>\n",
       "      <td>99.0</td>\n",
       "      <td>99.0</td>\n",
       "      <td>99.0</td>\n",
       "      <td>99.0</td>\n",
       "      <td>99.0</td>\n",
       "      <td>99.0</td>\n",
       "      <td>96.0</td>\n",
       "      <td>97.0</td>\n",
       "      <td>99.0</td>\n",
       "      <td>...</td>\n",
       "      <td>94.0</td>\n",
       "      <td>92.0</td>\n",
       "      <td>92.0</td>\n",
       "      <td>92.0</td>\n",
       "      <td>92.0</td>\n",
       "      <td>90.0</td>\n",
       "      <td>90.0</td>\n",
       "      <td>92.0</td>\n",
       "      <td>93.0</td>\n",
       "      <td>93.0</td>\n",
       "    </tr>\n",
       "    <tr>\n",
       "      <th>2</th>\n",
       "      <td>Algeria</td>\n",
       "      <td>99.0</td>\n",
       "      <td>99.0</td>\n",
       "      <td>99.0</td>\n",
       "      <td>99.0</td>\n",
       "      <td>99.0</td>\n",
       "      <td>99.0</td>\n",
       "      <td>99.0</td>\n",
       "      <td>99.0</td>\n",
       "      <td>99.0</td>\n",
       "      <td>...</td>\n",
       "      <td>96.0</td>\n",
       "      <td>96.0</td>\n",
       "      <td>93.0</td>\n",
       "      <td>88.0</td>\n",
       "      <td>86.0</td>\n",
       "      <td>NaN</td>\n",
       "      <td>NaN</td>\n",
       "      <td>NaN</td>\n",
       "      <td>NaN</td>\n",
       "      <td>NaN</td>\n",
       "    </tr>\n",
       "    <tr>\n",
       "      <th>3</th>\n",
       "      <td>Angola</td>\n",
       "      <td>86.0</td>\n",
       "      <td>83.0</td>\n",
       "      <td>49.0</td>\n",
       "      <td>69.0</td>\n",
       "      <td>72.0</td>\n",
       "      <td>71.0</td>\n",
       "      <td>73.0</td>\n",
       "      <td>74.0</td>\n",
       "      <td>79.0</td>\n",
       "      <td>...</td>\n",
       "      <td>47.0</td>\n",
       "      <td>32.0</td>\n",
       "      <td>29.0</td>\n",
       "      <td>32.0</td>\n",
       "      <td>28.0</td>\n",
       "      <td>28.0</td>\n",
       "      <td>25.0</td>\n",
       "      <td>NaN</td>\n",
       "      <td>NaN</td>\n",
       "      <td>NaN</td>\n",
       "    </tr>\n",
       "    <tr>\n",
       "      <th>4</th>\n",
       "      <td>Argentina</td>\n",
       "      <td>93.0</td>\n",
       "      <td>95.0</td>\n",
       "      <td>92.0</td>\n",
       "      <td>96.0</td>\n",
       "      <td>99.0</td>\n",
       "      <td>99.0</td>\n",
       "      <td>99.0</td>\n",
       "      <td>99.0</td>\n",
       "      <td>99.0</td>\n",
       "      <td>...</td>\n",
       "      <td>92.0</td>\n",
       "      <td>91.0</td>\n",
       "      <td>94.0</td>\n",
       "      <td>99.0</td>\n",
       "      <td>90.0</td>\n",
       "      <td>78.0</td>\n",
       "      <td>70.0</td>\n",
       "      <td>77.0</td>\n",
       "      <td>70.0</td>\n",
       "      <td>62.0</td>\n",
       "    </tr>\n",
       "    <tr>\n",
       "      <th>5</th>\n",
       "      <td>Armenia</td>\n",
       "      <td>99.0</td>\n",
       "      <td>99.0</td>\n",
       "      <td>99.0</td>\n",
       "      <td>99.0</td>\n",
       "      <td>99.0</td>\n",
       "      <td>99.0</td>\n",
       "      <td>96.0</td>\n",
       "      <td>96.0</td>\n",
       "      <td>95.0</td>\n",
       "      <td>...</td>\n",
       "      <td>NaN</td>\n",
       "      <td>NaN</td>\n",
       "      <td>NaN</td>\n",
       "      <td>NaN</td>\n",
       "      <td>NaN</td>\n",
       "      <td>NaN</td>\n",
       "      <td>NaN</td>\n",
       "      <td>NaN</td>\n",
       "      <td>NaN</td>\n",
       "      <td>NaN</td>\n",
       "    </tr>\n",
       "    <tr>\n",
       "      <th>6</th>\n",
       "      <td>Austria</td>\n",
       "      <td>NaN</td>\n",
       "      <td>NaN</td>\n",
       "      <td>NaN</td>\n",
       "      <td>NaN</td>\n",
       "      <td>NaN</td>\n",
       "      <td>NaN</td>\n",
       "      <td>NaN</td>\n",
       "      <td>NaN</td>\n",
       "      <td>NaN</td>\n",
       "      <td>...</td>\n",
       "      <td>90.0</td>\n",
       "      <td>90.0</td>\n",
       "      <td>90.0</td>\n",
       "      <td>90.0</td>\n",
       "      <td>90.0</td>\n",
       "      <td>90.0</td>\n",
       "      <td>90.0</td>\n",
       "      <td>90.0</td>\n",
       "      <td>90.0</td>\n",
       "      <td>90.0</td>\n",
       "    </tr>\n",
       "    <tr>\n",
       "      <th>7</th>\n",
       "      <td>Azerbaijan</td>\n",
       "      <td>97.0</td>\n",
       "      <td>97.0</td>\n",
       "      <td>98.0</td>\n",
       "      <td>98.0</td>\n",
       "      <td>98.0</td>\n",
       "      <td>98.0</td>\n",
       "      <td>98.0</td>\n",
       "      <td>99.0</td>\n",
       "      <td>98.0</td>\n",
       "      <td>...</td>\n",
       "      <td>NaN</td>\n",
       "      <td>NaN</td>\n",
       "      <td>NaN</td>\n",
       "      <td>NaN</td>\n",
       "      <td>NaN</td>\n",
       "      <td>NaN</td>\n",
       "      <td>NaN</td>\n",
       "      <td>NaN</td>\n",
       "      <td>NaN</td>\n",
       "      <td>NaN</td>\n",
       "    </tr>\n",
       "    <tr>\n",
       "      <th>8</th>\n",
       "      <td>Bangladesh</td>\n",
       "      <td>99.0</td>\n",
       "      <td>99.0</td>\n",
       "      <td>99.0</td>\n",
       "      <td>99.0</td>\n",
       "      <td>99.0</td>\n",
       "      <td>99.0</td>\n",
       "      <td>98.0</td>\n",
       "      <td>99.0</td>\n",
       "      <td>98.0</td>\n",
       "      <td>...</td>\n",
       "      <td>56.0</td>\n",
       "      <td>26.0</td>\n",
       "      <td>15.0</td>\n",
       "      <td>4.0</td>\n",
       "      <td>2.0</td>\n",
       "      <td>2.0</td>\n",
       "      <td>2.0</td>\n",
       "      <td>1.0</td>\n",
       "      <td>1.0</td>\n",
       "      <td>NaN</td>\n",
       "    </tr>\n",
       "    <tr>\n",
       "      <th>9</th>\n",
       "      <td>Belarus</td>\n",
       "      <td>98.0</td>\n",
       "      <td>98.0</td>\n",
       "      <td>98.0</td>\n",
       "      <td>97.0</td>\n",
       "      <td>98.0</td>\n",
       "      <td>99.0</td>\n",
       "      <td>98.0</td>\n",
       "      <td>99.0</td>\n",
       "      <td>99.0</td>\n",
       "      <td>...</td>\n",
       "      <td>NaN</td>\n",
       "      <td>NaN</td>\n",
       "      <td>NaN</td>\n",
       "      <td>NaN</td>\n",
       "      <td>NaN</td>\n",
       "      <td>NaN</td>\n",
       "      <td>NaN</td>\n",
       "      <td>NaN</td>\n",
       "      <td>NaN</td>\n",
       "      <td>NaN</td>\n",
       "    </tr>\n",
       "  </tbody>\n",
       "</table>\n",
       "<p>10 rows × 40 columns</p>\n",
       "</div>"
      ],
      "text/plain": [
       "       Country   2018   2017   2016   2015   2014   2013   2012   2011   2010  \\\n",
       "0  Afghanistan   78.0   78.0   78.0   76.0   74.0   72.0   78.0   71.0   68.0   \n",
       "1      Albania   99.0   99.0   99.0   99.0   99.0   99.0   96.0   97.0   99.0   \n",
       "2      Algeria   99.0   99.0   99.0   99.0   99.0   99.0   99.0   99.0   99.0   \n",
       "3       Angola   86.0   83.0   49.0   69.0   72.0   71.0   73.0   74.0   79.0   \n",
       "4    Argentina   93.0   95.0   92.0   96.0   99.0   99.0   99.0   99.0   99.0   \n",
       "5      Armenia   99.0   99.0   99.0   99.0   99.0   99.0   96.0   96.0   95.0   \n",
       "6      Austria    NaN    NaN    NaN    NaN    NaN    NaN    NaN    NaN    NaN   \n",
       "7   Azerbaijan   97.0   97.0   98.0   98.0   98.0   98.0   98.0   99.0   98.0   \n",
       "8   Bangladesh   99.0   99.0   99.0   99.0   99.0   99.0   98.0   99.0   98.0   \n",
       "9      Belarus   98.0   98.0   98.0   97.0   98.0   99.0   98.0   99.0   99.0   \n",
       "\n",
       "   ...   1989   1988   1987   1986   1985   1984   1983   1982   1981   1980  \n",
       "0  ...   38.0   40.0   27.0   18.0   17.0   11.0   10.0   10.0    NaN    NaN  \n",
       "1  ...   94.0   92.0   92.0   92.0   92.0   90.0   90.0   92.0   93.0   93.0  \n",
       "2  ...   96.0   96.0   93.0   88.0   86.0    NaN    NaN    NaN    NaN    NaN  \n",
       "3  ...   47.0   32.0   29.0   32.0   28.0   28.0   25.0    NaN    NaN    NaN  \n",
       "4  ...   92.0   91.0   94.0   99.0   90.0   78.0   70.0   77.0   70.0   62.0  \n",
       "5  ...    NaN    NaN    NaN    NaN    NaN    NaN    NaN    NaN    NaN    NaN  \n",
       "6  ...   90.0   90.0   90.0   90.0   90.0   90.0   90.0   90.0   90.0   90.0  \n",
       "7  ...    NaN    NaN    NaN    NaN    NaN    NaN    NaN    NaN    NaN    NaN  \n",
       "8  ...   56.0   26.0   15.0    4.0    2.0    2.0    2.0    1.0    1.0    NaN  \n",
       "9  ...    NaN    NaN    NaN    NaN    NaN    NaN    NaN    NaN    NaN    NaN  \n",
       "\n",
       "[10 rows x 40 columns]"
      ]
     },
     "execution_count": 17,
     "metadata": {},
     "output_type": "execute_result"
    }
   ],
   "source": [
    "bcg_df.head(10)"
   ]
  },
  {
   "cell_type": "code",
   "execution_count": 26,
   "metadata": {},
   "outputs": [
    {
     "data": {
      "text/plain": [
       "count    156.000000\n",
       "mean      90.737179\n",
       "std       11.706140\n",
       "min       26.000000\n",
       "25%       88.750000\n",
       "50%       95.000000\n",
       "75%       98.000000\n",
       "max       99.000000\n",
       "Name:  2018, dtype: float64"
      ]
     },
     "execution_count": 26,
     "metadata": {},
     "output_type": "execute_result"
    }
   ],
   "source": [
    "bcg_df[' 2018'].describe()"
   ]
  },
  {
   "cell_type": "code",
   "execution_count": 21,
   "metadata": {},
   "outputs": [
    {
     "data": {
      "text/plain": [
       "count    78.000000\n",
       "mean     58.192308\n",
       "std      30.362339\n",
       "min       2.000000\n",
       "25%      33.250000\n",
       "50%      61.500000\n",
       "75%      85.000000\n",
       "max      99.000000\n",
       "Name:  1980, dtype: float64"
      ]
     },
     "execution_count": 21,
     "metadata": {},
     "output_type": "execute_result"
    }
   ],
   "source": [
    "bcg_df[' 1980'].describe()"
   ]
  },
  {
   "cell_type": "code",
   "execution_count": 23,
   "metadata": {},
   "outputs": [
    {
     "data": {
      "text/plain": [
       "Index(['Country', 'Year', 'Status', 'Life expectancy ', 'Adult Mortality',\n",
       "       'infant deaths', 'Alcohol', 'percentage expenditure', 'Hepatitis B',\n",
       "       'Measles ', ' BMI ', 'under-five deaths ', 'Polio', 'Total expenditure',\n",
       "       'Diphtheria ', ' HIV/AIDS', 'GDP', 'Population',\n",
       "       ' thinness  1-19 years', ' thinness 5-9 years',\n",
       "       'Income composition of resources', 'Schooling'],\n",
       "      dtype='object')"
      ]
     },
     "execution_count": 23,
     "metadata": {},
     "output_type": "execute_result"
    }
   ],
   "source": [
    "life_expectance_df.columns"
   ]
  },
  {
   "cell_type": "code",
   "execution_count": 25,
   "metadata": {},
   "outputs": [
    {
     "data": {
      "text/plain": [
       "count    2938.000000\n",
       "mean     2007.518720\n",
       "std         4.613841\n",
       "min      2000.000000\n",
       "25%      2004.000000\n",
       "50%      2008.000000\n",
       "75%      2012.000000\n",
       "max      2015.000000\n",
       "Name: Year, dtype: float64"
      ]
     },
     "execution_count": 25,
     "metadata": {},
     "output_type": "execute_result"
    }
   ],
   "source": [
    "life_expectance_df['Year'].describe()\n"
   ]
  },
  {
   "cell_type": "code",
   "execution_count": 24,
   "metadata": {},
   "outputs": [
    {
     "data": {
      "text/html": [
       "<div>\n",
       "<style scoped>\n",
       "    .dataframe tbody tr th:only-of-type {\n",
       "        vertical-align: middle;\n",
       "    }\n",
       "\n",
       "    .dataframe tbody tr th {\n",
       "        vertical-align: top;\n",
       "    }\n",
       "\n",
       "    .dataframe thead th {\n",
       "        text-align: right;\n",
       "    }\n",
       "</style>\n",
       "<table border=\"1\" class=\"dataframe\">\n",
       "  <thead>\n",
       "    <tr style=\"text-align: right;\">\n",
       "      <th></th>\n",
       "      <th>Country</th>\n",
       "      <th>Year</th>\n",
       "      <th>Status</th>\n",
       "      <th>Life expectancy</th>\n",
       "      <th>Adult Mortality</th>\n",
       "      <th>infant deaths</th>\n",
       "      <th>Alcohol</th>\n",
       "      <th>percentage expenditure</th>\n",
       "      <th>Hepatitis B</th>\n",
       "      <th>Measles</th>\n",
       "      <th>...</th>\n",
       "      <th>Polio</th>\n",
       "      <th>Total expenditure</th>\n",
       "      <th>Diphtheria</th>\n",
       "      <th>HIV/AIDS</th>\n",
       "      <th>GDP</th>\n",
       "      <th>Population</th>\n",
       "      <th>thinness  1-19 years</th>\n",
       "      <th>thinness 5-9 years</th>\n",
       "      <th>Income composition of resources</th>\n",
       "      <th>Schooling</th>\n",
       "    </tr>\n",
       "  </thead>\n",
       "  <tbody>\n",
       "    <tr>\n",
       "      <th>0</th>\n",
       "      <td>Afghanistan</td>\n",
       "      <td>2015</td>\n",
       "      <td>Developing</td>\n",
       "      <td>65.0</td>\n",
       "      <td>263.0</td>\n",
       "      <td>62</td>\n",
       "      <td>0.01</td>\n",
       "      <td>71.279624</td>\n",
       "      <td>65.0</td>\n",
       "      <td>1154</td>\n",
       "      <td>...</td>\n",
       "      <td>6.0</td>\n",
       "      <td>8.16</td>\n",
       "      <td>65.0</td>\n",
       "      <td>0.1</td>\n",
       "      <td>584.259210</td>\n",
       "      <td>33736494.0</td>\n",
       "      <td>17.2</td>\n",
       "      <td>17.3</td>\n",
       "      <td>0.479</td>\n",
       "      <td>10.1</td>\n",
       "    </tr>\n",
       "    <tr>\n",
       "      <th>1</th>\n",
       "      <td>Afghanistan</td>\n",
       "      <td>2014</td>\n",
       "      <td>Developing</td>\n",
       "      <td>59.9</td>\n",
       "      <td>271.0</td>\n",
       "      <td>64</td>\n",
       "      <td>0.01</td>\n",
       "      <td>73.523582</td>\n",
       "      <td>62.0</td>\n",
       "      <td>492</td>\n",
       "      <td>...</td>\n",
       "      <td>58.0</td>\n",
       "      <td>8.18</td>\n",
       "      <td>62.0</td>\n",
       "      <td>0.1</td>\n",
       "      <td>612.696514</td>\n",
       "      <td>327582.0</td>\n",
       "      <td>17.5</td>\n",
       "      <td>17.5</td>\n",
       "      <td>0.476</td>\n",
       "      <td>10.0</td>\n",
       "    </tr>\n",
       "    <tr>\n",
       "      <th>2</th>\n",
       "      <td>Afghanistan</td>\n",
       "      <td>2013</td>\n",
       "      <td>Developing</td>\n",
       "      <td>59.9</td>\n",
       "      <td>268.0</td>\n",
       "      <td>66</td>\n",
       "      <td>0.01</td>\n",
       "      <td>73.219243</td>\n",
       "      <td>64.0</td>\n",
       "      <td>430</td>\n",
       "      <td>...</td>\n",
       "      <td>62.0</td>\n",
       "      <td>8.13</td>\n",
       "      <td>64.0</td>\n",
       "      <td>0.1</td>\n",
       "      <td>631.744976</td>\n",
       "      <td>31731688.0</td>\n",
       "      <td>17.7</td>\n",
       "      <td>17.7</td>\n",
       "      <td>0.470</td>\n",
       "      <td>9.9</td>\n",
       "    </tr>\n",
       "    <tr>\n",
       "      <th>3</th>\n",
       "      <td>Afghanistan</td>\n",
       "      <td>2012</td>\n",
       "      <td>Developing</td>\n",
       "      <td>59.5</td>\n",
       "      <td>272.0</td>\n",
       "      <td>69</td>\n",
       "      <td>0.01</td>\n",
       "      <td>78.184215</td>\n",
       "      <td>67.0</td>\n",
       "      <td>2787</td>\n",
       "      <td>...</td>\n",
       "      <td>67.0</td>\n",
       "      <td>8.52</td>\n",
       "      <td>67.0</td>\n",
       "      <td>0.1</td>\n",
       "      <td>669.959000</td>\n",
       "      <td>3696958.0</td>\n",
       "      <td>17.9</td>\n",
       "      <td>18.0</td>\n",
       "      <td>0.463</td>\n",
       "      <td>9.8</td>\n",
       "    </tr>\n",
       "    <tr>\n",
       "      <th>4</th>\n",
       "      <td>Afghanistan</td>\n",
       "      <td>2011</td>\n",
       "      <td>Developing</td>\n",
       "      <td>59.2</td>\n",
       "      <td>275.0</td>\n",
       "      <td>71</td>\n",
       "      <td>0.01</td>\n",
       "      <td>7.097109</td>\n",
       "      <td>68.0</td>\n",
       "      <td>3013</td>\n",
       "      <td>...</td>\n",
       "      <td>68.0</td>\n",
       "      <td>7.87</td>\n",
       "      <td>68.0</td>\n",
       "      <td>0.1</td>\n",
       "      <td>63.537231</td>\n",
       "      <td>2978599.0</td>\n",
       "      <td>18.2</td>\n",
       "      <td>18.2</td>\n",
       "      <td>0.454</td>\n",
       "      <td>9.5</td>\n",
       "    </tr>\n",
       "  </tbody>\n",
       "</table>\n",
       "<p>5 rows × 22 columns</p>\n",
       "</div>"
      ],
      "text/plain": [
       "       Country  Year      Status  Life expectancy   Adult Mortality  \\\n",
       "0  Afghanistan  2015  Developing              65.0            263.0   \n",
       "1  Afghanistan  2014  Developing              59.9            271.0   \n",
       "2  Afghanistan  2013  Developing              59.9            268.0   \n",
       "3  Afghanistan  2012  Developing              59.5            272.0   \n",
       "4  Afghanistan  2011  Developing              59.2            275.0   \n",
       "\n",
       "   infant deaths  Alcohol  percentage expenditure  Hepatitis B  Measles   ...  \\\n",
       "0             62     0.01               71.279624         65.0      1154  ...   \n",
       "1             64     0.01               73.523582         62.0       492  ...   \n",
       "2             66     0.01               73.219243         64.0       430  ...   \n",
       "3             69     0.01               78.184215         67.0      2787  ...   \n",
       "4             71     0.01                7.097109         68.0      3013  ...   \n",
       "\n",
       "   Polio  Total expenditure  Diphtheria    HIV/AIDS         GDP  Population  \\\n",
       "0    6.0               8.16         65.0        0.1  584.259210  33736494.0   \n",
       "1   58.0               8.18         62.0        0.1  612.696514    327582.0   \n",
       "2   62.0               8.13         64.0        0.1  631.744976  31731688.0   \n",
       "3   67.0               8.52         67.0        0.1  669.959000   3696958.0   \n",
       "4   68.0               7.87         68.0        0.1   63.537231   2978599.0   \n",
       "\n",
       "    thinness  1-19 years   thinness 5-9 years  \\\n",
       "0                   17.2                 17.3   \n",
       "1                   17.5                 17.5   \n",
       "2                   17.7                 17.7   \n",
       "3                   17.9                 18.0   \n",
       "4                   18.2                 18.2   \n",
       "\n",
       "   Income composition of resources  Schooling  \n",
       "0                            0.479       10.1  \n",
       "1                            0.476       10.0  \n",
       "2                            0.470        9.9  \n",
       "3                            0.463        9.8  \n",
       "4                            0.454        9.5  \n",
       "\n",
       "[5 rows x 22 columns]"
      ]
     },
     "execution_count": 24,
     "metadata": {},
     "output_type": "execute_result"
    }
   ],
   "source": [
    "life_expectance_df.head()"
   ]
  },
  {
   "cell_type": "code",
   "execution_count": null,
   "metadata": {},
   "outputs": [],
   "source": []
  }
 ],
 "metadata": {
  "kernelspec": {
   "display_name": "Python 3",
   "language": "python",
   "name": "python3"
  },
  "language_info": {
   "codemirror_mode": {
    "name": "ipython",
    "version": 3
   },
   "file_extension": ".py",
   "mimetype": "text/x-python",
   "name": "python",
   "nbconvert_exporter": "python",
   "pygments_lexer": "ipython3",
   "version": "3.7.3"
  }
 },
 "nbformat": 4,
 "nbformat_minor": 4
}
